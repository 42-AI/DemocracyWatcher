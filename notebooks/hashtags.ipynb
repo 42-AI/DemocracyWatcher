{
 "cells": [
  {
   "cell_type": "code",
   "execution_count": 81,
   "id": "c745aa8c-d9f7-4d28-8722-2f657801ff1a",
   "metadata": {},
   "outputs": [],
   "source": [
    "import pandas as pd"
   ]
  },
  {
   "cell_type": "code",
   "execution_count": 82,
   "id": "98284a1a-8ac7-448a-bdda-eed5cf32013a",
   "metadata": {},
   "outputs": [
    {
     "name": "stdout",
     "output_type": "stream",
     "text": [
      "    Unnamed: 0 candidate      time             tweet_id  \\\n",
      "0         1946    Macron  21:50:31  1518346676582367236   \n",
      "1         1576    Macron  18:14:12  1518292235632132101   \n",
      "2         1796    Macron  19:49:00  1518316092640350210   \n",
      "3          478    Macron  18:26:22  1518295297054720000   \n",
      "4         1683    Macron  18:33:25  1518297071589236738   \n",
      "..         ...       ...       ...                  ...   \n",
      "95         328    Macron  19:52:30  1518316974908059648   \n",
      "96         136    Macron  11:15:18  1518186817765486594   \n",
      "97         962    Macron  18:10:32  1518291312583360514   \n",
      "98        1391    Macron  18:18:48  1518293392807112711   \n",
      "99        1511    Macron  18:20:37  1518293851328364545   \n",
      "\n",
      "                                                 text lang  retweet_count  \\\n",
      "0   Félicitations à @EmmanuelMacron, un vrai ami d...   fr           8978   \n",
      "1   Cher @EmmanuelMacron, toutes mes félicitations...   fr           5478   \n",
      "2   Entendre les opposants à @EmmanuelMacron LFI e...   fr           1461   \n",
      "3   Les 58 % d’@EmmanuelMacron c’est aussi un joli...   fr            843   \n",
      "4   Hormis @RoyalSegolene, il y a presque tout le ...   fr            809   \n",
      "..                                                ...  ...            ...   \n",
      "95  Vous ne serez JAMAIS mon président monsieur @E...   fr             35   \n",
      "96  Soyons clairs @EmmanuelMacron : aujourd'hui, c...   fr             33   \n",
      "97  On arrive pour ta leugeu le 12 Juin maintenant...   fr             32   \n",
      "98  .@EmmanuelMacron Cette confirmation du choix p...   fr             32   \n",
      "99  5 ans de mandat d’@EmmanuelMacron c’était : \\n...   fr             31   \n",
      "\n",
      "    Positive  Negative  Neutral  \n",
      "0          0         0        0  \n",
      "1          0         0        0  \n",
      "2          0         0        0  \n",
      "3          0         0        0  \n",
      "4          0         0        0  \n",
      "..       ...       ...      ...  \n",
      "95         0         0        0  \n",
      "96         0         0        0  \n",
      "97         0         0        0  \n",
      "98         0         0        0  \n",
      "99         0         0        0  \n",
      "\n",
      "[100 rows x 10 columns]\n",
      "    Unnamed: 0 candidate      time             tweet_id  \\\n",
      "0           81    Le Pen  12:02:33  1518198707652640769   \n",
      "1          104    Le Pen  13:27:02  1518219969187745792   \n",
      "2          329    Le Pen  07:18:36  1518127250750726144   \n",
      "3         1360    Le Pen  20:30:43  1518326593269211145   \n",
      "4          621    Le Pen  17:57:32  1518288041722322944   \n",
      "..         ...       ...       ...                  ...   \n",
      "95        1227    Le Pen  18:10:51  1518291395496263687   \n",
      "96        1132    Le Pen  18:05:07  1518289950248157184   \n",
      "97         999    Le Pen  18:23:47  1518294650418876422   \n",
      "98        1177    Le Pen  19:18:08  1518308325707898883   \n",
      "99         570    Le Pen  18:01:49  1518289119734030348   \n",
      "\n",
      "                                                 text lang  retweet_count  \\\n",
      "0   J'en appelle à @Arcom_fr contre @BFMTV qui dep...   fr           1222   \n",
      "1   Ma mère, 74ans, fatiguée, a descendu 7 étages ...   fr            866   \n",
      "2   La Guadeloupe montre l'exemple !!\\nPlus de 75/...   fr            775   \n",
      "3   Il n’y a pas de fatalité à la défaite. Notre r...   fr            650   \n",
      "4   Je suis très triste pour @ZemmourEric qui dès ...   fr            405   \n",
      "..                                                ...  ...            ...   \n",
      "95  Bon du coup @MLP_officiel dix ans de candidatu...   fr              9   \n",
      "96  Merci Marine @MLP_officiel pour tout ce que vo...   fr              9   \n",
      "97  3 défaites @MLP_officiel. Ayez la dignité de v...   fr              8   \n",
      "98  Il faut expédier @JLMelenchon avec sa copine @...   fr              8   \n",
      "99  ça fait quoi d’être un échec permanent ? @MLP_...   fr              8   \n",
      "\n",
      "    Positive  Negative  Neutral  \n",
      "0          0         0        0  \n",
      "1          0         0        0  \n",
      "2          0         0        0  \n",
      "3          0         0        0  \n",
      "4          0         0        0  \n",
      "..       ...       ...      ...  \n",
      "95         0         0        0  \n",
      "96         0         0        0  \n",
      "97         0         0        0  \n",
      "98         0         0        0  \n",
      "99         0         0        0  \n",
      "\n",
      "[100 rows x 10 columns]\n"
     ]
    }
   ],
   "source": [
    "csv_lepen = '../data/processed/twitter/test/unlabeled/0424/lepen_0424_100_unlabeled.csv'\n",
    "csv_macron = '../data/processed/twitter/test/unlabeled/0424/macron_0424_100_unlabeled.csv'\n",
    "\n",
    "df_macron = pd.read_csv(csv_macron)\n",
    "df_lepen = pd.read_csv(csv_lepen)\n",
    "\n",
    "print(df_macron)\n",
    "print(df_lepen)"
   ]
  },
  {
   "cell_type": "code",
   "execution_count": 83,
   "id": "2a183090-706c-4836-b47c-c57a0d2d7534",
   "metadata": {},
   "outputs": [
    {
     "name": "stdout",
     "output_type": "stream",
     "text": [
      "('#Marine2022', '#MarinePresidenteDeTousLesFrancais', '#JeVoteMarine', '#MacronDehors', '#McKingseyGate', '#MarinePresidente', '#Arrogant', '#MarinePresidente2022', '#mackinsey', '#TousSaufMacron', '#marine2022', '#MacronMenteur', '#MarinePrésidente', '#SansLui', '#BarrageAMacron', '#TousContreMacron', '#MarineLePenPresidente', '#ToutsaufMacron', '#ToutSaufMacron', '#DimancheJeVoteMarine', '#Macronéron', '#Marine', '#Le24JeVoteMarine')\n",
      "('#NiMarineNiLePen', '#Macron2022', '#JeVoteMacron', '#JeVoteMacronAuDeuxiemeTour', '#JeVoteMacron')\n",
      "('#NiMacronNiLePenAbstention',)\n",
      "('#Marine2022', '#MarinePresidenteDeTousLesFrancais', '#JeVoteMarine', '#MacronDehors', '#McKingseyGate', '#MarinePresidente', '#Arrogant', '#MarinePresidente2022', '#mackinsey', '#TousSaufMacron', '#marine2022', '#MacronMenteur', '#MarinePrésidente', '#SansLui', '#BarrageAMacron', '#TousContreMacron', '#MarineLePenPresidente', '#ToutsaufMacron', '#ToutSaufMacron', '#DimancheJeVoteMarine', '#Macronéron', '#Marine', '#Le24JeVoteMarine', '#NiMarineNiLePen', '#Macron2022', '#JeVoteMacron', '#JeVoteMacronAuDeuxiemeTour', '#JeVoteMacron', '#NiMacronNiLePenAbstention', '#LCI', '#bfm', '#législative', '#Mélenchon', '#Ukraine️', '#Presidentielle2022', '#France', '#EndViolenceAgainstWomen', '#WomensRightsAreHumanRights', '#francetelevisions', '#2ndtour', '#FranceElection2022', '#electionspresidentielles2022', '#emmanuelmacron', '#Sondage', '#Macron', '#LePen', '#Crimée', '#gauche', '#presidentielles2022', '#electionpresidentielle2022:', '#Zelensky', '#Crimée,', '#macron', '#Modem', '#LR', '#Russie', '#Presidentielles', '#entreprises', '#FreeAssange', '#Reconquete', '#Macron,', '#SaveInasAli', '#debatmacronlepen', '#Elections2022', '#FleuryMerogis:', '#SaintDenis', '#RUssie.', '#FDO', '#Scandaleux', '#Vote', '#Ukraine', '#2022LeDébat', '#legislatives2022', '#legislatives', '#covid19', '#AppolineDeMalherbe', '#philipot', '#Vote2022', '#retraite', '#ecole', '#MACRON', '#TahaBouhafs', '#VotezUtile', '#miguet2022', '#trump', '#pompeo', '#Bolsonaro', '#maduro', '#kimjongun', '#xixiping', '#peuple', '#vote,', '#gagne', '#Blanc', '#france', '#ukraine', '#tpe', '#pme', '#eti', '#QPV', '#Quartiers2030', '#sécurité,', '#AVS', '#uneconnerie-', '#France,', '#symphonieeuropeenne', '#MarineLePen', '#Darmanin', '#ReflechiPlusQueCeQueTuBrossesTesDents', '#RCF')\n"
     ]
    }
   ],
   "source": [
    "LEPEN=(\"#Marine2022\", \"#MarinePresidenteDeTousLesFrancais\", \"#JeVoteMarine\", \"#MacronDehors\",\n",
    "    \"#McKingseyGate\", \"#MarinePresidente\", \"#Arrogant\", \"#MarinePresidente2022\",\n",
    "    \"#mackinsey\", \"#TousSaufMacron\", \"#marine2022\", \"#MacronMenteur\", \"#MarinePrésidente\",\n",
    "    \"#SansLui\", \"#BarrageAMacron\", \"#TousContreMacron\", \"#MarineLePenPresidente\",\n",
    "    \"#ToutsaufMacron\", \"#ToutSaufMacron\", \"#DimancheJeVoteMarine\", \"#Macronéron\",\n",
    "    \"#Marine\", \"#Le24JeVoteMarine\")\n",
    "print(LEPEN)\n",
    "\n",
    "MACRON=(\"#NiMarineNiLePen\", \"#Macron2022\", \"#JeVoteMacron\", \"#JeVoteMacronAuDeuxiemeTour\",\n",
    "    \"#JeVoteMacron\")\n",
    "print(MACRON)\n",
    "\n",
    "NEG=(\"#NiMacronNiLePenAbstention\",)\n",
    "print(NEG)\n",
    "\n",
    "UNKNOWN = (\"#LCI\", \"#bfm\", \"#législative\", \"#Mélenchon\", \"#Ukraine️\", \"#Presidentielle2022\", \"#France\", \"#EndViolenceAgainstWomen\", \"#WomensRightsAreHumanRights\",\n",
    "           \"#francetelevisions\", \"#2ndtour\", \"#FranceElection2022\", \"#electionspresidentielles2022\", \"#emmanuelmacron\", \"#Sondage\", \"#Macron\", \"#LePen\", \"#Crimée\",\n",
    "          \"#gauche\", \"#presidentielles2022\", \"#electionpresidentielle2022:\", \"#Zelensky\", '#Crimée,', '#macron', '#Modem', '#LR', '#Russie', '#Presidentielles', \n",
    "          '#entreprises', '#FreeAssange', '#Reconquete', '#Macron,', '#SaveInasAli', '#debatmacronlepen', '#Elections2022', '#FleuryMerogis:', '#SaintDenis',\n",
    "          '#RUssie.', '#FDO', '#Scandaleux', '#Vote', '#Ukraine', '#2022LeDébat', '#legislatives2022', '#legislatives', '#covid19', '#AppolineDeMalherbe', '#philipot', '#Vote2022',\n",
    "          '#retraite', '#ecole', '#MACRON', '#TahaBouhafs', '#VotezUtile', '#miguet2022', '#trump', '#pompeo', '#Bolsonaro', '#maduro', '#kimjongun', '#xixiping',\n",
    "          '#peuple', '#vote,', '#gagne', '#Blanc', '#france', '#ukraine', '#tpe', '#pme', '#eti', '#QPV', '#Quartiers2030', '#sécurité,', '#AVS', '#uneconnerie-',\n",
    "          '#France,', '#symphonieeuropeenne', '#MarineLePen', '#Darmanin', '#ReflechiPlusQueCeQueTuBrossesTesDents', '#RCF')\n",
    "\n",
    "OLD = (LEPEN + MACRON) + NEG + UNKNOWN\n",
    "print(OLD)"
   ]
  },
  {
   "cell_type": "code",
   "execution_count": 84,
   "id": "04034e11-368e-4913-997e-fd7aa18704a0",
   "metadata": {},
   "outputs": [
    {
     "name": "stdout",
     "output_type": "stream",
     "text": [
      "['#effetssecondaires,', '#SoignantsSuspendus', '#Rivotril', '#Mauricette', '#Melenchon', '#RadioLondres', '#Nice06,', '#BFMTV', '#Francophonie', '#Dunoyer', '#Poadja', '#5ansdeplus', '#avecvous,', '#Gabon', '#France.', '#avenir', '#UE', '#Haine!', '#troisièmetour', '#AEC', '#MelenchonAMatignon', '#France2', '#2emeTour.', '#RapatriezLesTous.', '#Haïti', '#Nice06', '#Guyane', '#Guadeloupe', '#Martinique', '#ReconqueteContinue', '#TeamCastor', '#PasNotreProjet.']\n"
     ]
    }
   ],
   "source": [
    "list_macron = []\n",
    "for _,row in df_macron.iterrows():\n",
    "    temp = row.text.split()\n",
    "    for word in temp:\n",
    "        if word.startswith('#') and word not in list_macron  and word not in OLD:\n",
    "            list_macron.append(word)\n",
    "            \n",
    "print(list_macron)"
   ]
  },
  {
   "cell_type": "code",
   "execution_count": 85,
   "id": "d1c69e45-a61d-4c63-9111-0117030158af",
   "metadata": {},
   "outputs": [
    {
     "name": "stdout",
     "output_type": "stream",
     "text": [
      "['#electionspresidentielles2022.', '#BFM', '#RN', '#France.', '#RadioLondres', '#presidentielle2022', '#législatives', '#MerciMarine', '#Reconquete2022', '#TouSaufMacron', '#legislatives2022?', '#Unionnationale', '#Zemmour', '#RassemblementNational', '#Nice', '#Nice06', '#Reconquête', '#UnionDesDroites', '#RadioVichy', '#stopfacho', '#stoplepen', '#GuerreEnUkraine', '#guerrecivile', '#Ebola', '#Moissac', '#3011ThStreet', '#Elysee2022', '#Bollore,', '#ZemmourToujours', '#Macron.', '#Presidentielle2007', '#outremers', '#Guadeloupe', '#Guyane', '#Reunion', '#Martinique', '#ReconqueteContinue', '#AbstentionMassive', '#zemmour', '#MacronLeFou', '#lepen', '#HautsdeSeine', '#Accablant', '#Marinenoussauve', '#marinelepen2022', '#FallaitVoterZemmour', '#toutsaufmacron', '#GiletsJaunes']\n"
     ]
    }
   ],
   "source": [
    "list_lepen = []\n",
    "for _,row in df_lepen.iterrows():\n",
    "    temp = row.text.split()\n",
    "    for word in temp:\n",
    "        if word.startswith('#') and word not in list_lepen and word not in OLD:\n",
    "            list_lepen.append(word)\n",
    "            \n",
    "print(list_lepen)"
   ]
  },
  {
   "cell_type": "code",
   "execution_count": null,
   "id": "4dcbe64c-9378-4ab3-80eb-5bf045ded6c3",
   "metadata": {},
   "outputs": [],
   "source": []
  }
 ],
 "metadata": {
  "kernelspec": {
   "display_name": "Python 3 (ipykernel)",
   "language": "python",
   "name": "python3"
  },
  "language_info": {
   "codemirror_mode": {
    "name": "ipython",
    "version": 3
   },
   "file_extension": ".py",
   "mimetype": "text/x-python",
   "name": "python",
   "nbconvert_exporter": "python",
   "pygments_lexer": "ipython3",
   "version": "3.8.10"
  }
 },
 "nbformat": 4,
 "nbformat_minor": 5
}
