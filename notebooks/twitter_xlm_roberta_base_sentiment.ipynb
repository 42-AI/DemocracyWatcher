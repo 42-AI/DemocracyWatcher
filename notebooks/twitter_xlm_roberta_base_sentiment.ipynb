{
 "cells": [
  {
   "cell_type": "code",
   "execution_count": 50,
   "id": "0773c0e0-cda0-46a9-8d54-18ea7a351b2f",
   "metadata": {},
   "outputs": [],
   "source": [
    "from transformers import pipeline\n",
    "\n",
    "model_path = \"cardiffnlp/twitter-xlm-roberta-base-sentiment\"\n",
    "name = \"twitter-xlm-roberta-base-sentiment\"\n",
    "pipeline = pipeline(\"sentiment-analysis\", model=model_path, tokenizer=model_path)"
   ]
  },
  {
   "cell_type": "code",
   "execution_count": 2,
   "id": "0f2a108d-156c-44bb-9290-16de7163b733",
   "metadata": {},
   "outputs": [
    {
     "data": {
      "text/plain": [
       "[{'label': 'Positive', 'score': 0.9387916922569275}]"
      ]
     },
     "execution_count": 2,
     "metadata": {},
     "output_type": "execute_result"
    }
   ],
   "source": [
    "pipeline(\"Bonjour je suis tres content!\")"
   ]
  },
  {
   "cell_type": "code",
   "execution_count": 3,
   "id": "2347ec2b-8e7d-4960-a5a0-bb1bfafd7289",
   "metadata": {},
   "outputs": [
    {
     "data": {
      "text/plain": [
       "[{'label': 'Positive', 'score': 0.921221911907196}]"
      ]
     },
     "execution_count": 3,
     "metadata": {},
     "output_type": "execute_result"
    }
   ],
   "source": [
    "pipeline(\"X est un tres bon president.\")"
   ]
  },
  {
   "cell_type": "code",
   "execution_count": 4,
   "id": "bfaee7fd-e4ce-4ec5-aa94-732d35d3020c",
   "metadata": {},
   "outputs": [
    {
     "data": {
      "text/plain": [
       "[{'label': 'Negative', 'score': 0.9653193950653076}]"
      ]
     },
     "execution_count": 4,
     "metadata": {},
     "output_type": "execute_result"
    }
   ],
   "source": [
    "pipeline(\"X est le pire president.\")"
   ]
  },
  {
   "cell_type": "code",
   "execution_count": 5,
   "id": "3ccc2424-a2aa-4cfb-8728-2e464ac5d898",
   "metadata": {},
   "outputs": [],
   "source": [
    "from datasets import load_dataset"
   ]
  },
  {
   "cell_type": "code",
   "execution_count": 6,
   "id": "f1b62e4f-d0fe-439f-9fea-13ec8114ce12",
   "metadata": {},
   "outputs": [
    {
     "name": "stderr",
     "output_type": "stream",
     "text": [
      "Reusing dataset allocine_dataset (/home/gusalle/.cache/huggingface/datasets/allocine_dataset/allocine/1.0.0/91f700d606838c22c5c370846746e60503219d0c1f16ed96bfd1fa19a73458eb)\n"
     ]
    }
   ],
   "source": [
    "dataset = load_dataset('allocine', split='test[:100]')"
   ]
  },
  {
   "cell_type": "code",
   "execution_count": 7,
   "id": "5379756d-9e05-4949-b99b-a2dd4c659553",
   "metadata": {},
   "outputs": [
    {
     "data": {
      "text/plain": [
       "Dataset({\n",
       "    features: ['review', 'label'],\n",
       "    num_rows: 100\n",
       "})"
      ]
     },
     "execution_count": 7,
     "metadata": {},
     "output_type": "execute_result"
    }
   ],
   "source": [
    "dataset"
   ]
  },
  {
   "cell_type": "code",
   "execution_count": 8,
   "id": "637b80e9-051b-456b-867f-c7e49a1b8719",
   "metadata": {},
   "outputs": [],
   "source": [
    "import pandas as pd"
   ]
  },
  {
   "cell_type": "code",
   "execution_count": 33,
   "id": "2d4708ae-f1ce-4846-aecf-71318b82ffa8",
   "metadata": {},
   "outputs": [],
   "source": [
    "df = pd.DataFrame.from_dict(dataset)"
   ]
  },
  {
   "cell_type": "code",
   "execution_count": 34,
   "id": "1613b072-0dd0-4a3a-ba20-9687b3939711",
   "metadata": {},
   "outputs": [
    {
     "data": {
      "text/html": [
       "<div>\n",
       "<style scoped>\n",
       "    .dataframe tbody tr th:only-of-type {\n",
       "        vertical-align: middle;\n",
       "    }\n",
       "\n",
       "    .dataframe tbody tr th {\n",
       "        vertical-align: top;\n",
       "    }\n",
       "\n",
       "    .dataframe thead th {\n",
       "        text-align: right;\n",
       "    }\n",
       "</style>\n",
       "<table border=\"1\" class=\"dataframe\">\n",
       "  <thead>\n",
       "    <tr style=\"text-align: right;\">\n",
       "      <th></th>\n",
       "      <th>review</th>\n",
       "      <th>label</th>\n",
       "    </tr>\n",
       "  </thead>\n",
       "  <tbody>\n",
       "    <tr>\n",
       "      <th>0</th>\n",
       "      <td>Magnifique épopée, une belle histoire, touchan...</td>\n",
       "      <td>1</td>\n",
       "    </tr>\n",
       "    <tr>\n",
       "      <th>1</th>\n",
       "      <td>Je n'ai pas aimé mais pourtant je lui mets 2 é...</td>\n",
       "      <td>0</td>\n",
       "    </tr>\n",
       "    <tr>\n",
       "      <th>2</th>\n",
       "      <td>Un dessin animé qui brille par sa féerie et se...</td>\n",
       "      <td>1</td>\n",
       "    </tr>\n",
       "    <tr>\n",
       "      <th>3</th>\n",
       "      <td>Si c'est là le renouveau du cinéma français, c...</td>\n",
       "      <td>0</td>\n",
       "    </tr>\n",
       "    <tr>\n",
       "      <th>4</th>\n",
       "      <td>Et pourtant on s’en Doutait !Second volet très...</td>\n",
       "      <td>0</td>\n",
       "    </tr>\n",
       "    <tr>\n",
       "      <th>...</th>\n",
       "      <td>...</td>\n",
       "      <td>...</td>\n",
       "    </tr>\n",
       "    <tr>\n",
       "      <th>95</th>\n",
       "      <td>Cette satire sur le fuhrer est drôle, un humou...</td>\n",
       "      <td>0</td>\n",
       "    </tr>\n",
       "    <tr>\n",
       "      <th>96</th>\n",
       "      <td>Ce documentaire m'a complètement retournée. Un...</td>\n",
       "      <td>1</td>\n",
       "    </tr>\n",
       "    <tr>\n",
       "      <th>97</th>\n",
       "      <td>Nul. Vraiment nul. Même si le synopsis peut êt...</td>\n",
       "      <td>0</td>\n",
       "    </tr>\n",
       "    <tr>\n",
       "      <th>98</th>\n",
       "      <td>Le point négatif c'est que ce film n'est pas u...</td>\n",
       "      <td>1</td>\n",
       "    </tr>\n",
       "    <tr>\n",
       "      <th>99</th>\n",
       "      <td>02 / 20 Mon dieux ! Un film vraiment hideux , ...</td>\n",
       "      <td>0</td>\n",
       "    </tr>\n",
       "  </tbody>\n",
       "</table>\n",
       "<p>100 rows × 2 columns</p>\n",
       "</div>"
      ],
      "text/plain": [
       "                                               review  label\n",
       "0   Magnifique épopée, une belle histoire, touchan...      1\n",
       "1   Je n'ai pas aimé mais pourtant je lui mets 2 é...      0\n",
       "2   Un dessin animé qui brille par sa féerie et se...      1\n",
       "3   Si c'est là le renouveau du cinéma français, c...      0\n",
       "4   Et pourtant on s’en Doutait !Second volet très...      0\n",
       "..                                                ...    ...\n",
       "95  Cette satire sur le fuhrer est drôle, un humou...      0\n",
       "96  Ce documentaire m'a complètement retournée. Un...      1\n",
       "97  Nul. Vraiment nul. Même si le synopsis peut êt...      0\n",
       "98  Le point négatif c'est que ce film n'est pas u...      1\n",
       "99  02 / 20 Mon dieux ! Un film vraiment hideux , ...      0\n",
       "\n",
       "[100 rows x 2 columns]"
      ]
     },
     "execution_count": 34,
     "metadata": {},
     "output_type": "execute_result"
    }
   ],
   "source": [
    "df"
   ]
  },
  {
   "cell_type": "code",
   "execution_count": 45,
   "id": "08c1d8df-66db-4356-986c-1f6a7e14e667",
   "metadata": {},
   "outputs": [
    {
     "data": {
      "text/plain": [
       "0    [{'label': 'Positive', 'score': 0.951051592826...\n",
       "1    [{'label': 'Positive', 'score': 0.680493354797...\n",
       "2    [{'label': 'Positive', 'score': 0.909659028053...\n",
       "3    [{'label': 'Negative', 'score': 0.957792937755...\n",
       "4    [{'label': 'Negative', 'score': 0.969421982765...\n",
       "5    [{'label': 'Positive', 'score': 0.464340627193...\n",
       "6    [{'label': 'Positive', 'score': 0.885806977748...\n",
       "7    [{'label': 'Positive', 'score': 0.641274034976...\n",
       "8    [{'label': 'Positive', 'score': 0.956043303012...\n",
       "9    [{'label': 'Negative', 'score': 0.671130597591...\n",
       "dtype: object"
      ]
     },
     "execution_count": 45,
     "metadata": {},
     "output_type": "execute_result"
    }
   ],
   "source": [
    "predict = df.apply(lambda row : pipeline(row['review']), axis=1)\n",
    "predict[:10]"
   ]
  },
  {
   "cell_type": "code",
   "execution_count": 46,
   "id": "f0c6a3d4-c45f-41bd-89c6-49838dabc3d3",
   "metadata": {},
   "outputs": [
    {
     "data": {
      "text/html": [
       "<div>\n",
       "<style scoped>\n",
       "    .dataframe tbody tr th:only-of-type {\n",
       "        vertical-align: middle;\n",
       "    }\n",
       "\n",
       "    .dataframe tbody tr th {\n",
       "        vertical-align: top;\n",
       "    }\n",
       "\n",
       "    .dataframe thead th {\n",
       "        text-align: right;\n",
       "    }\n",
       "</style>\n",
       "<table border=\"1\" class=\"dataframe\">\n",
       "  <thead>\n",
       "    <tr style=\"text-align: right;\">\n",
       "      <th></th>\n",
       "      <th>review</th>\n",
       "      <th>label</th>\n",
       "      <th>y</th>\n",
       "    </tr>\n",
       "  </thead>\n",
       "  <tbody>\n",
       "    <tr>\n",
       "      <th>0</th>\n",
       "      <td>Magnifique épopée, une belle histoire, touchan...</td>\n",
       "      <td>1</td>\n",
       "      <td>1</td>\n",
       "    </tr>\n",
       "    <tr>\n",
       "      <th>1</th>\n",
       "      <td>Je n'ai pas aimé mais pourtant je lui mets 2 é...</td>\n",
       "      <td>0</td>\n",
       "      <td>1</td>\n",
       "    </tr>\n",
       "    <tr>\n",
       "      <th>2</th>\n",
       "      <td>Un dessin animé qui brille par sa féerie et se...</td>\n",
       "      <td>1</td>\n",
       "      <td>1</td>\n",
       "    </tr>\n",
       "    <tr>\n",
       "      <th>3</th>\n",
       "      <td>Si c'est là le renouveau du cinéma français, c...</td>\n",
       "      <td>0</td>\n",
       "      <td>0</td>\n",
       "    </tr>\n",
       "    <tr>\n",
       "      <th>4</th>\n",
       "      <td>Et pourtant on s’en Doutait !Second volet très...</td>\n",
       "      <td>0</td>\n",
       "      <td>0</td>\n",
       "    </tr>\n",
       "    <tr>\n",
       "      <th>...</th>\n",
       "      <td>...</td>\n",
       "      <td>...</td>\n",
       "      <td>...</td>\n",
       "    </tr>\n",
       "    <tr>\n",
       "      <th>95</th>\n",
       "      <td>Cette satire sur le fuhrer est drôle, un humou...</td>\n",
       "      <td>0</td>\n",
       "      <td>1</td>\n",
       "    </tr>\n",
       "    <tr>\n",
       "      <th>96</th>\n",
       "      <td>Ce documentaire m'a complètement retournée. Un...</td>\n",
       "      <td>1</td>\n",
       "      <td>1</td>\n",
       "    </tr>\n",
       "    <tr>\n",
       "      <th>97</th>\n",
       "      <td>Nul. Vraiment nul. Même si le synopsis peut êt...</td>\n",
       "      <td>0</td>\n",
       "      <td>0</td>\n",
       "    </tr>\n",
       "    <tr>\n",
       "      <th>98</th>\n",
       "      <td>Le point négatif c'est que ce film n'est pas u...</td>\n",
       "      <td>1</td>\n",
       "      <td>0</td>\n",
       "    </tr>\n",
       "    <tr>\n",
       "      <th>99</th>\n",
       "      <td>02 / 20 Mon dieux ! Un film vraiment hideux , ...</td>\n",
       "      <td>0</td>\n",
       "      <td>0</td>\n",
       "    </tr>\n",
       "  </tbody>\n",
       "</table>\n",
       "<p>100 rows × 3 columns</p>\n",
       "</div>"
      ],
      "text/plain": [
       "                                               review  label  y\n",
       "0   Magnifique épopée, une belle histoire, touchan...      1  1\n",
       "1   Je n'ai pas aimé mais pourtant je lui mets 2 é...      0  1\n",
       "2   Un dessin animé qui brille par sa féerie et se...      1  1\n",
       "3   Si c'est là le renouveau du cinéma français, c...      0  0\n",
       "4   Et pourtant on s’en Doutait !Second volet très...      0  0\n",
       "..                                                ...    ... ..\n",
       "95  Cette satire sur le fuhrer est drôle, un humou...      0  1\n",
       "96  Ce documentaire m'a complètement retournée. Un...      1  1\n",
       "97  Nul. Vraiment nul. Même si le synopsis peut êt...      0  0\n",
       "98  Le point négatif c'est que ce film n'est pas u...      1  0\n",
       "99  02 / 20 Mon dieux ! Un film vraiment hideux , ...      0  0\n",
       "\n",
       "[100 rows x 3 columns]"
      ]
     },
     "execution_count": 46,
     "metadata": {},
     "output_type": "execute_result"
    }
   ],
   "source": [
    "def convert(label):\n",
    "    if label == 'Positive':\n",
    "        return 1\n",
    "    elif label == 'Negative':\n",
    "        return 0\n",
    "    else:\n",
    "        return -1\n",
    "df['y'] = predict.apply(lambda row : convert(row[0]['label']))\n",
    "df"
   ]
  },
  {
   "cell_type": "code",
   "execution_count": 48,
   "id": "54e451e7-7ad2-43a7-9c3d-0f19cd2d5745",
   "metadata": {},
   "outputs": [
    {
     "data": {
      "text/plain": [
       "80"
      ]
     },
     "execution_count": 48,
     "metadata": {},
     "output_type": "execute_result"
    }
   ],
   "source": [
    "true_y = df[(df['y'] == df['label'])].shape[0]\n",
    "true_y"
   ]
  },
  {
   "cell_type": "code",
   "execution_count": 51,
   "id": "abafcddd-0c42-459c-8118-84e2feaa7bd6",
   "metadata": {},
   "outputs": [
    {
     "name": "stdout",
     "output_type": "stream",
     "text": [
      "Accuracy of twitter-xlm-roberta-base-sentiment model on a sample of 100 examples is: 0.8\n"
     ]
    }
   ],
   "source": [
    "accuracy = true_y / df.shape[0]\n",
    "print(f\"Accuracy of {name} model on a sample of 100 examples is: {accuracy}\")"
   ]
  },
  {
   "cell_type": "code",
   "execution_count": null,
   "id": "10c2023a-8874-4872-aa18-ef108e0b4bb3",
   "metadata": {},
   "outputs": [],
   "source": [
    "assert"
   ]
  }
 ],
 "metadata": {
  "kernelspec": {
   "display_name": "Python 3 (ipykernel)",
   "language": "python",
   "name": "python3"
  },
  "language_info": {
   "codemirror_mode": {
    "name": "ipython",
    "version": 3
   },
   "file_extension": ".py",
   "mimetype": "text/x-python",
   "name": "python",
   "nbconvert_exporter": "python",
   "pygments_lexer": "ipython3",
   "version": "3.8.10"
  }
 },
 "nbformat": 4,
 "nbformat_minor": 5
}
