{
 "cells": [
  {
   "cell_type": "code",
   "execution_count": 1,
   "id": "0773c0e0-cda0-46a9-8d54-18ea7a351b2f",
   "metadata": {},
   "outputs": [],
   "source": [
    "from transformers import pipeline\n",
    "\n",
    "model_path = \"cardiffnlp/twitter-xlm-roberta-base-sentiment\"\n",
    "pipeline = pipeline(\"sentiment-analysis\", model=model_path, tokenizer=model_path)"
   ]
  },
  {
   "cell_type": "code",
   "execution_count": 2,
   "id": "0f2a108d-156c-44bb-9290-16de7163b733",
   "metadata": {},
   "outputs": [
    {
     "data": {
      "text/plain": [
       "[{'label': 'Positive', 'score': 0.9387916922569275}]"
      ]
     },
     "execution_count": 2,
     "metadata": {},
     "output_type": "execute_result"
    }
   ],
   "source": [
    "pipeline(\"Bonjour je suis tres content!\")"
   ]
  },
  {
   "cell_type": "code",
   "execution_count": 5,
   "id": "2347ec2b-8e7d-4960-a5a0-bb1bfafd7289",
   "metadata": {},
   "outputs": [
    {
     "data": {
      "text/plain": [
       "[{'label': 'Positive', 'score': 0.921221911907196}]"
      ]
     },
     "execution_count": 5,
     "metadata": {},
     "output_type": "execute_result"
    }
   ],
   "source": [
    "pipeline(\"X est un tres bon president.\")"
   ]
  },
  {
   "cell_type": "code",
   "execution_count": 6,
   "id": "bfaee7fd-e4ce-4ec5-aa94-732d35d3020c",
   "metadata": {},
   "outputs": [
    {
     "data": {
      "text/plain": [
       "[{'label': 'Negative', 'score': 0.9653193950653076}]"
      ]
     },
     "execution_count": 6,
     "metadata": {},
     "output_type": "execute_result"
    }
   ],
   "source": [
    "pipeline(\"X est le pire president.\")"
   ]
  },
  {
   "cell_type": "code",
   "execution_count": null,
   "id": "3ccc2424-a2aa-4cfb-8728-2e464ac5d898",
   "metadata": {},
   "outputs": [],
   "source": []
  }
 ],
 "metadata": {
  "kernelspec": {
   "display_name": "Python 3 (ipykernel)",
   "language": "python",
   "name": "python3"
  },
  "language_info": {
   "codemirror_mode": {
    "name": "ipython",
    "version": 3
   },
   "file_extension": ".py",
   "mimetype": "text/x-python",
   "name": "python",
   "nbconvert_exporter": "python",
   "pygments_lexer": "ipython3",
   "version": "3.8.10"
  }
 },
 "nbformat": 4,
 "nbformat_minor": 5
}
