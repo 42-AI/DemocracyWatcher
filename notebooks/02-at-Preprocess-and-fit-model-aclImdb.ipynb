{
 "cells": [
  {
   "cell_type": "markdown",
   "id": "50955ad4",
   "metadata": {},
   "source": [
    "# Import datasets"
   ]
  },
  {
   "cell_type": "code",
   "execution_count": null,
   "id": "4447b780",
   "metadata": {},
   "outputs": [],
   "source": [
    "import pandas as pd\n",
    "import numpy as np\n",
    "from sklearn.feature_extraction.text import CountVectorizer\n",
    "from sklearn.feature_extraction.text import TfidfTransformer\n",
    "from sklearn.naive_bayes import MultinomialNB"
   ]
  },
  {
   "cell_type": "markdown",
   "id": "3dae8442",
   "metadata": {},
   "source": [
    "# Import test and train datasets"
   ]
  },
  {
   "cell_type": "code",
   "execution_count": null,
   "id": "e1fda922",
   "metadata": {},
   "outputs": [],
   "source": [
    "df_train = pd.read_csv('../data/processed/aclImdb/aclImdb_train.csv')\n",
    "df_test = pd.read_csv('../data/processed/aclImdb/aclImdb_test.csv')"
   ]
  },
  {
   "cell_type": "markdown",
   "id": "eb6f6767",
   "metadata": {},
   "source": [
    "# Drop 1st unused column"
   ]
  },
  {
   "cell_type": "code",
   "execution_count": null,
   "id": "cc10d000",
   "metadata": {},
   "outputs": [],
   "source": [
    "df_train = df_train.drop(df_train.columns[0], axis=1)\n",
    "df_test = df_test.drop(df_test.columns[0], axis=1)"
   ]
  },
  {
   "cell_type": "markdown",
   "id": "d20fa930",
   "metadata": {},
   "source": [
    "# Shuffle train and test dataframes"
   ]
  },
  {
   "cell_type": "code",
   "execution_count": null,
   "id": "6cbc1067",
   "metadata": {},
   "outputs": [],
   "source": [
    "df_train = df_train.sample(frac=1)\n",
    "df_test = df_test.sample(frac=1)"
   ]
  },
  {
   "cell_type": "markdown",
   "id": "4a40ce41",
   "metadata": {},
   "source": [
    "# Split train and test dataframes into X_train, y_train, X_test, y_test"
   ]
  },
  {
   "cell_type": "code",
   "execution_count": null,
   "id": "f8ba88fb",
   "metadata": {},
   "outputs": [],
   "source": [
    "X_train = df_train['text']\n",
    "y_train = df_train['sentiment']\n",
    "X_test = df_test['text']\n",
    "y_test = df_test['sentiment']"
   ]
  },
  {
   "cell_type": "markdown",
   "id": "c577aaca",
   "metadata": {},
   "source": [
    "# Transform pd objects into np objects"
   ]
  },
  {
   "cell_type": "code",
   "execution_count": null,
   "id": "bd7740fb",
   "metadata": {},
   "outputs": [],
   "source": [
    "X_train = X_train.values\n",
    "y_train = y_train.values"
   ]
  },
  {
   "cell_type": "markdown",
   "id": "af3d74b5",
   "metadata": {},
   "source": [
    "# Vectorize texts\n",
    "\n",
    "- [CountVectorizer](https://kavita-ganesan.com/how-to-use-countvectorizer/#.Yidh1hso8UE)\n",
    "- [How to work with text data - Sklearn](https://scikit-learn.org/stable/tutorial/text_analytics/working_with_text_data.html)"
   ]
  },
  {
   "cell_type": "code",
   "execution_count": null,
   "id": "28cb6725",
   "metadata": {},
   "outputs": [],
   "source": [
    "vec = CountVectorizer(stop_words='english')\n",
    "X_train_trans = vec.fit_transform(X_train)\n",
    "X_test_trans = vec.transform(X_test)"
   ]
  },
  {
   "cell_type": "markdown",
   "id": "6d22bb80",
   "metadata": {},
   "source": [
    "### TF-IDF technique for text classification\n",
    "\n",
    "- [TF-IDF](https://medium.com/analytics-vidhya/tf-idf-term-frequency-technique-easiest-explanation-for-text-classification-in-nlp-with-code-8ca3912e58c3)"
   ]
  },
  {
   "cell_type": "code",
   "execution_count": null,
   "id": "4d40306b",
   "metadata": {},
   "outputs": [],
   "source": [
    "tf_transformer = TfidfTransformer(use_idf=False).fit(X_train_trans)\n",
    "X_train_tf = tf_transformer.transform(X_train_trans)"
   ]
  },
  {
   "cell_type": "code",
   "execution_count": null,
   "id": "a0e1878c",
   "metadata": {},
   "outputs": [],
   "source": [
    "X_test_tf = tf_transformer.transform(X_test_trans)"
   ]
  },
  {
   "cell_type": "markdown",
   "id": "130cb8a9",
   "metadata": {},
   "source": [
    "# Naive Bayes classifier\n",
    "\n",
    "- [Naive Bayes - Sklearn](https://scikit-learn.org/stable/modules/naive_bayes.html)\n",
    "- [MultinomialNB - Sklearn](https://scikit-learn.org/stable/modules/generated/sklearn.naive_bayes.MultinomialNB.html)\n",
    "- [Sentiment Analysis with Naive Bayes](https://www.analyticsvidhya.com/blog/2021/07/performing-sentiment-analysis-with-naive-bayes-classifier/)"
   ]
  },
  {
   "cell_type": "code",
   "execution_count": null,
   "id": "1a5951e4",
   "metadata": {},
   "outputs": [],
   "source": [
    "clf = MultinomialNB().fit(X_train_tf, y_train)"
   ]
  },
  {
   "cell_type": "code",
   "execution_count": null,
   "id": "ca8e9524",
   "metadata": {},
   "outputs": [],
   "source": [
    "predicted = clf.predict(X_test_tf)\n",
    "np.mean(predicted == y_test)"
   ]
  },
  {
   "cell_type": "markdown",
   "id": "f2aadac7",
   "metadata": {},
   "source": [
    "# Predicted dataframe"
   ]
  },
  {
   "cell_type": "code",
   "execution_count": null,
   "id": "357e5c9c",
   "metadata": {},
   "outputs": [],
   "source": [
    "res = pd.DataFrame(data=predicted, columns=['target'])"
   ]
  },
  {
   "cell_type": "code",
   "execution_count": null,
   "id": "ade56b1c",
   "metadata": {},
   "outputs": [],
   "source": [
    "res.to_csv('../data/processed/aclImdb/results/classifier_name.csv')"
   ]
  }
 ],
 "metadata": {
  "kernelspec": {
   "display_name": "Python 3 (ipykernel)",
   "language": "python",
   "name": "python3"
  },
  "language_info": {
   "codemirror_mode": {
    "name": "ipython",
    "version": 3
   },
   "file_extension": ".py",
   "mimetype": "text/x-python",
   "name": "python",
   "nbconvert_exporter": "python",
   "pygments_lexer": "ipython3",
   "version": "3.8.10"
  }
 },
 "nbformat": 4,
 "nbformat_minor": 5
}
