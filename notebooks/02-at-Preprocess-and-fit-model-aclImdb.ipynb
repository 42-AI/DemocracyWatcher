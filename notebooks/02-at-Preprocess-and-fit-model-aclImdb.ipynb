{
 "cells": [
  {
   "cell_type": "markdown",
   "id": "88703b8f",
   "metadata": {},
   "source": [
    "# Import datasets"
   ]
  },
  {
   "cell_type": "code",
   "execution_count": 1,
   "id": "79f08375",
   "metadata": {},
   "outputs": [],
   "source": [
    "import pandas as pd\n",
    "import numpy as np\n",
    "\n",
    "df_train = pd.read_csv('../data/processed/aclImdb/aclImdb_train.csv')\n",
    "df_test = pd.read_csv('../data/processed/aclImdb/aclImdb_test.csv')"
   ]
  },
  {
   "cell_type": "markdown",
   "id": "f8aece55",
   "metadata": {},
   "source": [
    "# Drop 1st unused column"
   ]
  },
  {
   "cell_type": "code",
   "execution_count": 2,
   "id": "c917a622",
   "metadata": {},
   "outputs": [
    {
     "name": "stdout",
     "output_type": "stream",
     "text": [
      "                                                    text  sentiment\n",
      "0      It's very easy to figure out why The New Profe...          1\n",
      "1      I couldn't believe that the Adult Swim guys ca...          1\n",
      "2      Sean Astin pulls off another amazing performan...          1\n",
      "3      I used to watch this show when I was growing u...          1\n",
      "4      Exclusively for Coop's lovers, though Clint Ea...          1\n",
      "...                                                  ...        ...\n",
      "24995  Cameron Diaz, James Marsden, Frank Langella: t...          0\n",
      "24996  The story was disjointed, the acting was not o...          0\n",
      "24997  I was only cautiously enthusiast when renting ...          0\n",
      "24998  A made for television version of the Heart of ...          0\n",
      "24999  I found this film completely and utterly incom...          0\n",
      "\n",
      "[25000 rows x 2 columns]                                                     text  sentiment\n",
      "0      Hard to categorize the film - perhaps it's an ...          1\n",
      "1      After the SuperFriends and Scooby Doo left the...          1\n",
      "2      This film was not only one of John Ford's own ...          1\n",
      "3      I only saw this recently but had been aware of...          1\n",
      "4      i totally disagree.i thought that this was a g...          1\n",
      "...                                                  ...        ...\n",
      "24995  It's a ghost story. It's a cannibalism story. ...          0\n",
      "24996  I saw this film on its release, and have watch...          0\n",
      "24997  This movie is just boring.<br /><br />It tries...          0\n",
      "24998  THE NIGHT EVELYN CAME OUT OF THE GRAVE (Emilio...          0\n",
      "24999  This was a classic case of something that shou...          0\n",
      "\n",
      "[25000 rows x 2 columns]\n"
     ]
    }
   ],
   "source": [
    "df_train = df_train.drop(df_train.columns[0], axis=1)\n",
    "df_test = df_test.drop(df_test.columns[0], axis=1)\n",
    "\n",
    "print(df_test, df_train)"
   ]
  },
  {
   "cell_type": "markdown",
   "id": "3b5b37dd",
   "metadata": {},
   "source": [
    "# Shuffle train and test dataframes"
   ]
  },
  {
   "cell_type": "code",
   "execution_count": 3,
   "id": "da6b4ea3",
   "metadata": {},
   "outputs": [
    {
     "name": "stdout",
     "output_type": "stream",
     "text": [
      "(25000, 2) (25000, 2)\n"
     ]
    }
   ],
   "source": [
    "df_train = df_train.sample(frac=1)\n",
    "df_test = df_test.sample(frac=1)\n",
    "\n",
    "print(df_test.shape, df_train.shape)"
   ]
  },
  {
   "cell_type": "markdown",
   "id": "011277bc",
   "metadata": {},
   "source": [
    "# Split train and test dataframes into X_train, y_train, X_test, y_test"
   ]
  },
  {
   "cell_type": "code",
   "execution_count": 4,
   "id": "ad25aba2",
   "metadata": {},
   "outputs": [
    {
     "name": "stdout",
     "output_type": "stream",
     "text": [
      "(25000,) (25000,)\n",
      "<class 'pandas.core.series.Series'>\n"
     ]
    }
   ],
   "source": [
    "X_train = df_train['text']\n",
    "y_train = df_train['sentiment']\n",
    "X_test = df_test['text']\n",
    "y_test = df_test['sentiment']\n",
    "print(X_train.shape, y_train.shape)\n",
    "print(type(X_train))"
   ]
  },
  {
   "cell_type": "markdown",
   "id": "3c8eed71",
   "metadata": {},
   "source": [
    "# Transform pd objects into np objects"
   ]
  },
  {
   "cell_type": "code",
   "execution_count": 5,
   "id": "31e7fdb7",
   "metadata": {},
   "outputs": [
    {
     "name": "stdout",
     "output_type": "stream",
     "text": [
      "[0 0 0 ... 1 0 0]\n"
     ]
    }
   ],
   "source": [
    "X_train = X_train.values\n",
    "y_train = y_train.values\n",
    "print(y_train)"
   ]
  },
  {
   "cell_type": "markdown",
   "id": "a4311101",
   "metadata": {},
   "source": [
    "# Add 1 dimension in X_train and X_test"
   ]
  },
  {
   "cell_type": "code",
   "execution_count": 6,
   "id": "26a52430",
   "metadata": {},
   "outputs": [],
   "source": [
    "# X_train = np.expand_dims(X_train, axis=1)\n",
    "# X_test = np.expand_dims(X_test, axis=1)\n",
    "\n",
    "# print(X_train.shape, y_train.shape, X_test.shape, y_test.shape)"
   ]
  },
  {
   "cell_type": "markdown",
   "id": "d4b87535",
   "metadata": {},
   "source": [
    "# Vectorize texts"
   ]
  },
  {
   "cell_type": "code",
   "execution_count": 7,
   "id": "3c27232e",
   "metadata": {},
   "outputs": [
    {
     "name": "stdout",
     "output_type": "stream",
     "text": [
      "  (0, 15728)\t1\n",
      "  (0, 19956)\t2\n",
      "  (0, 16750)\t1\n",
      "  (0, 52456)\t1\n",
      "  (0, 63194)\t2\n",
      "  (0, 35657)\t1\n",
      "  (0, 33007)\t1\n",
      "  (0, 58107)\t1\n",
      "  (0, 35648)\t5\n",
      "  (0, 69483)\t1\n",
      "  (0, 50019)\t1\n",
      "  (0, 63603)\t2\n",
      "  (0, 8672)\t16\n",
      "  (0, 72317)\t1\n",
      "  (0, 38099)\t1\n",
      "  (0, 14461)\t1\n",
      "  (0, 9609)\t4\n",
      "  (0, 50387)\t1\n",
      "  (0, 61145)\t2\n",
      "  (0, 57674)\t2\n",
      "  (0, 53636)\t2\n",
      "  (0, 21716)\t1\n",
      "  (0, 65002)\t1\n",
      "  (0, 57511)\t1\n",
      "  (0, 21691)\t1\n",
      "  :\t:\n",
      "  (24999, 14598)\t1\n",
      "  (24999, 29588)\t1\n",
      "  (24999, 4523)\t1\n",
      "  (24999, 8488)\t1\n",
      "  (24999, 11724)\t1\n",
      "  (24999, 63855)\t1\n",
      "  (24999, 69476)\t1\n",
      "  (24999, 58647)\t1\n",
      "  (24999, 6694)\t1\n",
      "  (24999, 12102)\t1\n",
      "  (24999, 26462)\t1\n",
      "  (24999, 24833)\t1\n",
      "  (24999, 51497)\t1\n",
      "  (24999, 37396)\t1\n",
      "  (24999, 32844)\t1\n",
      "  (24999, 69917)\t1\n",
      "  (24999, 14005)\t1\n",
      "  (24999, 56498)\t1\n",
      "  (24999, 7226)\t1\n",
      "  (24999, 69490)\t1\n",
      "  (24999, 60695)\t1\n",
      "  (24999, 2122)\t1\n",
      "  (24999, 69228)\t1\n",
      "  (24999, 38720)\t1\n",
      "  (24999, 54251)\t1\n"
     ]
    }
   ],
   "source": [
    "import sklearn\n",
    "from sklearn.feature_extraction.text import CountVectorizer\n",
    "from sklearn.feature_extraction.text import TfidfTransformer\n",
    "from sklearn.naive_bayes import MultinomialNB\n",
    "\n",
    "vec = CountVectorizer(stop_words='english')\n",
    "# # ret = vec.fit([\"salut, je suis cool\", \"je le suis aussi\"])\n",
    "# # print(ret.get_feature_names_out())\n",
    "# # ret_trans = ret.transform([\"Bonjour je suis cool, tres cool\"])\n",
    "# # print(ret_trans.toarray())\n",
    "X_train_trans = vec.fit_transform(X_train)\n",
    "X_test_trans = vec.transform(X_test)\n",
    "print(X_train_trans)"
   ]
  },
  {
   "cell_type": "code",
   "execution_count": 9,
   "id": "311811da",
   "metadata": {},
   "outputs": [],
   "source": [
    "tf_transformer = TfidfTransformer(use_idf=False).fit(X_train_trans)\n",
    "X_train_tf = tf_transformer.transform(X_train_trans)"
   ]
  },
  {
   "cell_type": "code",
   "execution_count": 14,
   "id": "2ffa2c92",
   "metadata": {},
   "outputs": [],
   "source": [
    "X_test_tf = tf_transformer.transform(X_test_trans)"
   ]
  },
  {
   "cell_type": "code",
   "execution_count": 12,
   "id": "ab01acf4",
   "metadata": {},
   "outputs": [
    {
     "name": "stdout",
     "output_type": "stream",
     "text": [
      "  (0, 1652)\t0.04315318520021031\n",
      "  (0, 1667)\t0.08630637040042062\n",
      "  (0, 3387)\t0.08630637040042062\n",
      "  (0, 3689)\t0.04315318520021031\n",
      "  (0, 4343)\t0.04315318520021031\n",
      "  (0, 5368)\t0.04315318520021031\n",
      "  (0, 6507)\t0.04315318520021031\n",
      "  (0, 6569)\t0.04315318520021031\n",
      "  (0, 6682)\t0.04315318520021031\n",
      "  (0, 6998)\t0.04315318520021031\n",
      "  (0, 8168)\t0.12945955560063094\n",
      "  (0, 8672)\t0.690450963203365\n",
      "  (0, 9444)\t0.04315318520021031\n",
      "  (0, 9609)\t0.17261274080084124\n",
      "  (0, 11557)\t0.04315318520021031\n",
      "  (0, 11577)\t0.04315318520021031\n",
      "  (0, 11748)\t0.04315318520021031\n",
      "  (0, 13439)\t0.04315318520021031\n",
      "  (0, 14461)\t0.04315318520021031\n",
      "  (0, 14678)\t0.12945955560063094\n",
      "  (0, 14710)\t0.08630637040042062\n",
      "  (0, 15278)\t0.04315318520021031\n",
      "  (0, 15728)\t0.04315318520021031\n",
      "  (0, 16478)\t0.04315318520021031\n",
      "  (0, 16496)\t0.04315318520021031\n",
      "  :\t:\n",
      "  (24999, 54573)\t0.09901475429766744\n",
      "  (24999, 55096)\t0.09901475429766744\n",
      "  (24999, 56067)\t0.09901475429766744\n",
      "  (24999, 56098)\t0.09901475429766744\n",
      "  (24999, 56108)\t0.09901475429766744\n",
      "  (24999, 56498)\t0.09901475429766744\n",
      "  (24999, 58647)\t0.09901475429766744\n",
      "  (24999, 58764)\t0.09901475429766744\n",
      "  (24999, 60695)\t0.09901475429766744\n",
      "  (24999, 61557)\t0.19802950859533489\n",
      "  (24999, 62675)\t0.09901475429766744\n",
      "  (24999, 63194)\t0.19802950859533489\n",
      "  (24999, 63855)\t0.09901475429766744\n",
      "  (24999, 64315)\t0.09901475429766744\n",
      "  (24999, 65402)\t0.09901475429766744\n",
      "  (24999, 66277)\t0.09901475429766744\n",
      "  (24999, 68421)\t0.09901475429766744\n",
      "  (24999, 68812)\t0.09901475429766744\n",
      "  (24999, 68845)\t0.09901475429766744\n",
      "  (24999, 69228)\t0.09901475429766744\n",
      "  (24999, 69476)\t0.09901475429766744\n",
      "  (24999, 69490)\t0.09901475429766744\n",
      "  (24999, 69917)\t0.09901475429766744\n",
      "  (24999, 71983)\t0.09901475429766744\n",
      "  (24999, 73398)\t0.09901475429766744\n"
     ]
    }
   ],
   "source": [
    "print(X_train_tf)"
   ]
  },
  {
   "cell_type": "code",
   "execution_count": 13,
   "id": "281b64c3",
   "metadata": {},
   "outputs": [],
   "source": [
    "clf = MultinomialNB().fit(X_train_tf, y_train)"
   ]
  },
  {
   "cell_type": "code",
   "execution_count": 17,
   "id": "c9ef8ca6",
   "metadata": {},
   "outputs": [
    {
     "data": {
      "text/plain": [
       "0.84308"
      ]
     },
     "execution_count": 17,
     "metadata": {},
     "output_type": "execute_result"
    }
   ],
   "source": [
    "predicted = clf.predict(X_test_tf)\n",
    "np.mean(predicted == y_test)"
   ]
  },
  {
   "cell_type": "code",
   "execution_count": null,
   "id": "d2f1b5fc",
   "metadata": {},
   "outputs": [],
   "source": [
    "# from sklearn.pipeline import Pipeline\n",
    "# text_clf = Pipeline([\n",
    "# ('vect', CountVectorizer()),\n",
    "# ('tfidf', TfidfTransformer()),\n",
    "# ('clf', MultinomialNB()),\n",
    "# ])\n",
    "\n",
    "# text_clf.fit(X_train, y_train)\n",
    "\n",
    "# predicted = text_clf.predict(X_test)\n",
    "\n",
    "# np.mean(predicted == y_test)\n",
    "\n"
   ]
  },
  {
   "cell_type": "markdown",
   "id": "dd319ab1",
   "metadata": {},
   "source": [
    "# Model training"
   ]
  },
  {
   "cell_type": "code",
   "execution_count": null,
   "id": "8e52b173",
   "metadata": {},
   "outputs": [],
   "source": [
    "# import sklearn\n",
    "# from sklearn.naive_bayes import GaussianNB\n",
    "\n",
    "# gnb = GaussianNB()\n",
    "# y_pred = gnb.fit(X_train, y_train)"
   ]
  },
  {
   "cell_type": "code",
   "execution_count": null,
   "id": "92014615",
   "metadata": {},
   "outputs": [],
   "source": []
  },
  {
   "cell_type": "code",
   "execution_count": null,
   "id": "bf136c9f",
   "metadata": {},
   "outputs": [],
   "source": []
  }
 ],
 "metadata": {
  "kernelspec": {
   "display_name": "Python 3 (ipykernel)",
   "language": "python",
   "name": "python3"
  },
  "language_info": {
   "codemirror_mode": {
    "name": "ipython",
    "version": 3
   },
   "file_extension": ".py",
   "mimetype": "text/x-python",
   "name": "python",
   "nbconvert_exporter": "python",
   "pygments_lexer": "ipython3",
   "version": "3.8.10"
  }
 },
 "nbformat": 4,
 "nbformat_minor": 5
}
