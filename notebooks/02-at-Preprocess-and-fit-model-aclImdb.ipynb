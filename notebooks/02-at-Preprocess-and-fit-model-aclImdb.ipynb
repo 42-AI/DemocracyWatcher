{
 "cells": [
  {
   "cell_type": "markdown",
   "id": "75ca0879",
   "metadata": {},
   "source": [
    "# Import datasets"
   ]
  },
  {
   "cell_type": "code",
   "execution_count": 1,
   "id": "3eeb3413",
   "metadata": {},
   "outputs": [],
   "source": [
    "import pandas as pd\n",
    "import numpy as np\n",
    "from sklearn.feature_extraction.text import CountVectorizer\n",
    "from sklearn.feature_extraction.text import TfidfTransformer\n",
    "from sklearn.naive_bayes import MultinomialNB"
   ]
  },
  {
   "cell_type": "markdown",
   "id": "878c98fa",
   "metadata": {},
   "source": [
    "# Import test and train datasets"
   ]
  },
  {
   "cell_type": "code",
   "execution_count": 2,
   "id": "d6915a62",
   "metadata": {},
   "outputs": [],
   "source": [
    "df_train = pd.read_csv('../data/processed/aclImdb/aclImdb_train.csv')\n",
    "df_test = pd.read_csv('../data/processed/aclImdb/aclImdb_test.csv')"
   ]
  },
  {
   "cell_type": "markdown",
   "id": "d7b7cfe4",
   "metadata": {},
   "source": [
    "# Drop 1st unused column"
   ]
  },
  {
   "cell_type": "code",
   "execution_count": 3,
   "id": "535eb249",
   "metadata": {},
   "outputs": [],
   "source": [
    "df_train = df_train.drop(df_train.columns[0], axis=1)\n",
    "df_test = df_test.drop(df_test.columns[0], axis=1)"
   ]
  },
  {
   "cell_type": "markdown",
   "id": "e0072a17",
   "metadata": {},
   "source": [
    "# Shuffle train and test dataframes"
   ]
  },
  {
   "cell_type": "code",
   "execution_count": 4,
   "id": "c52b4f56",
   "metadata": {},
   "outputs": [],
   "source": [
    "df_train = df_train.sample(frac=1)\n",
    "df_test = df_test.sample(frac=1)"
   ]
  },
  {
   "cell_type": "markdown",
   "id": "972fced5",
   "metadata": {},
   "source": [
    "# Split train and test dataframes into X_train, y_train, X_test, y_test"
   ]
  },
  {
   "cell_type": "code",
   "execution_count": 5,
   "id": "cc5cad42",
   "metadata": {},
   "outputs": [],
   "source": [
    "X_train = df_train['text']\n",
    "y_train = df_train['sentiment']\n",
    "X_test = df_test['text']\n",
    "y_test = df_test['sentiment']"
   ]
  },
  {
   "cell_type": "markdown",
   "id": "e79c775a",
   "metadata": {},
   "source": [
    "# Transform pd objects into np objects"
   ]
  },
  {
   "cell_type": "code",
   "execution_count": 6,
   "id": "95a1d25c",
   "metadata": {},
   "outputs": [],
   "source": [
    "X_train = X_train.values\n",
    "y_train = y_train.values"
   ]
  },
  {
   "cell_type": "markdown",
   "id": "af5d856d",
   "metadata": {},
   "source": [
    "# Vectorize texts\n",
    "\n",
    "- [CountVectorizer](https://kavita-ganesan.com/how-to-use-countvectorizer/#.Yidh1hso8UE)\n",
    "- [How to work with text data - Sklearn](https://scikit-learn.org/stable/tutorial/text_analytics/working_with_text_data.html)"
   ]
  },
  {
   "cell_type": "code",
   "execution_count": 7,
   "id": "7656cdec",
   "metadata": {},
   "outputs": [],
   "source": [
    "vec = CountVectorizer(stop_words='english')\n",
    "X_train_trans = vec.fit_transform(X_train)\n",
    "X_test_trans = vec.transform(X_test)"
   ]
  },
  {
   "cell_type": "markdown",
   "id": "2e9b66aa",
   "metadata": {},
   "source": [
    "### TF-IDF technique for text classification\n",
    "\n",
    "- [TF-IDF](https://medium.com/analytics-vidhya/tf-idf-term-frequency-technique-easiest-explanation-for-text-classification-in-nlp-with-code-8ca3912e58c3)"
   ]
  },
  {
   "cell_type": "code",
   "execution_count": 8,
   "id": "ce6cbc53",
   "metadata": {},
   "outputs": [],
   "source": [
    "tf_transformer = TfidfTransformer(use_idf=False).fit(X_train_trans)\n",
    "X_train_tf = tf_transformer.transform(X_train_trans)"
   ]
  },
  {
   "cell_type": "code",
   "execution_count": 9,
   "id": "d79610b7",
   "metadata": {},
   "outputs": [],
   "source": [
    "X_test_tf = tf_transformer.transform(X_test_trans)"
   ]
  },
  {
   "cell_type": "markdown",
   "id": "23c201fd",
   "metadata": {},
   "source": [
    "# Naive Bayes classifier\n",
    "\n",
    "- [Naive Bayes - Sklearn](https://scikit-learn.org/stable/modules/naive_bayes.html)\n",
    "- [MultinomialNB - Sklearn](https://scikit-learn.org/stable/modules/generated/sklearn.naive_bayes.MultinomialNB.html)\n",
    "- [Sentiment Analysis with Naive Bayes](https://www.analyticsvidhya.com/blog/2021/07/performing-sentiment-analysis-with-naive-bayes-classifier/)"
   ]
  },
  {
   "cell_type": "code",
   "execution_count": 10,
   "id": "86c56bf8",
   "metadata": {},
   "outputs": [
    {
     "name": "stdout",
     "output_type": "stream",
     "text": [
      "<class 'scipy.sparse._csr.csr_matrix'> <class 'scipy.sparse._csr.csr_matrix'> <class 'pandas.core.series.Series'> <class 'numpy.ndarray'>\n",
      "\n",
      "\n",
      " (25000, 74538) (25000, 74538) (25000,) (25000,)\n"
     ]
    }
   ],
   "source": [
    "print(type(X_train_tf), type(X_test_tf), type(y_test), type(y_train))\n",
    "print(\"\\n\\n\", X_train_tf.shape, X_test_tf.shape, y_test.shape, y_train.shape)\n"
   ]
  },
  {
   "cell_type": "code",
   "execution_count": 11,
   "id": "94b412e9",
   "metadata": {},
   "outputs": [],
   "source": [
    "y_test_np = y_test.values"
   ]
  },
  {
   "cell_type": "code",
   "execution_count": 12,
   "id": "2e53f8f7",
   "metadata": {},
   "outputs": [],
   "source": [
    "clf = MultinomialNB().fit(X_train_tf, y_train)"
   ]
  },
  {
   "cell_type": "code",
   "execution_count": 13,
   "id": "5a0c32a6",
   "metadata": {},
   "outputs": [
    {
     "data": {
      "text/plain": [
       "0.84308"
      ]
     },
     "execution_count": 13,
     "metadata": {},
     "output_type": "execute_result"
    }
   ],
   "source": [
    "predicted = clf.predict(X_test_tf)\n",
    "np.mean(predicted == y_test)"
   ]
  },
  {
   "cell_type": "code",
   "execution_count": 14,
   "id": "747333e8",
   "metadata": {
    "scrolled": true
   },
   "outputs": [
    {
     "name": "stdout",
     "output_type": "stream",
     "text": [
      "<class 'numpy.ndarray'> <class 'pandas.core.series.Series'>\n",
      "(25000,) (25000,)\n"
     ]
    }
   ],
   "source": [
    "print(type(predicted), type(y_test), type())\n",
    "print(predicted.shape, y_test.shape)"
   ]
  },
  {
   "cell_type": "markdown",
   "id": "b3314d84",
   "metadata": {},
   "source": [
    "# Predicted dataframe"
   ]
  },
  {
   "cell_type": "code",
   "execution_count": 15,
   "id": "aa48a2f8",
   "metadata": {},
   "outputs": [
    {
     "name": "stdout",
     "output_type": "stream",
     "text": [
      "[0 0 1 ... 0 0 0]\n",
      "       y_pred\n",
      "0           0\n",
      "1           0\n",
      "2           1\n",
      "3           0\n",
      "4           0\n",
      "...       ...\n",
      "24995       0\n",
      "24996       0\n",
      "24997       0\n",
      "24998       0\n",
      "24999       0\n",
      "\n",
      "[25000 rows x 1 columns]\n",
      "5962     1\n",
      "4452     1\n",
      "10880    1\n",
      "3832     1\n",
      "11330    1\n",
      "        ..\n",
      "24075    0\n",
      "20741    0\n",
      "20345    0\n",
      "15548    0\n",
      "24969    0\n",
      "Name: sentiment, Length: 25000, dtype: int64\n",
      "0        1\n",
      "1        1\n",
      "2        1\n",
      "3        1\n",
      "4        1\n",
      "        ..\n",
      "24995    0\n",
      "24996    0\n",
      "24997    0\n",
      "24998    0\n",
      "24999    0\n",
      "Name: sentiment, Length: 25000, dtype: int64\n"
     ]
    }
   ],
   "source": [
    "print(predicted)\n",
    "y_pred = pd.DataFrame(data=predicted, columns=['y_pred'])\n",
    "print(y_pred)\n",
    "print(y_test)\n",
    "# y_test = pd.DataFrame(data=y_test, columns=['y_true'])\n",
    "y_test.reset_index(drop=True, inplace=True)\n",
    "print(y_test)\n",
    "\n",
    "\n",
    "res = pd.concat([y_pred, y_test], axis=1)"
   ]
  },
  {
   "cell_type": "code",
   "execution_count": 21,
   "id": "c8624f3b",
   "metadata": {},
   "outputs": [
    {
     "data": {
      "text/plain": [
       "24980    1\n",
       "24981    0\n",
       "24982    1\n",
       "24983    1\n",
       "24984    0\n",
       "24985    0\n",
       "24986    0\n",
       "24987    0\n",
       "24988    1\n",
       "24989    1\n",
       "24990    1\n",
       "24991    1\n",
       "24992    1\n",
       "24993    0\n",
       "24994    0\n",
       "24995    0\n",
       "24996    0\n",
       "24997    0\n",
       "24998    0\n",
       "24999    0\n",
       "Name: sentiment, dtype: int64"
      ]
     },
     "execution_count": 21,
     "metadata": {},
     "output_type": "execute_result"
    }
   ],
   "source": [
    "y_test.head(20)\n",
    "y_test.tail(20)"
   ]
  },
  {
   "cell_type": "code",
   "execution_count": 22,
   "id": "5b75a8c8",
   "metadata": {},
   "outputs": [
    {
     "name": "stdout",
     "output_type": "stream",
     "text": [
      "       sentiment  y_pred\n",
      "24975          0       0\n",
      "24976          1       1\n",
      "24977          0       0\n",
      "24978          0       0\n",
      "24979          0       0\n",
      "24980          1       1\n",
      "24981          0       0\n",
      "24982          1       1\n",
      "24983          1       0\n",
      "24984          0       0\n",
      "24985          0       0\n",
      "24986          0       0\n",
      "24987          0       0\n",
      "24988          1       0\n",
      "24989          1       1\n",
      "24990          1       1\n",
      "24991          1       0\n",
      "24992          1       1\n",
      "24993          0       0\n",
      "24994          0       0\n",
      "24995          0       0\n",
      "24996          0       0\n",
      "24997          0       0\n",
      "24998          0       0\n",
      "24999          0       0\n"
     ]
    }
   ],
   "source": [
    "res = pd.concat([y_test, y_pred], axis=1)\n",
    "print(res.tail(25))"
   ]
  },
  {
   "cell_type": "code",
   "execution_count": 17,
   "id": "bc88e14f",
   "metadata": {},
   "outputs": [],
   "source": [
    "# res = pd.DataFrame(data=predicted, columns=['target'])"
   ]
  },
  {
   "cell_type": "code",
   "execution_count": 18,
   "id": "2aa100ea",
   "metadata": {},
   "outputs": [],
   "source": [
    "# res.to_csv('../data/processed/aclImdb/results/classifier_name.csv')"
   ]
  }
 ],
 "metadata": {
  "kernelspec": {
   "display_name": "Python 3 (ipykernel)",
   "language": "python",
   "name": "python3"
  },
  "language_info": {
   "codemirror_mode": {
    "name": "ipython",
    "version": 3
   },
   "file_extension": ".py",
   "mimetype": "text/x-python",
   "name": "python",
   "nbconvert_exporter": "python",
   "pygments_lexer": "ipython3",
   "version": "3.8.10"
  }
 },
 "nbformat": 4,
 "nbformat_minor": 5
}
