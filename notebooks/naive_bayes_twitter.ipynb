{
 "cells": [
  {
   "cell_type": "markdown",
   "id": "75ca0879",
   "metadata": {},
   "source": [
    "# Import datasets"
   ]
  },
  {
   "cell_type": "code",
   "execution_count": 36,
   "id": "3eeb3413",
   "metadata": {},
   "outputs": [],
   "source": [
    "import pandas as pd\n",
    "import numpy as np\n",
    "from sklearn.model_selection import train_test_split\n",
    "from sklearn.feature_extraction.text import CountVectorizer\n",
    "from sklearn.feature_extraction.text import TfidfTransformer\n",
    "from sklearn.naive_bayes import MultinomialNB"
   ]
  },
  {
   "cell_type": "markdown",
   "id": "878c98fa",
   "metadata": {},
   "source": [
    "# Import dataset"
   ]
  },
  {
   "cell_type": "code",
   "execution_count": 37,
   "id": "d6915a62",
   "metadata": {},
   "outputs": [],
   "source": [
    "df = pd.read_csv('../src/tests/dataset_allocine_100.csv')"
   ]
  },
  {
   "cell_type": "code",
   "execution_count": 38,
   "id": "ccbbf5ac",
   "metadata": {},
   "outputs": [
    {
     "name": "stdout",
     "output_type": "stream",
     "text": [
      "                                                 text\n",
      "0   Magnifique épopée, une belle histoire, touchan...\n",
      "1   Je n'ai pas aimé mais pourtant je lui mets 2 é...\n",
      "2   Un dessin animé qui brille par sa féerie et se...\n",
      "3   Si c'est là le renouveau du cinéma français, c...\n",
      "4   Et pourtant on s’en Doutait !Second volet très...\n",
      "..                                                ...\n",
      "95  Cette satire sur le fuhrer est drôle, un humou...\n",
      "96  Ce documentaire m'a complètement retournée. Un...\n",
      "97  Nul. Vraiment nul. Même si le synopsis peut êt...\n",
      "98  Le point négatif c'est que ce film n'est pas u...\n",
      "99  02 / 20 Mon dieux ! Un film vraiment hideux , ...\n",
      "\n",
      "[100 rows x 1 columns] \n",
      "\n",
      "\n",
      "     Positive  Negative  Neutral\n",
      "0          1         0        0\n",
      "1          0         1        0\n",
      "2          1         0        0\n",
      "3          0         1        0\n",
      "4          0         1        0\n",
      "..       ...       ...      ...\n",
      "95         0         1        0\n",
      "96         1         0        0\n",
      "97         0         1        0\n",
      "98         1         0        0\n",
      "99         0         1        0\n",
      "\n",
      "[100 rows x 3 columns]\n"
     ]
    }
   ],
   "source": [
    "X = df[['text']]\n",
    "y = df[['Positive', 'Negative', 'Neutral']]\n",
    "print(X, '\\n\\n\\n', y)"
   ]
  },
  {
   "cell_type": "markdown",
   "id": "972fced5",
   "metadata": {},
   "source": [
    "# Split into train and test"
   ]
  },
  {
   "cell_type": "code",
   "execution_count": 39,
   "id": "cc5cad42",
   "metadata": {},
   "outputs": [],
   "source": [
    "X_train, X_test, y_train, y_test = train_test_split(X, y, test_size=0.5)"
   ]
  },
  {
   "cell_type": "code",
   "execution_count": 40,
   "id": "ec7d3f5c",
   "metadata": {},
   "outputs": [
    {
     "name": "stdout",
     "output_type": "stream",
     "text": [
      "                                                 text\n",
      "54  Je vais très rarement voir des films français....\n",
      "19  (...) chaque petite lueur d’espoir engendrée p...\n",
      "84  Alors que j'avais été déçu par monument's men,...\n",
      "95  Cette satire sur le fuhrer est drôle, un humou...\n",
      "36  Jan de Bont signe un film d'action survitaminé...                                                  text\n",
      "67  ce film est pour moi a moitié un documentaire ...\n",
      "1   Je n'ai pas aimé mais pourtant je lui mets 2 é...\n",
      "62  Si le début suscite notre intérêt, la suite ne...\n",
      "25  Ce film est superbe. J'ai hésité à le regarder...\n",
      "71  Film inabouti qui ne vaut que pour son actrice...     Positive  Negative  Neutral\n",
      "54         1         0        0\n",
      "19         0         1        0\n",
      "84         1         0        0\n",
      "95         0         1        0\n",
      "36         1         0        0     Positive  Negative  Neutral\n",
      "67         1         0        0\n",
      "1          0         1        0\n",
      "62         0         1        0\n",
      "25         1         0        0\n",
      "71         0         1        0\n",
      "(50, 1) (50, 1) (50, 3) (50, 3)\n"
     ]
    }
   ],
   "source": [
    "print(X_train.head(), X_test.head(), y_train.head(), y_test.head())\n",
    "print(X_train.shape, X_test.shape, y_train.shape, y_test.shape)"
   ]
  },
  {
   "cell_type": "markdown",
   "id": "e79c775a",
   "metadata": {},
   "source": [
    "# Transform pd objects into np objects"
   ]
  },
  {
   "cell_type": "code",
   "execution_count": 41,
   "id": "95a1d25c",
   "metadata": {},
   "outputs": [],
   "source": [
    "X_train = X_train.values\n",
    "X_test = X_test.values"
   ]
  },
  {
   "cell_type": "code",
   "execution_count": 42,
   "id": "fb383301",
   "metadata": {},
   "outputs": [],
   "source": [
    "y_train_1d = y_train['Positive'] + (y_train['Negative'] * (-1))\n",
    "y_test_1d = y_test['Positive'] + (y_test['Negative'] * (-1))\n",
    "y_train_1d = y_train_1d.values\n",
    "y_test_1d = y_test_1d.values"
   ]
  },
  {
   "cell_type": "code",
   "execution_count": 43,
   "id": "1799079d",
   "metadata": {},
   "outputs": [],
   "source": [
    "X_train = X_train.squeeze()\n",
    "X_test = X_test.squeeze()"
   ]
  },
  {
   "cell_type": "code",
   "execution_count": 44,
   "id": "b658cd55",
   "metadata": {},
   "outputs": [
    {
     "name": "stdout",
     "output_type": "stream",
     "text": [
      "<class 'numpy.ndarray'> (50,)\n",
      "<class 'numpy.ndarray'> (50,)\n",
      "<class 'numpy.ndarray'> (50,)\n",
      "<class 'numpy.ndarray'> (50,)\n"
     ]
    },
    {
     "data": {
      "text/plain": [
       "array([ 1, -1, -1,  1, -1, -1, -1,  1, -1,  1, -1,  1,  1,  1, -1, -1, -1,\n",
       "       -1,  1, -1, -1,  1,  1,  1,  1, -1,  1,  1,  1,  1,  1,  1, -1,  1,\n",
       "       -1,  1,  1, -1, -1, -1, -1,  1,  1, -1, -1,  1, -1,  1, -1,  1])"
      ]
     },
     "execution_count": 44,
     "metadata": {},
     "output_type": "execute_result"
    }
   ],
   "source": [
    "print(type(X_train), X_train.shape)\n",
    "print(type(X_test), X_test.shape)\n",
    "print(type(y_train_1d), y_train_1d.shape)\n",
    "print(type(y_test_1d), y_test_1d.shape)\n",
    "y_test_1d"
   ]
  },
  {
   "cell_type": "markdown",
   "id": "af5d856d",
   "metadata": {},
   "source": [
    "# Vectorize texts\n",
    "\n",
    "- [CountVectorizer](https://kavita-ganesan.com/how-to-use-countvectorizer/#.Yidh1hso8UE)\n",
    "- [How to work with text data - Sklearn](https://scikit-learn.org/stable/tutorial/text_analytics/working_with_text_data.html)"
   ]
  },
  {
   "cell_type": "code",
   "execution_count": 45,
   "id": "7656cdec",
   "metadata": {},
   "outputs": [],
   "source": [
    "vec = CountVectorizer()\n",
    "X_train_trans = vec.fit_transform(X_train)\n",
    "X_test_trans = vec.transform(X_test)"
   ]
  },
  {
   "cell_type": "markdown",
   "id": "2e9b66aa",
   "metadata": {},
   "source": [
    "### TF-IDF technique for text classification\n",
    "\n",
    "- [TF-IDF](https://medium.com/analytics-vidhya/tf-idf-term-frequency-technique-easiest-explanation-for-text-classification-in-nlp-with-code-8ca3912e58c3)"
   ]
  },
  {
   "cell_type": "code",
   "execution_count": 46,
   "id": "ce6cbc53",
   "metadata": {},
   "outputs": [],
   "source": [
    "tf_transformer = TfidfTransformer(use_idf=False).fit(X_train_trans)\n",
    "X_train_tf = tf_transformer.transform(X_train_trans)"
   ]
  },
  {
   "cell_type": "code",
   "execution_count": 47,
   "id": "d79610b7",
   "metadata": {},
   "outputs": [],
   "source": [
    "X_test_tf = tf_transformer.transform(X_test_trans)"
   ]
  },
  {
   "cell_type": "markdown",
   "id": "23c201fd",
   "metadata": {},
   "source": [
    "# Naive Bayes classifier\n",
    "\n",
    "- [Naive Bayes - Sklearn](https://scikit-learn.org/stable/modules/naive_bayes.html)\n",
    "- [MultinomialNB - Sklearn](https://scikit-learn.org/stable/modules/generated/sklearn.naive_bayes.MultinomialNB.html)\n",
    "- [Sentiment Analysis with Naive Bayes](https://www.analyticsvidhya.com/blog/2021/07/performing-sentiment-analysis-with-naive-bayes-classifier/)"
   ]
  },
  {
   "cell_type": "code",
   "execution_count": 48,
   "id": "86c56bf8",
   "metadata": {},
   "outputs": [
    {
     "name": "stdout",
     "output_type": "stream",
     "text": [
      "<class 'scipy.sparse.csr.csr_matrix'> <class 'scipy.sparse.csr.csr_matrix'> <class 'numpy.ndarray'> <class 'numpy.ndarray'>\n",
      "\n",
      "\n",
      " (50, 1413) (50, 1413) (50,) (50,)\n"
     ]
    }
   ],
   "source": [
    "print(type(X_train_tf), type(X_test_tf), type(y_test_1d), type(y_train_1d))\n",
    "print(\"\\n\\n\", X_train_tf.shape, X_test_tf.shape, y_test_1d.shape, y_train_1d.shape)\n"
   ]
  },
  {
   "cell_type": "code",
   "execution_count": 49,
   "id": "2e53f8f7",
   "metadata": {},
   "outputs": [],
   "source": [
    "clf = MultinomialNB().fit(X_train_tf, y_train_1d)"
   ]
  },
  {
   "cell_type": "code",
   "execution_count": 50,
   "id": "5a0c32a6",
   "metadata": {},
   "outputs": [
    {
     "data": {
      "text/plain": [
       "0.58"
      ]
     },
     "execution_count": 50,
     "metadata": {},
     "output_type": "execute_result"
    }
   ],
   "source": [
    "predicted = clf.predict(X_test_tf)\n",
    "np.mean(predicted == y_test_1d)"
   ]
  },
  {
   "cell_type": "markdown",
   "id": "b3314d84",
   "metadata": {},
   "source": [
    "# Predicted dataframe"
   ]
  },
  {
   "cell_type": "code",
   "execution_count": 53,
   "id": "aa48a2f8",
   "metadata": {},
   "outputs": [
    {
     "name": "stdout",
     "output_type": "stream",
     "text": [
      "[ 1  1  1  1 -1 -1  1  1  1  1  1  1  1  1  1  1  1  1  1  1  1  1  1  1\n",
      "  1 -1  1  1  1 -1  1 -1 -1  1 -1  1  1  1  1  1 -1  1 -1  1  1  1  1  1\n",
      "  1  1]\n"
     ]
    }
   ],
   "source": [
    "print(predicted)\n",
    "# print(y_test)\n",
    "# # y_test = pd.DataFrame(data=y_test, columns=['y_true'])\n",
    "# y_test.reset_index(drop=True, inplace=True)\n",
    "# print(y_test)\n",
    "\n",
    "\n",
    "# res = pd.concat([y_pred, y_test], axis=1)"
   ]
  },
  {
   "cell_type": "code",
   "execution_count": 21,
   "id": "c8624f3b",
   "metadata": {},
   "outputs": [
    {
     "data": {
      "text/plain": [
       "24980    1\n",
       "24981    0\n",
       "24982    1\n",
       "24983    1\n",
       "24984    0\n",
       "24985    0\n",
       "24986    0\n",
       "24987    0\n",
       "24988    1\n",
       "24989    1\n",
       "24990    1\n",
       "24991    1\n",
       "24992    1\n",
       "24993    0\n",
       "24994    0\n",
       "24995    0\n",
       "24996    0\n",
       "24997    0\n",
       "24998    0\n",
       "24999    0\n",
       "Name: sentiment, dtype: int64"
      ]
     },
     "execution_count": 21,
     "metadata": {},
     "output_type": "execute_result"
    }
   ],
   "source": [
    "y_test.head(20)\n",
    "y_test.tail(20)"
   ]
  },
  {
   "cell_type": "code",
   "execution_count": 22,
   "id": "5b75a8c8",
   "metadata": {},
   "outputs": [
    {
     "name": "stdout",
     "output_type": "stream",
     "text": [
      "       sentiment  y_pred\n",
      "24975          0       0\n",
      "24976          1       1\n",
      "24977          0       0\n",
      "24978          0       0\n",
      "24979          0       0\n",
      "24980          1       1\n",
      "24981          0       0\n",
      "24982          1       1\n",
      "24983          1       0\n",
      "24984          0       0\n",
      "24985          0       0\n",
      "24986          0       0\n",
      "24987          0       0\n",
      "24988          1       0\n",
      "24989          1       1\n",
      "24990          1       1\n",
      "24991          1       0\n",
      "24992          1       1\n",
      "24993          0       0\n",
      "24994          0       0\n",
      "24995          0       0\n",
      "24996          0       0\n",
      "24997          0       0\n",
      "24998          0       0\n",
      "24999          0       0\n"
     ]
    }
   ],
   "source": [
    "res = pd.concat([y_test, y_pred], axis=1)\n",
    "print(res.tail(25))"
   ]
  },
  {
   "cell_type": "code",
   "execution_count": 17,
   "id": "bc88e14f",
   "metadata": {},
   "outputs": [],
   "source": [
    "# res = pd.DataFrame(data=predicted, columns=['target'])"
   ]
  },
  {
   "cell_type": "code",
   "execution_count": 18,
   "id": "2aa100ea",
   "metadata": {},
   "outputs": [],
   "source": [
    "# res.to_csv('../data/processed/aclImdb/results/classifier_name.csv')"
   ]
  },
  {
   "cell_type": "code",
   "execution_count": null,
   "id": "8ae438bd",
   "metadata": {},
   "outputs": [],
   "source": []
  }
 ],
 "metadata": {
  "kernelspec": {
   "display_name": "Python 3 (ipykernel)",
   "language": "python",
   "name": "python3"
  },
  "language_info": {
   "codemirror_mode": {
    "name": "ipython",
    "version": 3
   },
   "file_extension": ".py",
   "mimetype": "text/x-python",
   "name": "python",
   "nbconvert_exporter": "python",
   "pygments_lexer": "ipython3",
   "version": "3.8.10"
  }
 },
 "nbformat": 4,
 "nbformat_minor": 5
}
