{
 "cells": [
  {
   "cell_type": "code",
   "execution_count": 2,
   "id": "a5e39bc3",
   "metadata": {},
   "outputs": [],
   "source": [
    "import os\n",
    "import pandas as pd\n",
    "import random"
   ]
  },
  {
   "cell_type": "code",
   "execution_count": 3,
   "id": "f1882793",
   "metadata": {},
   "outputs": [],
   "source": [
    "nb_tweets = 100\n",
    "FOLDER_PATH = '../data/processed/twitter/predict'\n",
    "EXPORT_PATH = '../src/tests'\n"
   ]
  },
  {
   "cell_type": "code",
   "execution_count": 4,
   "id": "08df34f3",
   "metadata": {},
   "outputs": [],
   "source": [
    "lst_candidats = [\"Pecresse\",\n",
    "                 \"Zemmour\",\n",
    "                 \"Dupont-Aignan\",\n",
    "                 \"Melenchon\",\n",
    "                 \"Le Pen\",\n",
    "                 \"Lassalle\",\n",
    "                 \"Hidalgo\",\n",
    "                 \"Macron\",\n",
    "                 \"Jadot\",\n",
    "                 \"Roussel\",\n",
    "                 \"Arthaud\",\n",
    "                 \"Poutou\"]"
   ]
  },
  {
   "cell_type": "code",
   "execution_count": 5,
   "id": "110cc6d9",
   "metadata": {},
   "outputs": [],
   "source": [
    "candidates_list_csv = [name.lower().replace(' ', '') for name in lst_candidats]"
   ]
  },
  {
   "cell_type": "code",
   "execution_count": 6,
   "id": "558776a1",
   "metadata": {},
   "outputs": [
    {
     "name": "stdout",
     "output_type": "stream",
     "text": [
      "['pecresse', 'zemmour', 'dupont-aignan', 'melenchon', 'lepen', 'lassalle', 'hidalgo', 'macron', 'jadot', 'roussel', 'arthaud', 'poutou']\n"
     ]
    }
   ],
   "source": [
    "print(candidates_list_csv)"
   ]
  },
  {
   "cell_type": "code",
   "execution_count": 8,
   "id": "dc30017e",
   "metadata": {},
   "outputs": [
    {
     "name": "stdout",
     "output_type": "stream",
     "text": [
      "    Unnamed: 0 candidate      time             tweet_id  \\\n",
      "0            0  Pecresse  19:59:49  1506722404948746242   \n",
      "1            1  Pecresse  19:58:15  1506722011434921988   \n",
      "2            2  Pecresse  19:56:15  1506721505106927620   \n",
      "3            3  Pecresse  19:55:06  1506721215788064772   \n",
      "4            4  Pecresse  19:54:09  1506720978478506002   \n",
      "..         ...       ...       ...                  ...   \n",
      "91           3    Poutou  15:51:39  1505210398173245455   \n",
      "92           4    Poutou  15:50:07  1505210015677923335   \n",
      "93           5    Poutou  15:49:13  1505209785951653894   \n",
      "94           6    Poutou  15:48:14  1505209542078046214   \n",
      "95           7    Poutou  15:48:13  1505209537187520517   \n",
      "\n",
      "                                                 text  \n",
      "0   @eric_dref @petroszozz77 @Luluchou26 @nadine__...  \n",
      "1   @lesRepublicains @nadine__morano @vpecresse @a...  \n",
      "2   @Luluchou26 @vpecresse @avecValerie @lesRepubl...  \n",
      "3   @lesRepublicains @nadine__morano @vpecresse @a...  \n",
      "4   @Herve_Morin @vpecresse @avecValerie @njeannet...  \n",
      "..                                                ...  \n",
      "91                 @PhilippePoutou Bravo ! Continuez.  \n",
      "92  @Amoths1 @Palladia_Mors @yannisvenim @Philippe...  \n",
      "93  @Manuel46558267 @PhilippePoutou Profiter quand...  \n",
      "94  @Nanar021 @PhilippePoutou Donc, puisque tu le ...  \n",
      "95                 @PhilippePoutou Mskn PTDRRRRRRRRRR  \n",
      "\n",
      "[96 rows x 5 columns]\n"
     ]
    }
   ],
   "source": [
    "list_dfs = []\n",
    "for candidate in candidates_list_csv:\n",
    "    files = [os.path.join(path, filename)\n",
    "         for path, dirs, files in os.walk(FOLDER_PATH)\n",
    "         for filename in files\n",
    "         if filename.startswith(candidate)]\n",
    "    csv_chosen = random.choice(files)\n",
    "    list_dfs.append(pd.read_csv(csv_chosen, nrows=int(nb_tweets/12)))\n",
    "df = pd.concat(list_dfs, axis=0, ignore_index=True)\n",
    "print(df)    "
   ]
  },
  {
   "cell_type": "code",
   "execution_count": 9,
   "id": "abf3e695",
   "metadata": {},
   "outputs": [],
   "source": [
    "del df[df.columns[0]]"
   ]
  },
  {
   "cell_type": "code",
   "execution_count": 10,
   "id": "d2fe165c",
   "metadata": {},
   "outputs": [
    {
     "name": "stdout",
     "output_type": "stream",
     "text": [
      "   candidate      time             tweet_id  \\\n",
      "0   Pecresse  19:59:49  1506722404948746242   \n",
      "1   Pecresse  19:58:15  1506722011434921988   \n",
      "2   Pecresse  19:56:15  1506721505106927620   \n",
      "3   Pecresse  19:55:06  1506721215788064772   \n",
      "4   Pecresse  19:54:09  1506720978478506002   \n",
      "..       ...       ...                  ...   \n",
      "91    Poutou  15:51:39  1505210398173245455   \n",
      "92    Poutou  15:50:07  1505210015677923335   \n",
      "93    Poutou  15:49:13  1505209785951653894   \n",
      "94    Poutou  15:48:14  1505209542078046214   \n",
      "95    Poutou  15:48:13  1505209537187520517   \n",
      "\n",
      "                                                 text  \n",
      "0   @eric_dref @petroszozz77 @Luluchou26 @nadine__...  \n",
      "1   @lesRepublicains @nadine__morano @vpecresse @a...  \n",
      "2   @Luluchou26 @vpecresse @avecValerie @lesRepubl...  \n",
      "3   @lesRepublicains @nadine__morano @vpecresse @a...  \n",
      "4   @Herve_Morin @vpecresse @avecValerie @njeannet...  \n",
      "..                                                ...  \n",
      "91                 @PhilippePoutou Bravo ! Continuez.  \n",
      "92  @Amoths1 @Palladia_Mors @yannisvenim @Philippe...  \n",
      "93  @Manuel46558267 @PhilippePoutou Profiter quand...  \n",
      "94  @Nanar021 @PhilippePoutou Donc, puisque tu le ...  \n",
      "95                 @PhilippePoutou Mskn PTDRRRRRRRRRR  \n",
      "\n",
      "[96 rows x 4 columns]\n"
     ]
    }
   ],
   "source": [
    "print(df)"
   ]
  },
  {
   "cell_type": "code",
   "execution_count": 11,
   "id": "5e1af060",
   "metadata": {},
   "outputs": [],
   "source": [
    "df['Positive'] = 0\n",
    "df['Negative'] = 0"
   ]
  },
  {
   "cell_type": "code",
   "execution_count": 12,
   "id": "bce48d93",
   "metadata": {},
   "outputs": [
    {
     "name": "stdout",
     "output_type": "stream",
     "text": [
      "0     0\n",
      "1     0\n",
      "2     0\n",
      "3     0\n",
      "4     0\n",
      "     ..\n",
      "91    0\n",
      "92    0\n",
      "93    0\n",
      "94    0\n",
      "95    0\n",
      "Name: Positive, Length: 96, dtype: int64\n"
     ]
    }
   ],
   "source": [
    "print(df['Positive'])"
   ]
  },
  {
   "cell_type": "code",
   "execution_count": 14,
   "id": "10ec60e6",
   "metadata": {},
   "outputs": [],
   "source": [
    "df.to_csv(f\"{EXPORT_PATH}/test_set_{len(df)}tweets_unlabeled\")"
   ]
  },
  {
   "cell_type": "markdown",
   "id": "53f8c6d1",
   "metadata": {},
   "source": [
    "# TEST\n"
   ]
  },
  {
   "cell_type": "code",
   "execution_count": 15,
   "id": "30e2c269",
   "metadata": {},
   "outputs": [],
   "source": [
    "df2 = pd.read_csv(\"../src/tests/test_set_120tweets_unlabeled.csv\", nrows=240)"
   ]
  },
  {
   "cell_type": "code",
   "execution_count": 17,
   "id": "3b4cc072",
   "metadata": {},
   "outputs": [
    {
     "name": "stdout",
     "output_type": "stream",
     "text": [
      "     Unnamed: 0 candidate      time             tweet_id  \\\n",
      "0             0  Pecresse  15:58:19  1505936851709747210   \n",
      "1             1  Pecresse  15:57:11  1505936568510517252   \n",
      "2             2  Pecresse  15:55:43  1505936200019980292   \n",
      "3             3  Pecresse  15:55:40  1505936186719752194   \n",
      "4             4  Pecresse  15:55:26  1505936127580155909   \n",
      "..          ...       ...       ...                  ...   \n",
      "115         115    Poutou  23:37:00  1505689895439851520   \n",
      "116         116    Poutou  23:36:14  1505689703537852422   \n",
      "117         117    Poutou  23:34:29  1505689262766927878   \n",
      "118         118    Poutou  23:34:28  1505689260103503878   \n",
      "119         119    Poutou  23:33:24  1505688991110160385   \n",
      "\n",
      "                                                  text  Positive  Negative  \n",
      "0    @lesRepublicains @vpecresse @avecValerie Votre...         0         0  \n",
      "1    @avecValerie @vpecresse @ChJacob77 Les bal tri...         0         0  \n",
      "2    @17eavecValerie @vpecresse @AureliAssouline @A...         0         0  \n",
      "3    @avecValerie @vpecresse @ChJacob77 J' adore ce...         0         0  \n",
      "4    @17eavecValerie @vpecresse @adlmorandiere @Led...         0         0  \n",
      "..                                                 ...       ...       ...  \n",
      "115  @Turnaround591 @Chamade69 @intaluki @leJDD @Ph...         0         0  \n",
      "116  @Chamade69 @intaluki @leJDD @PhilippePoutou 20...         0         0  \n",
      "117  @misterjul94 @despasperdus @PhilippePoutou @JL...         0         0  \n",
      "118  @PhilippePoutou Je comprend pas pourquoi on ap...         0         0  \n",
      "119  @misterjul94 @despasperdus @PhilippePoutou @JL...         0         0  \n",
      "\n",
      "[120 rows x 7 columns]\n"
     ]
    }
   ],
   "source": [
    "print(df2)"
   ]
  },
  {
   "cell_type": "code",
   "execution_count": null,
   "id": "f5c5887c",
   "metadata": {},
   "outputs": [],
   "source": []
  }
 ],
 "metadata": {
  "kernelspec": {
   "display_name": "Python 3 (ipykernel)",
   "language": "python",
   "name": "python3"
  },
  "language_info": {
   "codemirror_mode": {
    "name": "ipython",
    "version": 3
   },
   "file_extension": ".py",
   "mimetype": "text/x-python",
   "name": "python",
   "nbconvert_exporter": "python",
   "pygments_lexer": "ipython3",
   "version": "3.8.12"
  }
 },
 "nbformat": 4,
 "nbformat_minor": 5
}
