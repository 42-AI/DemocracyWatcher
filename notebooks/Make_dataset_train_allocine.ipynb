{
 "cells": [
  {
   "cell_type": "code",
   "execution_count": 2,
   "id": "7cb04884",
   "metadata": {},
   "outputs": [],
   "source": [
    "from datasets import load_dataset\n",
    "import pandas as pd\n",
    "import os"
   ]
  },
  {
   "cell_type": "code",
   "execution_count": 3,
   "id": "b126be7c",
   "metadata": {},
   "outputs": [],
   "source": [
    "EXPORT_PATH = \"../data/processed/allocine/\""
   ]
  },
  {
   "cell_type": "code",
   "execution_count": 5,
   "id": "ee9464ed",
   "metadata": {},
   "outputs": [
    {
     "name": "stderr",
     "output_type": "stream",
     "text": [
      "Reusing dataset allocine_dataset (/Users/Alex/.cache/huggingface/datasets/allocine_dataset/allocine/1.0.0/91f700d606838c22c5c370846746e60503219d0c1f16ed96bfd1fa19a73458eb)\n"
     ]
    },
    {
     "name": "stdout",
     "output_type": "stream",
     "text": [
      "{'review': 'Magnifique épopée, une belle histoire, touchante avec des acteurs qui interprètent très bien leur rôles (Mel Gibson, Heath Ledger, Jason Isaacs...), le genre de film qui se savoure en famille! :)', 'label': 1}\n"
     ]
    }
   ],
   "source": [
    "dataset = load_dataset('allocine', split='test')\n",
    "print(dataset[0])"
   ]
  },
  {
   "cell_type": "code",
   "execution_count": 6,
   "id": "2353aec9",
   "metadata": {},
   "outputs": [],
   "source": [
    "pre_df = []\n",
    "df = []"
   ]
  },
  {
   "cell_type": "code",
   "execution_count": 6,
   "id": "ff94ea53",
   "metadata": {},
   "outputs": [
    {
     "name": "stdout",
     "output_type": "stream",
     "text": [
      "                                                    text  Positive\n",
      "0      Magnifique épopée, une belle histoire, touchan...         1\n",
      "1      Je n'ai pas aimé mais pourtant je lui mets 2 é...         0\n",
      "2      Un dessin animé qui brille par sa féerie et se...         1\n",
      "3      Si c'est là le renouveau du cinéma français, c...         0\n",
      "4      Et pourtant on s’en Doutait !Second volet très...         0\n",
      "...                                                  ...       ...\n",
      "19995  je suis éventreur, arracheur, tailladeur, goug...         1\n",
      "19996  Trémors 3 essouffle la série des trémors par u...         0\n",
      "19997  0/20 : Tout d’abord, la mise en scène est tout...         0\n",
      "19998  Un scénario très original mené par des personn...         1\n",
      "19999  Ce dernier volet de la trilogie a beau être le...         1\n",
      "\n",
      "[20000 rows x 2 columns]\n"
     ]
    }
   ],
   "source": [
    "pre_df = {\n",
    "    \"text\": [datapoint[\"review\"] for datapoint in dataset],\n",
    "    \"Positive\": [datapoint[\"label\"] for datapoint in dataset],\n",
    "}\n",
    "df = pd.DataFrame.from_dict(pre_df)\n",
    "print(df)\n",
    "   "
   ]
  },
  {
   "cell_type": "code",
   "execution_count": 7,
   "id": "0b474464",
   "metadata": {},
   "outputs": [],
   "source": [
    "df['Negative'] = abs(df['Positive'] - 1)"
   ]
  },
  {
   "cell_type": "code",
   "execution_count": 8,
   "id": "3cc75478",
   "metadata": {},
   "outputs": [
    {
     "name": "stdout",
     "output_type": "stream",
     "text": [
      "                                                    text  Positive  Negative\n",
      "0      Magnifique épopée, une belle histoire, touchan...         1         0\n",
      "1      Je n'ai pas aimé mais pourtant je lui mets 2 é...         0         1\n",
      "2      Un dessin animé qui brille par sa féerie et se...         1         0\n",
      "3      Si c'est là le renouveau du cinéma français, c...         0         1\n",
      "4      Et pourtant on s’en Doutait !Second volet très...         0         1\n",
      "...                                                  ...       ...       ...\n",
      "19995  je suis éventreur, arracheur, tailladeur, goug...         1         0\n",
      "19996  Trémors 3 essouffle la série des trémors par u...         0         1\n",
      "19997  0/20 : Tout d’abord, la mise en scène est tout...         0         1\n",
      "19998  Un scénario très original mené par des personn...         1         0\n",
      "19999  Ce dernier volet de la trilogie a beau être le...         1         0\n",
      "\n",
      "[20000 rows x 3 columns]\n"
     ]
    }
   ],
   "source": [
    "print(df)"
   ]
  },
  {
   "cell_type": "code",
   "execution_count": 11,
   "id": "dd74b6b3",
   "metadata": {},
   "outputs": [],
   "source": [
    "os.makedirs(EXPORT_PATH, exist_ok=True)\n",
    "df.to_csv(f\"{EXPORT_PATH}/allocine_trainset_{len(df)}reviews.csv\")"
   ]
  },
  {
   "cell_type": "markdown",
   "id": "eb28ee47",
   "metadata": {},
   "source": [
    "# Test set"
   ]
  },
  {
   "cell_type": "code",
   "execution_count": 12,
   "id": "89de999b",
   "metadata": {},
   "outputs": [
    {
     "name": "stderr",
     "output_type": "stream",
     "text": [
      "Reusing dataset allocine_dataset (/Users/Alex/.cache/huggingface/datasets/allocine_dataset/allocine/1.0.0/91f700d606838c22c5c370846746e60503219d0c1f16ed96bfd1fa19a73458eb)\n"
     ]
    }
   ],
   "source": [
    "dataset_test = load_dataset('allocine', split='test')"
   ]
  },
  {
   "cell_type": "code",
   "execution_count": 9,
   "id": "9278404c",
   "metadata": {},
   "outputs": [],
   "source": [
    "nb = 5\n",
    "df = df.iloc[:nb,:]"
   ]
  },
  {
   "cell_type": "code",
   "execution_count": 10,
   "id": "f72292c2",
   "metadata": {},
   "outputs": [
    {
     "name": "stdout",
     "output_type": "stream",
     "text": [
      "                                                text  Positive  Negative\n",
      "0  Magnifique épopée, une belle histoire, touchan...         1         0\n",
      "1  Je n'ai pas aimé mais pourtant je lui mets 2 é...         0         1\n",
      "2  Un dessin animé qui brille par sa féerie et se...         1         0\n",
      "3  Si c'est là le renouveau du cinéma français, c...         0         1\n",
      "4  Et pourtant on s’en Doutait !Second volet très...         0         1\n"
     ]
    }
   ],
   "source": [
    "print(df)"
   ]
  },
  {
   "cell_type": "code",
   "execution_count": 17,
   "id": "db4cbba4",
   "metadata": {},
   "outputs": [
    {
     "name": "stdout",
     "output_type": "stream",
     "text": [
      "                                                text  Positive  Negative\n",
      "0  Magnifique épopée, une belle histoire, touchan...         1         0\n",
      "4  Et pourtant on s’en Doutait !Second volet très...         0         1\n"
     ]
    }
   ],
   "source": [
    "df2 = df.sample(n=2)\n",
    "print(df2)"
   ]
  },
  {
   "cell_type": "code",
   "execution_count": 18,
   "id": "fc82ed22",
   "metadata": {},
   "outputs": [
    {
     "name": "stdout",
     "output_type": "stream",
     "text": [
      "                                                text  Positive  Negative\n",
      "0  Magnifique épopée, une belle histoire, touchan...         1         0\n",
      "4  Et pourtant on s’en Doutait !Second volet très...         0         1\n"
     ]
    }
   ],
   "source": [
    "print(df2.head())"
   ]
  },
  {
   "cell_type": "code",
   "execution_count": 19,
   "id": "febdcec1",
   "metadata": {},
   "outputs": [
    {
     "name": "stdout",
     "output_type": "stream",
     "text": [
      "   index                                               text  Positive  \\\n",
      "0      0  Magnifique épopée, une belle histoire, touchan...         1   \n",
      "1      4  Et pourtant on s’en Doutait !Second volet très...         0   \n",
      "\n",
      "   Negative  \n",
      "0         0  \n",
      "1         1  \n"
     ]
    }
   ],
   "source": [
    "df2 = df2.reset_index()\n",
    "print(df2.head())"
   ]
  },
  {
   "cell_type": "code",
   "execution_count": 20,
   "id": "6fbfeb58",
   "metadata": {},
   "outputs": [
    {
     "name": "stdout",
     "output_type": "stream",
     "text": [
      "                                                text  Positive  Negative\n",
      "0  Magnifique épopée, une belle histoire, touchan...         1         0\n",
      "1  Et pourtant on s’en Doutait !Second volet très...         0         1\n"
     ]
    }
   ],
   "source": [
    "df2 = df2.drop('index', axis=1)\n",
    "print(df2.head())"
   ]
  },
  {
   "cell_type": "code",
   "execution_count": null,
   "id": "cb661036",
   "metadata": {},
   "outputs": [],
   "source": []
  }
 ],
 "metadata": {
  "kernelspec": {
   "display_name": "Python 3 (ipykernel)",
   "language": "python",
   "name": "python3"
  },
  "language_info": {
   "codemirror_mode": {
    "name": "ipython",
    "version": 3
   },
   "file_extension": ".py",
   "mimetype": "text/x-python",
   "name": "python",
   "nbconvert_exporter": "python",
   "pygments_lexer": "ipython3",
   "version": "3.8.12"
  }
 },
 "nbformat": 4,
 "nbformat_minor": 5
}
