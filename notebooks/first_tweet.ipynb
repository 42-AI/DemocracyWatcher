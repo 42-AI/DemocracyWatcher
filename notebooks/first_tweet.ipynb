{
 "cells": [
  {
   "cell_type": "code",
   "execution_count": null,
   "id": "7daf9340",
   "metadata": {},
   "outputs": [],
   "source": [
    "!ls"
   ]
  },
  {
   "cell_type": "code",
   "execution_count": null,
   "id": "6dcd7686-d67f-4939-a2bc-29aff349ca09",
   "metadata": {},
   "outputs": [],
   "source": [
    "!pip install -r /mnt/nfs/homes/athirion/git/SentimentalBB/requirements.txt"
   ]
  },
  {
   "cell_type": "code",
   "execution_count": null,
   "id": "7f9ca8bd-1995-4b5a-9098-55ba1be97023",
   "metadata": {
    "tags": []
   },
   "outputs": [],
   "source": [
    "! pip list"
   ]
  },
  {
   "cell_type": "code",
   "execution_count": null,
   "id": "1f6719ab-53bf-430e-acb5-47ee95aa875e",
   "metadata": {},
   "outputs": [],
   "source": [
    "import searchtweets\n",
    "\n",
    "searchtweets.__version__"
   ]
  },
  {
   "cell_type": "code",
   "execution_count": null,
   "id": "57f7485a-ec2e-4663-9e5b-8747143393e5",
   "metadata": {},
   "outputs": [],
   "source": [
    "from searchtweets import ResultStream, gen_request_parameters, load_credentials"
   ]
  },
  {
   "cell_type": "code",
   "execution_count": null,
   "id": "517954a2-b94e-4410-a67b-477632a8b51f",
   "metadata": {},
   "outputs": [],
   "source": [
    "search_args = load_credentials(filename=\"./search_tweets_creds_example.yaml\",\n",
    "                 yaml_key=\"search_tweets_v2_example\",\n",
    "                 env_overwrite=False)"
   ]
  },
  {
   "cell_type": "code",
   "execution_count": null,
   "id": "efd4229c-d79f-4f8b-9a6c-2b50e0cb0a2e",
   "metadata": {},
   "outputs": [],
   "source": [
    "search_args = load_credentials(filename=None)\n"
   ]
  },
  {
   "cell_type": "code",
   "execution_count": null,
   "id": "089e8040-c48f-4908-a9d4-e030a213a8ce",
   "metadata": {},
   "outputs": [],
   "source": [
    "# search_args"
   ]
  },
  {
   "cell_type": "code",
   "execution_count": null,
   "id": "a3b6dc1c-593f-4105-b11f-004a6c08890b",
   "metadata": {},
   "outputs": [],
   "source": [
    "query = gen_request_parameters(\"Emmanuel Macron\", results_per_call=100, granularity=None)\n",
    "print(query)"
   ]
  },
  {
   "cell_type": "code",
   "execution_count": null,
   "id": "50568fb5-af92-4821-970d-607fc219201f",
   "metadata": {},
   "outputs": [],
   "source": [
    "from searchtweets import collect_results"
   ]
  },
  {
   "cell_type": "code",
   "execution_count": null,
   "id": "0dcb9f4a-a36f-4b62-ad8f-b8f8f62085e2",
   "metadata": {},
   "outputs": [],
   "source": [
    "tweets = collect_results(query, max_tweets=100, result_stream_args=search_args) "
   ]
  },
  {
   "cell_type": "code",
   "execution_count": null,
   "id": "8acb6067-5114-4e6c-95c4-618976ac8b2c",
   "metadata": {
    "tags": []
   },
   "outputs": [],
   "source": [
    "tweets"
   ]
  },
  {
   "cell_type": "code",
   "execution_count": null,
   "id": "eb846998-1eb3-4e43-b9a1-a79e992d4d12",
   "metadata": {},
   "outputs": [],
   "source": [
    "type(tweets)"
   ]
  },
  {
   "cell_type": "code",
   "execution_count": null,
   "id": "66ffdc12-d54c-470b-a5a8-3fa38e90e872",
   "metadata": {},
   "outputs": [],
   "source": [
    "func = lambda tweets, tweet_nb: tweets[0]['data'][tweet_nb]['text']"
   ]
  },
  {
   "cell_type": "code",
   "execution_count": null,
   "id": "db908d89-38ae-4738-a0fa-8c430e63c93b",
   "metadata": {},
   "outputs": [],
   "source": [
    "print(func(tweets, 11)[::])"
   ]
  },
  {
   "cell_type": "code",
   "execution_count": null,
   "id": "43963ace-7dae-4ce4-8579-b58203f4cfe2",
   "metadata": {
    "tags": []
   },
   "outputs": [],
   "source": [
    "\n",
    "request = tweets\n",
    "for element in request:\n",
    "    for id, tweet in enumerate(element['data']):\n",
    "        print(f\"Tweet n*{id}\")\n",
    "        print(tweet[\"text\"])\n",
    "        print(f\"\")\n"
   ]
  },
  {
   "cell_type": "code",
   "execution_count": null,
   "id": "2a837d42-8ba7-4e26-82e5-b18d2c383fa8",
   "metadata": {},
   "outputs": [],
   "source": [
    "[print(tweet[\"text\"], end='\\n\\n') for tweet in tweets[0:10]]"
   ]
  },
  {
   "cell_type": "code",
   "execution_count": null,
   "id": "731e3278-7876-4295-b571-19d6bdef73f1",
   "metadata": {},
   "outputs": [],
   "source": []
  }
 ],
 "metadata": {
  "kernelspec": {
   "display_name": "Python 3 (ipykernel)",
   "language": "python",
   "name": "python3"
  },
  "language_info": {
   "codemirror_mode": {
    "name": "ipython",
    "version": 3
   },
   "file_extension": ".py",
   "mimetype": "text/x-python",
   "name": "python",
   "nbconvert_exporter": "python",
   "pygments_lexer": "ipython3",
   "version": "3.8.10"
  }
 },
 "nbformat": 4,
 "nbformat_minor": 5
}
