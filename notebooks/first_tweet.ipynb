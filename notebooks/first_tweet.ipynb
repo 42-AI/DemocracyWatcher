{
 "cells": [
  {
   "cell_type": "code",
   "execution_count": 6,
   "id": "7daf9340",
   "metadata": {},
   "outputs": [
    {
     "name": "stdout",
     "output_type": "stream",
     "text": [
      "first_tweet.ipynb\r\n"
     ]
    }
   ],
   "source": [
    "!ls"
   ]
  },
  {
   "cell_type": "code",
   "execution_count": 3,
   "id": "6dcd7686-d67f-4939-a2bc-29aff349ca09",
   "metadata": {},
   "outputs": [
    {
     "name": "stdout",
     "output_type": "stream",
     "text": [
      "Requirement already satisfied: awscli in /mnt/nfs/homes/athirion/git/SentimentalBB/venv/lib/python3.8/site-packages (from -r /mnt/nfs/homes/athirion/git/SentimentalBB/requirements.txt (line 5)) (1.22.68)\n",
      "Requirement already satisfied: autopep8 in /mnt/nfs/homes/athirion/git/SentimentalBB/venv/lib/python3.8/site-packages (from -r /mnt/nfs/homes/athirion/git/SentimentalBB/requirements.txt (line 6)) (1.6.0)\n",
      "Requirement already satisfied: pytest in /mnt/nfs/homes/athirion/git/SentimentalBB/venv/lib/python3.8/site-packages (from -r /mnt/nfs/homes/athirion/git/SentimentalBB/requirements.txt (line 7)) (7.0.1)\n",
      "Requirement already satisfied: dvc in /mnt/nfs/homes/athirion/git/SentimentalBB/venv/lib/python3.8/site-packages (from -r /mnt/nfs/homes/athirion/git/SentimentalBB/requirements.txt (line 8)) (2.9.5)\n",
      "Requirement already satisfied: numpy in /mnt/nfs/homes/athirion/git/SentimentalBB/venv/lib/python3.8/site-packages (from -r /mnt/nfs/homes/athirion/git/SentimentalBB/requirements.txt (line 11)) (1.22.2)\n",
      "Requirement already satisfied: pandas in /mnt/nfs/homes/athirion/git/SentimentalBB/venv/lib/python3.8/site-packages (from -r /mnt/nfs/homes/athirion/git/SentimentalBB/requirements.txt (line 12)) (1.4.1)\n",
      "Requirement already satisfied: hydra in /mnt/nfs/homes/athirion/git/SentimentalBB/venv/lib/python3.8/site-packages (from -r /mnt/nfs/homes/athirion/git/SentimentalBB/requirements.txt (line 13)) (2.5)\n",
      "Requirement already satisfied: hydra-core in /mnt/nfs/homes/athirion/git/SentimentalBB/venv/lib/python3.8/site-packages (from -r /mnt/nfs/homes/athirion/git/SentimentalBB/requirements.txt (line 14)) (1.1.1)\n",
      "Requirement already satisfied: hydra_colorlog in /mnt/nfs/homes/athirion/git/SentimentalBB/venv/lib/python3.8/site-packages (from -r /mnt/nfs/homes/athirion/git/SentimentalBB/requirements.txt (line 15)) (1.1.0)\n",
      "Requirement already satisfied: omegaconf in /mnt/nfs/homes/athirion/git/SentimentalBB/venv/lib/python3.8/site-packages (from -r /mnt/nfs/homes/athirion/git/SentimentalBB/requirements.txt (line 16)) (2.1.1)\n",
      "Collecting searchtweets-v2\n",
      "  Downloading searchtweets_v2-1.1.1-py3-none-any.whl (32 kB)\n",
      "Requirement already satisfied: fastapi in /mnt/nfs/homes/athirion/git/SentimentalBB/venv/lib/python3.8/site-packages (from -r /mnt/nfs/homes/athirion/git/SentimentalBB/requirements.txt (line 20)) (0.75.0)\n",
      "Requirement already satisfied: uvicorn in /mnt/nfs/homes/athirion/git/SentimentalBB/venv/lib/python3.8/site-packages (from -r /mnt/nfs/homes/athirion/git/SentimentalBB/requirements.txt (line 21)) (0.17.5)\n",
      "Requirement already satisfied: docutils<0.16,>=0.10 in /mnt/nfs/homes/athirion/git/SentimentalBB/venv/lib/python3.8/site-packages (from awscli->-r /mnt/nfs/homes/athirion/git/SentimentalBB/requirements.txt (line 5)) (0.15.2)\n",
      "Requirement already satisfied: botocore==1.24.13 in /mnt/nfs/homes/athirion/git/SentimentalBB/venv/lib/python3.8/site-packages (from awscli->-r /mnt/nfs/homes/athirion/git/SentimentalBB/requirements.txt (line 5)) (1.24.13)\n",
      "Requirement already satisfied: s3transfer<0.6.0,>=0.5.0 in /mnt/nfs/homes/athirion/git/SentimentalBB/venv/lib/python3.8/site-packages (from awscli->-r /mnt/nfs/homes/athirion/git/SentimentalBB/requirements.txt (line 5)) (0.5.2)\n",
      "Requirement already satisfied: colorama<0.4.4,>=0.2.5 in /mnt/nfs/homes/athirion/git/SentimentalBB/venv/lib/python3.8/site-packages (from awscli->-r /mnt/nfs/homes/athirion/git/SentimentalBB/requirements.txt (line 5)) (0.4.3)\n",
      "Requirement already satisfied: PyYAML<5.5,>=3.10 in /mnt/nfs/homes/athirion/git/SentimentalBB/venv/lib/python3.8/site-packages (from awscli->-r /mnt/nfs/homes/athirion/git/SentimentalBB/requirements.txt (line 5)) (5.4.1)\n",
      "Requirement already satisfied: rsa<4.8,>=3.1.2 in /mnt/nfs/homes/athirion/git/SentimentalBB/venv/lib/python3.8/site-packages (from awscli->-r /mnt/nfs/homes/athirion/git/SentimentalBB/requirements.txt (line 5)) (4.7.2)\n",
      "Requirement already satisfied: urllib3<1.27,>=1.25.4 in /mnt/nfs/homes/athirion/git/SentimentalBB/venv/lib/python3.8/site-packages (from botocore==1.24.13->awscli->-r /mnt/nfs/homes/athirion/git/SentimentalBB/requirements.txt (line 5)) (1.26.8)\n",
      "Requirement already satisfied: jmespath<1.0.0,>=0.7.1 in /mnt/nfs/homes/athirion/git/SentimentalBB/venv/lib/python3.8/site-packages (from botocore==1.24.13->awscli->-r /mnt/nfs/homes/athirion/git/SentimentalBB/requirements.txt (line 5)) (0.10.0)\n",
      "Requirement already satisfied: python-dateutil<3.0.0,>=2.1 in /mnt/nfs/homes/athirion/git/SentimentalBB/venv/lib/python3.8/site-packages (from botocore==1.24.13->awscli->-r /mnt/nfs/homes/athirion/git/SentimentalBB/requirements.txt (line 5)) (2.8.2)\n",
      "Requirement already satisfied: pycodestyle>=2.8.0 in /mnt/nfs/homes/athirion/git/SentimentalBB/venv/lib/python3.8/site-packages (from autopep8->-r /mnt/nfs/homes/athirion/git/SentimentalBB/requirements.txt (line 6)) (2.8.0)\n",
      "Requirement already satisfied: toml in /mnt/nfs/homes/athirion/git/SentimentalBB/venv/lib/python3.8/site-packages (from autopep8->-r /mnt/nfs/homes/athirion/git/SentimentalBB/requirements.txt (line 6)) (0.10.2)\n",
      "Requirement already satisfied: tomli>=1.0.0 in /mnt/nfs/homes/athirion/git/SentimentalBB/venv/lib/python3.8/site-packages (from pytest->-r /mnt/nfs/homes/athirion/git/SentimentalBB/requirements.txt (line 7)) (2.0.1)\n",
      "Requirement already satisfied: py>=1.8.2 in /mnt/nfs/homes/athirion/git/SentimentalBB/venv/lib/python3.8/site-packages (from pytest->-r /mnt/nfs/homes/athirion/git/SentimentalBB/requirements.txt (line 7)) (1.11.0)\n",
      "Requirement already satisfied: packaging in /mnt/nfs/homes/athirion/git/SentimentalBB/venv/lib/python3.8/site-packages (from pytest->-r /mnt/nfs/homes/athirion/git/SentimentalBB/requirements.txt (line 7)) (21.3)\n",
      "Requirement already satisfied: iniconfig in /mnt/nfs/homes/athirion/git/SentimentalBB/venv/lib/python3.8/site-packages (from pytest->-r /mnt/nfs/homes/athirion/git/SentimentalBB/requirements.txt (line 7)) (1.1.1)\n",
      "Requirement already satisfied: pluggy<2.0,>=0.12 in /mnt/nfs/homes/athirion/git/SentimentalBB/venv/lib/python3.8/site-packages (from pytest->-r /mnt/nfs/homes/athirion/git/SentimentalBB/requirements.txt (line 7)) (1.0.0)\n",
      "Requirement already satisfied: attrs>=19.2.0 in /mnt/nfs/homes/athirion/git/SentimentalBB/venv/lib/python3.8/site-packages (from pytest->-r /mnt/nfs/homes/athirion/git/SentimentalBB/requirements.txt (line 7)) (21.4.0)\n",
      "Requirement already satisfied: zc.lockfile>=1.2.1 in /mnt/nfs/homes/athirion/git/SentimentalBB/venv/lib/python3.8/site-packages (from dvc->-r /mnt/nfs/homes/athirion/git/SentimentalBB/requirements.txt (line 8)) (2.0)\n",
      "Requirement already satisfied: distro>=1.3.0 in /mnt/nfs/homes/athirion/git/SentimentalBB/venv/lib/python3.8/site-packages (from dvc->-r /mnt/nfs/homes/athirion/git/SentimentalBB/requirements.txt (line 8)) (1.7.0)\n",
      "Requirement already satisfied: tabulate>=0.8.7 in /mnt/nfs/homes/athirion/git/SentimentalBB/venv/lib/python3.8/site-packages (from dvc->-r /mnt/nfs/homes/athirion/git/SentimentalBB/requirements.txt (line 8)) (0.8.9)\n",
      "Requirement already satisfied: aiohttp-retry>=2.4.5 in /mnt/nfs/homes/athirion/git/SentimentalBB/venv/lib/python3.8/site-packages (from dvc->-r /mnt/nfs/homes/athirion/git/SentimentalBB/requirements.txt (line 8)) (2.4.6)\n",
      "Requirement already satisfied: pygtrie>=2.3.2 in /mnt/nfs/homes/athirion/git/SentimentalBB/venv/lib/python3.8/site-packages (from dvc->-r /mnt/nfs/homes/athirion/git/SentimentalBB/requirements.txt (line 8)) (2.4.2)\n",
      "Requirement already satisfied: shortuuid>=0.5.0 in /mnt/nfs/homes/athirion/git/SentimentalBB/venv/lib/python3.8/site-packages (from dvc->-r /mnt/nfs/homes/athirion/git/SentimentalBB/requirements.txt (line 8)) (1.0.8)\n",
      "Requirement already satisfied: ruamel.yaml>=0.17.11 in /mnt/nfs/homes/athirion/git/SentimentalBB/venv/lib/python3.8/site-packages (from dvc->-r /mnt/nfs/homes/athirion/git/SentimentalBB/requirements.txt (line 8)) (0.17.21)\n",
      "Requirement already satisfied: shtab<2,>=1.3.4 in /mnt/nfs/homes/athirion/git/SentimentalBB/venv/lib/python3.8/site-packages (from dvc->-r /mnt/nfs/homes/athirion/git/SentimentalBB/requirements.txt (line 8)) (1.5.3)\n",
      "Requirement already satisfied: python-benedict>=0.24.2 in /mnt/nfs/homes/athirion/git/SentimentalBB/venv/lib/python3.8/site-packages (from dvc->-r /mnt/nfs/homes/athirion/git/SentimentalBB/requirements.txt (line 8)) (0.24.3)\n",
      "Requirement already satisfied: fsspec[http]>=2021.10.1 in /mnt/nfs/homes/athirion/git/SentimentalBB/venv/lib/python3.8/site-packages (from dvc->-r /mnt/nfs/homes/athirion/git/SentimentalBB/requirements.txt (line 8)) (2022.2.0)\n",
      "Requirement already satisfied: nanotime>=0.5.2 in /mnt/nfs/homes/athirion/git/SentimentalBB/venv/lib/python3.8/site-packages (from dvc->-r /mnt/nfs/homes/athirion/git/SentimentalBB/requirements.txt (line 8)) (0.5.2)\n",
      "Requirement already satisfied: flatten-dict<1,>=0.4.1 in /mnt/nfs/homes/athirion/git/SentimentalBB/venv/lib/python3.8/site-packages (from dvc->-r /mnt/nfs/homes/athirion/git/SentimentalBB/requirements.txt (line 8)) (0.4.2)\n",
      "Requirement already satisfied: configobj>=5.0.6 in /mnt/nfs/homes/athirion/git/SentimentalBB/venv/lib/python3.8/site-packages (from dvc->-r /mnt/nfs/homes/athirion/git/SentimentalBB/requirements.txt (line 8)) (5.0.6)\n",
      "Requirement already satisfied: tqdm<5,>=4.45.0 in /mnt/nfs/homes/athirion/git/SentimentalBB/venv/lib/python3.8/site-packages (from dvc->-r /mnt/nfs/homes/athirion/git/SentimentalBB/requirements.txt (line 8)) (4.63.0)\n",
      "Requirement already satisfied: pydot>=1.2.4 in /mnt/nfs/homes/athirion/git/SentimentalBB/venv/lib/python3.8/site-packages (from dvc->-r /mnt/nfs/homes/athirion/git/SentimentalBB/requirements.txt (line 8)) (1.4.2)\n",
      "Requirement already satisfied: voluptuous>=0.11.7 in /mnt/nfs/homes/athirion/git/SentimentalBB/venv/lib/python3.8/site-packages (from dvc->-r /mnt/nfs/homes/athirion/git/SentimentalBB/requirements.txt (line 8)) (0.12.2)\n",
      "Requirement already satisfied: pyparsing>=2.4.7 in /mnt/nfs/homes/athirion/git/SentimentalBB/venv/lib/python3.8/site-packages (from dvc->-r /mnt/nfs/homes/athirion/git/SentimentalBB/requirements.txt (line 8)) (3.0.7)\n",
      "Requirement already satisfied: appdirs>=1.4.3 in /mnt/nfs/homes/athirion/git/SentimentalBB/venv/lib/python3.8/site-packages (from dvc->-r /mnt/nfs/homes/athirion/git/SentimentalBB/requirements.txt (line 8)) (1.4.4)\n",
      "Requirement already satisfied: scmrepo==0.0.7 in /mnt/nfs/homes/athirion/git/SentimentalBB/venv/lib/python3.8/site-packages (from dvc->-r /mnt/nfs/homes/athirion/git/SentimentalBB/requirements.txt (line 8)) (0.0.7)\n",
      "Requirement already satisfied: pyasn1>=0.4.1 in /mnt/nfs/homes/athirion/git/SentimentalBB/venv/lib/python3.8/site-packages (from dvc->-r /mnt/nfs/homes/athirion/git/SentimentalBB/requirements.txt (line 8)) (0.4.8)\n",
      "Requirement already satisfied: grandalf==0.6 in /mnt/nfs/homes/athirion/git/SentimentalBB/venv/lib/python3.8/site-packages (from dvc->-r /mnt/nfs/homes/athirion/git/SentimentalBB/requirements.txt (line 8)) (0.6)\n",
      "Requirement already satisfied: requests>=2.22.0 in /mnt/nfs/homes/athirion/git/SentimentalBB/venv/lib/python3.8/site-packages (from dvc->-r /mnt/nfs/homes/athirion/git/SentimentalBB/requirements.txt (line 8)) (2.27.1)\n",
      "Requirement already satisfied: funcy>=1.14 in /mnt/nfs/homes/athirion/git/SentimentalBB/venv/lib/python3.8/site-packages (from dvc->-r /mnt/nfs/homes/athirion/git/SentimentalBB/requirements.txt (line 8)) (1.17)\n",
      "Requirement already satisfied: ply>=3.9 in /mnt/nfs/homes/athirion/git/SentimentalBB/venv/lib/python3.8/site-packages (from dvc->-r /mnt/nfs/homes/athirion/git/SentimentalBB/requirements.txt (line 8)) (3.11)\n",
      "Requirement already satisfied: pathspec<0.10.0,>=0.9.0 in /mnt/nfs/homes/athirion/git/SentimentalBB/venv/lib/python3.8/site-packages (from dvc->-r /mnt/nfs/homes/athirion/git/SentimentalBB/requirements.txt (line 8)) (0.9.0)\n",
      "Requirement already satisfied: networkx>=2.5 in /mnt/nfs/homes/athirion/git/SentimentalBB/venv/lib/python3.8/site-packages (from dvc->-r /mnt/nfs/homes/athirion/git/SentimentalBB/requirements.txt (line 8)) (2.7.1)\n",
      "Requirement already satisfied: dpath<3,>=2.0.2 in /mnt/nfs/homes/athirion/git/SentimentalBB/venv/lib/python3.8/site-packages (from dvc->-r /mnt/nfs/homes/athirion/git/SentimentalBB/requirements.txt (line 8)) (2.0.6)\n",
      "Requirement already satisfied: rich>=10.13.0 in /mnt/nfs/homes/athirion/git/SentimentalBB/venv/lib/python3.8/site-packages (from dvc->-r /mnt/nfs/homes/athirion/git/SentimentalBB/requirements.txt (line 8)) (11.2.0)\n",
      "Requirement already satisfied: flufl.lock>=5 in /mnt/nfs/homes/athirion/git/SentimentalBB/venv/lib/python3.8/site-packages (from dvc->-r /mnt/nfs/homes/athirion/git/SentimentalBB/requirements.txt (line 8)) (7.0)\n",
      "Requirement already satisfied: dictdiffer>=0.8.1 in /mnt/nfs/homes/athirion/git/SentimentalBB/venv/lib/python3.8/site-packages (from dvc->-r /mnt/nfs/homes/athirion/git/SentimentalBB/requirements.txt (line 8)) (0.9.0)\n",
      "Requirement already satisfied: psutil>=5.8.0 in /mnt/nfs/homes/athirion/git/SentimentalBB/venv/lib/python3.8/site-packages (from dvc->-r /mnt/nfs/homes/athirion/git/SentimentalBB/requirements.txt (line 8)) (5.9.0)\n",
      "Requirement already satisfied: diskcache>=5.2.1 in /mnt/nfs/homes/athirion/git/SentimentalBB/venv/lib/python3.8/site-packages (from dvc->-r /mnt/nfs/homes/athirion/git/SentimentalBB/requirements.txt (line 8)) (5.4.0)\n",
      "Requirement already satisfied: typing-extensions>=3.7.4 in /mnt/nfs/homes/athirion/git/SentimentalBB/venv/lib/python3.8/site-packages (from dvc->-r /mnt/nfs/homes/athirion/git/SentimentalBB/requirements.txt (line 8)) (4.1.1)\n",
      "Requirement already satisfied: importlib-resources>=5.2.2 in /mnt/nfs/homes/athirion/git/SentimentalBB/venv/lib/python3.8/site-packages (from dvc->-r /mnt/nfs/homes/athirion/git/SentimentalBB/requirements.txt (line 8)) (5.4.0)\n"
     ]
    },
    {
     "name": "stdout",
     "output_type": "stream",
     "text": [
      "Requirement already satisfied: future in /mnt/nfs/homes/athirion/git/SentimentalBB/venv/lib/python3.8/site-packages (from grandalf==0.6->dvc->-r /mnt/nfs/homes/athirion/git/SentimentalBB/requirements.txt (line 8)) (0.18.2)\n",
      "Requirement already satisfied: gitpython>3 in /mnt/nfs/homes/athirion/git/SentimentalBB/venv/lib/python3.8/site-packages (from scmrepo==0.0.7->dvc->-r /mnt/nfs/homes/athirion/git/SentimentalBB/requirements.txt (line 8)) (3.1.27)\n",
      "Requirement already satisfied: pygit2>=1.5.0 in /mnt/nfs/homes/athirion/git/SentimentalBB/venv/lib/python3.8/site-packages (from scmrepo==0.0.7->dvc->-r /mnt/nfs/homes/athirion/git/SentimentalBB/requirements.txt (line 8)) (1.9.0)\n",
      "Requirement already satisfied: dulwich>=0.20.23 in /mnt/nfs/homes/athirion/git/SentimentalBB/venv/lib/python3.8/site-packages (from scmrepo==0.0.7->dvc->-r /mnt/nfs/homes/athirion/git/SentimentalBB/requirements.txt (line 8)) (0.20.32)\n",
      "Requirement already satisfied: asyncssh<2.9,>=2.7.1 in /mnt/nfs/homes/athirion/git/SentimentalBB/venv/lib/python3.8/site-packages (from scmrepo==0.0.7->dvc->-r /mnt/nfs/homes/athirion/git/SentimentalBB/requirements.txt (line 8)) (2.8.1)\n",
      "Requirement already satisfied: pytz>=2020.1 in /mnt/nfs/homes/athirion/git/SentimentalBB/venv/lib/python3.8/site-packages (from pandas->-r /mnt/nfs/homes/athirion/git/SentimentalBB/requirements.txt (line 12)) (2021.3)\n",
      "Requirement already satisfied: antlr4-python3-runtime==4.8 in /mnt/nfs/homes/athirion/git/SentimentalBB/venv/lib/python3.8/site-packages (from hydra-core->-r /mnt/nfs/homes/athirion/git/SentimentalBB/requirements.txt (line 14)) (4.8)\n",
      "Requirement already satisfied: colorlog in /mnt/nfs/homes/athirion/git/SentimentalBB/venv/lib/python3.8/site-packages (from hydra_colorlog->-r /mnt/nfs/homes/athirion/git/SentimentalBB/requirements.txt (line 15)) (6.6.0)\n",
      "Requirement already satisfied: starlette==0.17.1 in /mnt/nfs/homes/athirion/git/SentimentalBB/venv/lib/python3.8/site-packages (from fastapi->-r /mnt/nfs/homes/athirion/git/SentimentalBB/requirements.txt (line 20)) (0.17.1)\n",
      "Requirement already satisfied: pydantic!=1.7,!=1.7.1,!=1.7.2,!=1.7.3,!=1.8,!=1.8.1,<2.0.0,>=1.6.2 in /mnt/nfs/homes/athirion/git/SentimentalBB/venv/lib/python3.8/site-packages (from fastapi->-r /mnt/nfs/homes/athirion/git/SentimentalBB/requirements.txt (line 20)) (1.9.0)\n",
      "Requirement already satisfied: anyio<4,>=3.0.0 in /mnt/nfs/homes/athirion/git/SentimentalBB/venv/lib/python3.8/site-packages (from starlette==0.17.1->fastapi->-r /mnt/nfs/homes/athirion/git/SentimentalBB/requirements.txt (line 20)) (3.5.0)\n",
      "Requirement already satisfied: click>=7.0 in /mnt/nfs/homes/athirion/git/SentimentalBB/venv/lib/python3.8/site-packages (from uvicorn->-r /mnt/nfs/homes/athirion/git/SentimentalBB/requirements.txt (line 21)) (8.0.4)\n",
      "Requirement already satisfied: h11>=0.8 in /mnt/nfs/homes/athirion/git/SentimentalBB/venv/lib/python3.8/site-packages (from uvicorn->-r /mnt/nfs/homes/athirion/git/SentimentalBB/requirements.txt (line 21)) (0.13.0)\n",
      "Requirement already satisfied: asgiref>=3.4.0 in /mnt/nfs/homes/athirion/git/SentimentalBB/venv/lib/python3.8/site-packages (from uvicorn->-r /mnt/nfs/homes/athirion/git/SentimentalBB/requirements.txt (line 21)) (3.5.0)\n",
      "Requirement already satisfied: aiohttp in /mnt/nfs/homes/athirion/git/SentimentalBB/venv/lib/python3.8/site-packages (from aiohttp-retry>=2.4.5->dvc->-r /mnt/nfs/homes/athirion/git/SentimentalBB/requirements.txt (line 8)) (3.8.1)\n",
      "Requirement already satisfied: six in /mnt/nfs/homes/athirion/git/SentimentalBB/venv/lib/python3.8/site-packages (from configobj>=5.0.6->dvc->-r /mnt/nfs/homes/athirion/git/SentimentalBB/requirements.txt (line 8)) (1.16.0)\n",
      "Requirement already satisfied: atpublic>=2.3 in /mnt/nfs/homes/athirion/git/SentimentalBB/venv/lib/python3.8/site-packages (from flufl.lock>=5->dvc->-r /mnt/nfs/homes/athirion/git/SentimentalBB/requirements.txt (line 8)) (3.0.1)\n",
      "Requirement already satisfied: zipp>=3.1.0 in /mnt/nfs/homes/athirion/git/SentimentalBB/venv/lib/python3.8/site-packages (from importlib-resources>=5.2.2->dvc->-r /mnt/nfs/homes/athirion/git/SentimentalBB/requirements.txt (line 8)) (3.7.0)\n",
      "Requirement already satisfied: python-fsutil in /mnt/nfs/homes/athirion/git/SentimentalBB/venv/lib/python3.8/site-packages (from python-benedict>=0.24.2->dvc->-r /mnt/nfs/homes/athirion/git/SentimentalBB/requirements.txt (line 8)) (0.6.0)\n",
      "Requirement already satisfied: xmltodict in /mnt/nfs/homes/athirion/git/SentimentalBB/venv/lib/python3.8/site-packages (from python-benedict>=0.24.2->dvc->-r /mnt/nfs/homes/athirion/git/SentimentalBB/requirements.txt (line 8)) (0.12.0)\n",
      "Requirement already satisfied: mailchecker in /mnt/nfs/homes/athirion/git/SentimentalBB/venv/lib/python3.8/site-packages (from python-benedict>=0.24.2->dvc->-r /mnt/nfs/homes/athirion/git/SentimentalBB/requirements.txt (line 8)) (4.1.13)\n",
      "Requirement already satisfied: ftfy in /mnt/nfs/homes/athirion/git/SentimentalBB/venv/lib/python3.8/site-packages (from python-benedict>=0.24.2->dvc->-r /mnt/nfs/homes/athirion/git/SentimentalBB/requirements.txt (line 8)) (6.1.1)\n",
      "Requirement already satisfied: python-slugify in /mnt/nfs/homes/athirion/git/SentimentalBB/venv/lib/python3.8/site-packages (from python-benedict>=0.24.2->dvc->-r /mnt/nfs/homes/athirion/git/SentimentalBB/requirements.txt (line 8)) (6.1.1)\n",
      "Requirement already satisfied: phonenumbers in /mnt/nfs/homes/athirion/git/SentimentalBB/venv/lib/python3.8/site-packages (from python-benedict>=0.24.2->dvc->-r /mnt/nfs/homes/athirion/git/SentimentalBB/requirements.txt (line 8)) (8.12.44)\n",
      "Requirement already satisfied: idna<4,>=2.5 in /mnt/nfs/homes/athirion/git/SentimentalBB/venv/lib/python3.8/site-packages (from requests>=2.22.0->dvc->-r /mnt/nfs/homes/athirion/git/SentimentalBB/requirements.txt (line 8)) (3.3)\n",
      "Requirement already satisfied: certifi>=2017.4.17 in /mnt/nfs/homes/athirion/git/SentimentalBB/venv/lib/python3.8/site-packages (from requests>=2.22.0->dvc->-r /mnt/nfs/homes/athirion/git/SentimentalBB/requirements.txt (line 8)) (2021.10.8)\n",
      "Requirement already satisfied: charset-normalizer~=2.0.0 in /mnt/nfs/homes/athirion/git/SentimentalBB/venv/lib/python3.8/site-packages (from requests>=2.22.0->dvc->-r /mnt/nfs/homes/athirion/git/SentimentalBB/requirements.txt (line 8)) (2.0.12)\n",
      "Requirement already satisfied: pygments<3.0.0,>=2.6.0 in /mnt/nfs/homes/athirion/git/SentimentalBB/venv/lib/python3.8/site-packages (from rich>=10.13.0->dvc->-r /mnt/nfs/homes/athirion/git/SentimentalBB/requirements.txt (line 8)) (2.11.2)\n",
      "Requirement already satisfied: commonmark<0.10.0,>=0.9.0 in /mnt/nfs/homes/athirion/git/SentimentalBB/venv/lib/python3.8/site-packages (from rich>=10.13.0->dvc->-r /mnt/nfs/homes/athirion/git/SentimentalBB/requirements.txt (line 8)) (0.9.1)\n",
      "Requirement already satisfied: ruamel.yaml.clib>=0.2.6 in /mnt/nfs/homes/athirion/git/SentimentalBB/venv/lib/python3.8/site-packages (from ruamel.yaml>=0.17.11->dvc->-r /mnt/nfs/homes/athirion/git/SentimentalBB/requirements.txt (line 8)) (0.2.6)\n",
      "Requirement already satisfied: setuptools in /mnt/nfs/homes/athirion/git/SentimentalBB/venv/lib/python3.8/site-packages (from zc.lockfile>=1.2.1->dvc->-r /mnt/nfs/homes/athirion/git/SentimentalBB/requirements.txt (line 8)) (60.9.3)\n",
      "Requirement already satisfied: sniffio>=1.1 in /mnt/nfs/homes/athirion/git/SentimentalBB/venv/lib/python3.8/site-packages (from anyio<4,>=3.0.0->starlette==0.17.1->fastapi->-r /mnt/nfs/homes/athirion/git/SentimentalBB/requirements.txt (line 20)) (1.2.0)\n",
      "Requirement already satisfied: cryptography>=2.8 in /mnt/nfs/homes/athirion/git/SentimentalBB/venv/lib/python3.8/site-packages (from asyncssh<2.9,>=2.7.1->scmrepo==0.0.7->dvc->-r /mnt/nfs/homes/athirion/git/SentimentalBB/requirements.txt (line 8)) (36.0.1)\n",
      "Requirement already satisfied: gitdb<5,>=4.0.1 in /mnt/nfs/homes/athirion/git/SentimentalBB/venv/lib/python3.8/site-packages (from gitpython>3->scmrepo==0.0.7->dvc->-r /mnt/nfs/homes/athirion/git/SentimentalBB/requirements.txt (line 8)) (4.0.9)\n",
      "Requirement already satisfied: cffi>=1.9.1 in /mnt/nfs/homes/athirion/git/SentimentalBB/venv/lib/python3.8/site-packages (from pygit2>=1.5.0->scmrepo==0.0.7->dvc->-r /mnt/nfs/homes/athirion/git/SentimentalBB/requirements.txt (line 8)) (1.15.0)\n"
     ]
    },
    {
     "name": "stdout",
     "output_type": "stream",
     "text": [
      "Requirement already satisfied: async-timeout<5.0,>=4.0.0a3 in /mnt/nfs/homes/athirion/git/SentimentalBB/venv/lib/python3.8/site-packages (from aiohttp->aiohttp-retry>=2.4.5->dvc->-r /mnt/nfs/homes/athirion/git/SentimentalBB/requirements.txt (line 8)) (4.0.2)\n",
      "Requirement already satisfied: aiosignal>=1.1.2 in /mnt/nfs/homes/athirion/git/SentimentalBB/venv/lib/python3.8/site-packages (from aiohttp->aiohttp-retry>=2.4.5->dvc->-r /mnt/nfs/homes/athirion/git/SentimentalBB/requirements.txt (line 8)) (1.2.0)\n",
      "Requirement already satisfied: yarl<2.0,>=1.0 in /mnt/nfs/homes/athirion/git/SentimentalBB/venv/lib/python3.8/site-packages (from aiohttp->aiohttp-retry>=2.4.5->dvc->-r /mnt/nfs/homes/athirion/git/SentimentalBB/requirements.txt (line 8)) (1.7.2)\n",
      "Requirement already satisfied: multidict<7.0,>=4.5 in /mnt/nfs/homes/athirion/git/SentimentalBB/venv/lib/python3.8/site-packages (from aiohttp->aiohttp-retry>=2.4.5->dvc->-r /mnt/nfs/homes/athirion/git/SentimentalBB/requirements.txt (line 8)) (6.0.2)\n",
      "Requirement already satisfied: frozenlist>=1.1.1 in /mnt/nfs/homes/athirion/git/SentimentalBB/venv/lib/python3.8/site-packages (from aiohttp->aiohttp-retry>=2.4.5->dvc->-r /mnt/nfs/homes/athirion/git/SentimentalBB/requirements.txt (line 8)) (1.3.0)\n",
      "Requirement already satisfied: wcwidth>=0.2.5 in /mnt/nfs/homes/athirion/git/SentimentalBB/venv/lib/python3.8/site-packages (from ftfy->python-benedict>=0.24.2->dvc->-r /mnt/nfs/homes/athirion/git/SentimentalBB/requirements.txt (line 8)) (0.2.5)\n",
      "Requirement already satisfied: text-unidecode>=1.3 in /mnt/nfs/homes/athirion/git/SentimentalBB/venv/lib/python3.8/site-packages (from python-slugify->python-benedict>=0.24.2->dvc->-r /mnt/nfs/homes/athirion/git/SentimentalBB/requirements.txt (line 8)) (1.3)\n",
      "Requirement already satisfied: pycparser in /mnt/nfs/homes/athirion/git/SentimentalBB/venv/lib/python3.8/site-packages (from cffi>=1.9.1->pygit2>=1.5.0->scmrepo==0.0.7->dvc->-r /mnt/nfs/homes/athirion/git/SentimentalBB/requirements.txt (line 8)) (2.21)\n",
      "Requirement already satisfied: smmap<6,>=3.0.1 in /mnt/nfs/homes/athirion/git/SentimentalBB/venv/lib/python3.8/site-packages (from gitdb<5,>=4.0.1->gitpython>3->scmrepo==0.0.7->dvc->-r /mnt/nfs/homes/athirion/git/SentimentalBB/requirements.txt (line 8)) (5.0.0)\n",
      "Installing collected packages: searchtweets-v2\n",
      "Successfully installed searchtweets-v2-1.1.1\n"
     ]
    }
   ],
   "source": [
    "!pip install -r /mnt/nfs/homes/athirion/git/SentimentalBB/requirements.txt"
   ]
  },
  {
   "cell_type": "code",
   "execution_count": 2,
   "id": "7f9ca8bd-1995-4b5a-9098-55ba1be97023",
   "metadata": {
    "tags": []
   },
   "outputs": [
    {
     "name": "stdout",
     "output_type": "stream",
     "text": [
      "Package                Version   Editable project location\r\n",
      "---------------------- --------- -----------------------------------------\r\n",
      "aiohttp                3.8.1\r\n",
      "aiohttp-retry          2.4.6\r\n",
      "aiosignal              1.2.0\r\n",
      "antlr4-python3-runtime 4.8\r\n",
      "anyio                  3.5.0\r\n",
      "appdirs                1.4.4\r\n",
      "argon2-cffi            21.3.0\r\n",
      "argon2-cffi-bindings   21.2.0\r\n",
      "asgiref                3.5.0\r\n",
      "asttokens              2.0.5\r\n",
      "async-timeout          4.0.2\r\n",
      "asyncssh               2.8.1\r\n",
      "atpublic               3.0.1\r\n",
      "attrs                  21.4.0\r\n",
      "autopep8               1.6.0\r\n",
      "awscli                 1.22.68\r\n",
      "backcall               0.2.0\r\n",
      "bleach                 4.1.0\r\n",
      "botocore               1.24.13\r\n",
      "certifi                2021.10.8\r\n",
      "cffi                   1.15.0\r\n",
      "charset-normalizer     2.0.12\r\n",
      "click                  8.0.4\r\n",
      "colorama               0.4.3\r\n",
      "colorlog               6.6.0\r\n",
      "commonmark             0.9.1\r\n",
      "configobj              5.0.6\r\n",
      "cryptography           36.0.1\r\n",
      "debugpy                1.5.1\r\n",
      "decorator              5.1.1\r\n",
      "defusedxml             0.7.1\r\n",
      "dictdiffer             0.9.0\r\n",
      "diskcache              5.4.0\r\n",
      "distro                 1.7.0\r\n",
      "docutils               0.15.2\r\n",
      "dpath                  2.0.6\r\n",
      "dulwich                0.20.32\r\n",
      "dvc                    2.9.5\r\n",
      "entrypoints            0.4\r\n",
      "executing              0.8.3\r\n",
      "fastapi                0.75.0\r\n",
      "flatten-dict           0.4.2\r\n",
      "flufl.lock             7.0\r\n",
      "frozenlist             1.3.0\r\n",
      "fsspec                 2022.2.0\r\n",
      "ftfy                   6.1.1\r\n",
      "funcy                  1.17\r\n",
      "future                 0.18.2\r\n",
      "gitdb                  4.0.9\r\n",
      "GitPython              3.1.27\r\n",
      "grandalf               0.6\r\n",
      "h11                    0.13.0\r\n",
      "Hydra                  2.5\r\n",
      "hydra-colorlog         1.1.0\r\n",
      "hydra-core             1.1.1\r\n",
      "idna                   3.3\r\n",
      "importlib-resources    5.4.0\r\n",
      "iniconfig              1.1.1\r\n",
      "ipykernel              6.9.1\r\n",
      "ipython                8.1.1\r\n",
      "ipython-genutils       0.2.0\r\n",
      "ipywidgets             7.6.5\r\n",
      "jedi                   0.18.1\r\n",
      "Jinja2                 3.0.3\r\n",
      "jmespath               0.10.0\r\n",
      "jsonschema             4.4.0\r\n",
      "jupyter                1.0.0\r\n",
      "jupyter-client         7.1.2\r\n",
      "jupyter-console        6.4.3\r\n",
      "jupyter-core           4.9.2\r\n",
      "jupyterlab-pygments    0.1.2\r\n",
      "jupyterlab-widgets     1.0.2\r\n",
      "mailchecker            4.1.13\r\n",
      "MarkupSafe             2.1.0\r\n",
      "matplotlib-inline      0.1.3\r\n",
      "mistune                0.8.4\r\n",
      "multidict              6.0.2\r\n",
      "nanotime               0.5.2\r\n",
      "nbclient               0.5.12\r\n",
      "nbconvert              6.4.2\r\n",
      "nbformat               5.1.3\r\n",
      "nest-asyncio           1.5.4\r\n",
      "networkx               2.7.1\r\n",
      "notebook               6.4.8\r\n",
      "numpy                  1.22.2\r\n",
      "omegaconf              2.1.1\r\n",
      "packaging              21.3\r\n",
      "pandas                 1.4.1\r\n",
      "pandocfilters          1.5.0\r\n",
      "parso                  0.8.3\r\n",
      "pathspec               0.9.0\r\n",
      "pexpect                4.8.0\r\n",
      "phonenumbers           8.12.44\r\n",
      "pickleshare            0.7.5\r\n",
      "pip                    22.0.3\r\n",
      "pluggy                 1.0.0\r\n",
      "ply                    3.11\r\n",
      "prometheus-client      0.13.1\r\n",
      "prompt-toolkit         3.0.28\r\n",
      "psutil                 5.9.0\r\n",
      "ptyprocess             0.7.0\r\n",
      "pure-eval              0.2.2\r\n",
      "py                     1.11.0\r\n",
      "pyasn1                 0.4.8\r\n",
      "pycodestyle            2.8.0\r\n",
      "pycparser              2.21\r\n",
      "pydantic               1.9.0\r\n",
      "pydot                  1.4.2\r\n",
      "pygit2                 1.9.0\r\n",
      "Pygments               2.11.2\r\n",
      "pygtrie                2.4.2\r\n",
      "pyparsing              3.0.7\r\n",
      "pyrsistent             0.18.1\r\n",
      "pytest                 7.0.1\r\n",
      "python-benedict        0.24.3\r\n",
      "python-dateutil        2.8.2\r\n",
      "python-fsutil          0.6.0\r\n",
      "python-slugify         6.1.1\r\n",
      "pytz                   2021.3\r\n",
      "PyYAML                 5.4.1\r\n",
      "pyzmq                  22.3.0\r\n",
      "qtconsole              5.2.2\r\n",
      "QtPy                   2.0.1\r\n",
      "requests               2.27.1\r\n",
      "rich                   11.2.0\r\n",
      "rsa                    4.7.2\r\n",
      "ruamel.yaml            0.17.21\r\n",
      "ruamel.yaml.clib       0.2.6\r\n",
      "s3transfer             0.5.2\r\n",
      "scmrepo                0.0.7\r\n",
      "Send2Trash             1.8.0\r\n",
      "setuptools             60.9.3\r\n",
      "shortuuid              1.0.8\r\n",
      "shtab                  1.5.3\r\n",
      "six                    1.16.0\r\n",
      "smmap                  5.0.0\r\n",
      "sniffio                1.2.0\r\n",
      "src                    0.1.0     /mnt/nfs/homes/athirion/git/SentimentalBB\r\n",
      "stack-data             0.2.0\r\n",
      "starlette              0.17.1\r\n",
      "tabulate               0.8.9\r\n",
      "terminado              0.13.3\r\n",
      "testpath               0.6.0\r\n",
      "text-unidecode         1.3\r\n",
      "toml                   0.10.2\r\n",
      "tomli                  2.0.1\r\n",
      "tornado                6.1\r\n",
      "tqdm                   4.63.0\r\n",
      "traitlets              5.1.1\r\n",
      "typing_extensions      4.1.1\r\n",
      "urllib3                1.26.8\r\n",
      "uvicorn                0.17.5\r\n",
      "voluptuous             0.12.2\r\n",
      "wcwidth                0.2.5\r\n",
      "webencodings           0.5.1\r\n",
      "wheel                  0.37.1\r\n",
      "widgetsnbextension     3.5.2\r\n",
      "xmltodict              0.12.0\r\n",
      "yarl                   1.7.2\r\n",
      "zc.lockfile            2.0\r\n",
      "zipp                   3.7.0\r\n"
     ]
    }
   ],
   "source": [
    "! pip list"
   ]
  },
  {
   "cell_type": "code",
   "execution_count": 3,
   "id": "1f6719ab-53bf-430e-acb5-47ee95aa875e",
   "metadata": {},
   "outputs": [
    {
     "ename": "ModuleNotFoundError",
     "evalue": "No module named 'searchtweets'",
     "output_type": "error",
     "traceback": [
      "\u001b[0;31m---------------------------------------------------------------------------\u001b[0m",
      "\u001b[0;31mModuleNotFoundError\u001b[0m                       Traceback (most recent call last)",
      "Input \u001b[0;32mIn [3]\u001b[0m, in \u001b[0;36m<cell line: 1>\u001b[0;34m()\u001b[0m\n\u001b[0;32m----> 1\u001b[0m \u001b[38;5;28;01mimport\u001b[39;00m \u001b[38;5;21;01msearchtweets\u001b[39;00m\n\u001b[1;32m      3\u001b[0m searchtweets\u001b[38;5;241m.\u001b[39m__version__\n",
      "\u001b[0;31mModuleNotFoundError\u001b[0m: No module named 'searchtweets'"
     ]
    }
   ],
   "source": [
    "import searchtweets\n",
    "\n",
    "searchtweets.__version__"
   ]
  },
  {
   "cell_type": "code",
   "execution_count": null,
   "id": "57f7485a-ec2e-4663-9e5b-8747143393e5",
   "metadata": {},
   "outputs": [],
   "source": [
    "from searchtweets import ResultStream, gen_request_parameters, load_credentials"
   ]
  },
  {
   "cell_type": "code",
   "execution_count": null,
   "id": "517954a2-b94e-4410-a67b-477632a8b51f",
   "metadata": {},
   "outputs": [],
   "source": [
    "search_args = load_credentials(filename=\"./search_tweets_creds_example.yaml\",\n",
    "                 yaml_key=\"search_tweets_v2_example\",\n",
    "                 env_overwrite=False)"
   ]
  },
  {
   "cell_type": "code",
   "execution_count": null,
   "id": "efd4229c-d79f-4f8b-9a6c-2b50e0cb0a2e",
   "metadata": {},
   "outputs": [],
   "source": [
    "search_args = load_credentials(filename=None)\n"
   ]
  },
  {
   "cell_type": "code",
   "execution_count": null,
   "id": "089e8040-c48f-4908-a9d4-e030a213a8ce",
   "metadata": {},
   "outputs": [],
   "source": [
    "# search_args"
   ]
  },
  {
   "cell_type": "code",
   "execution_count": null,
   "id": "a3b6dc1c-593f-4105-b11f-004a6c08890b",
   "metadata": {},
   "outputs": [],
   "source": [
    "query = gen_request_parameters(\"Emmanuel Macron\", results_per_call=100, granularity=None)\n",
    "print(query)"
   ]
  },
  {
   "cell_type": "code",
   "execution_count": null,
   "id": "50568fb5-af92-4821-970d-607fc219201f",
   "metadata": {},
   "outputs": [],
   "source": [
    "from searchtweets import collect_results"
   ]
  },
  {
   "cell_type": "code",
   "execution_count": null,
   "id": "0dcb9f4a-a36f-4b62-ad8f-b8f8f62085e2",
   "metadata": {},
   "outputs": [],
   "source": [
    "tweets = collect_results(query, max_tweets=100, result_stream_args=search_args) "
   ]
  },
  {
   "cell_type": "code",
   "execution_count": null,
   "id": "8acb6067-5114-4e6c-95c4-618976ac8b2c",
   "metadata": {
    "tags": []
   },
   "outputs": [],
   "source": [
    "tweets"
   ]
  },
  {
   "cell_type": "code",
   "execution_count": null,
   "id": "eb846998-1eb3-4e43-b9a1-a79e992d4d12",
   "metadata": {},
   "outputs": [],
   "source": [
    "type(tweets)"
   ]
  },
  {
   "cell_type": "code",
   "execution_count": null,
   "id": "66ffdc12-d54c-470b-a5a8-3fa38e90e872",
   "metadata": {},
   "outputs": [],
   "source": [
    "func = lambda tweets, tweet_nb: tweets[0]['data'][tweet_nb]['text']"
   ]
  },
  {
   "cell_type": "code",
   "execution_count": null,
   "id": "db908d89-38ae-4738-a0fa-8c430e63c93b",
   "metadata": {},
   "outputs": [],
   "source": [
    "print(func(tweets, 11)[::])"
   ]
  },
  {
   "cell_type": "code",
   "execution_count": null,
   "id": "43963ace-7dae-4ce4-8579-b58203f4cfe2",
   "metadata": {
    "tags": []
   },
   "outputs": [],
   "source": [
    "\n",
    "request = tweets\n",
    "for element in request:\n",
    "    for id, tweet in enumerate(element['data']):\n",
    "        print(f\"Tweet n*{id}\")\n",
    "        print(tweet[\"text\"])\n",
    "        print(f\"\")\n"
   ]
  },
  {
   "cell_type": "code",
   "execution_count": null,
   "id": "2a837d42-8ba7-4e26-82e5-b18d2c383fa8",
   "metadata": {},
   "outputs": [],
   "source": [
    "[print(tweet[\"text\"], end='\\n\\n') for tweet in tweets[0:10]]"
   ]
  },
  {
   "cell_type": "code",
   "execution_count": null,
   "id": "731e3278-7876-4295-b571-19d6bdef73f1",
   "metadata": {},
   "outputs": [],
   "source": []
  }
 ],
 "metadata": {
  "kernelspec": {
   "display_name": "Python 3 (ipykernel)",
   "language": "python",
   "name": "python3"
  },
  "language_info": {
   "codemirror_mode": {
    "name": "ipython",
    "version": 3
   },
   "file_extension": ".py",
   "mimetype": "text/x-python",
   "name": "python",
   "nbconvert_exporter": "python",
   "pygments_lexer": "ipython3",
   "version": "3.8.10"
  }
 },
 "nbformat": 4,
 "nbformat_minor": 5
}
