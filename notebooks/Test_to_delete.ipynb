{
 "cells": [
  {
   "cell_type": "code",
   "execution_count": 1,
   "id": "0a16a34e",
   "metadata": {},
   "outputs": [],
   "source": [
    "import pandas as pd"
   ]
  },
  {
   "cell_type": "code",
   "execution_count": 2,
   "id": "44eedca6",
   "metadata": {},
   "outputs": [],
   "source": [
    "df = pd.read_csv(\"../src/tests/test_set_240tweets_labeled_0410.csv\")"
   ]
  },
  {
   "cell_type": "code",
   "execution_count": 3,
   "id": "1b629e67",
   "metadata": {},
   "outputs": [
    {
     "name": "stdout",
     "output_type": "stream",
     "text": [
      "   Unnamed: 0 candidate      time             tweet_id  \\\n",
      "0           0  Pecresse  11:59:03  1510587682300342272   \n",
      "1           1  Pecresse  11:59:02  1510587676830978051   \n",
      "2           2  Pecresse  11:58:46  1510587611261415431   \n",
      "3           3  Pecresse  11:58:39  1510587583385985027   \n",
      "4           4  Pecresse  11:58:16  1510587485369384964   \n",
      "\n",
      "                                                text  Positive  Negative  \n",
      "0  @valerieboyer13 @leJDD @vpecresse @avecValerie...         1         0  \n",
      "1  Pour une présidence sans faille et avec courag...         1         0  \n",
      "2  @YECHOBETH @YouTube @lesRepublicains @vpecress...         1         0  \n",
      "3  @Faustine_Maliar @AugustaCrochet @lesRepublica...         1         0  \n",
      "4  @Michael80361703 @avecValerie Illégalité emplo...         0         1  \n"
     ]
    }
   ],
   "source": [
    "print(df.head())"
   ]
  },
  {
   "cell_type": "code",
   "execution_count": 4,
   "id": "6e97a6e3",
   "metadata": {},
   "outputs": [
    {
     "name": "stdout",
     "output_type": "stream",
     "text": [
      "   Unnamed: 0 candidate      time             tweet_id  \\\n",
      "0           0  Pecresse  11:59:03  1510587682300342272   \n",
      "1           1  Pecresse  11:59:02  1510587676830978051   \n",
      "2           2  Pecresse  11:58:46  1510587611261415431   \n",
      "3           3  Pecresse  11:58:39  1510587583385985027   \n",
      "4           4  Pecresse  11:58:16  1510587485369384964   \n",
      "\n",
      "                                                text  Positive  Negative  \\\n",
      "0  @valerieboyer13 @leJDD @vpecresse @avecValerie...         1         0   \n",
      "1  Pour une présidence sans faille et avec courag...         1         0   \n",
      "2  @YECHOBETH @YouTube @lesRepublicains @vpecress...         1         0   \n",
      "3  @Faustine_Maliar @AugustaCrochet @lesRepublica...         1         0   \n",
      "4  @Michael80361703 @avecValerie Illégalité emplo...         0         1   \n",
      "\n",
      "   Neutral  \n",
      "0        0  \n",
      "1        0  \n",
      "2        0  \n",
      "3        0  \n",
      "4        0  \n"
     ]
    }
   ],
   "source": [
    "df['Neutral'] = 0\n",
    "print(df.head())"
   ]
  },
  {
   "cell_type": "code",
   "execution_count": 8,
   "id": "a2bb31e5",
   "metadata": {},
   "outputs": [
    {
     "ename": "ValueError",
     "evalue": "The truth value of a Series is ambiguous. Use a.empty, a.bool(), a.item(), a.any() or a.all().",
     "output_type": "error",
     "traceback": [
      "\u001b[0;31m---------------------------------------------------------------------------\u001b[0m",
      "\u001b[0;31mValueError\u001b[0m                                Traceback (most recent call last)",
      "Input \u001b[0;32mIn [8]\u001b[0m, in \u001b[0;36m<cell line: 1>\u001b[0;34m()\u001b[0m\n\u001b[0;32m----> 1\u001b[0m df\u001b[38;5;241m.\u001b[39mloc[df[\u001b[38;5;124m'\u001b[39m\u001b[38;5;124mPositive\u001b[39m\u001b[38;5;124m'\u001b[39m] \u001b[38;5;241m==\u001b[39m \u001b[38;5;241m0\u001b[39m \u001b[38;5;129;01mand\u001b[39;00m df[\u001b[38;5;124m'\u001b[39m\u001b[38;5;124mNegative]\u001b[39m\u001b[38;5;124m'\u001b[39m \u001b[38;5;241m==\u001b[39m \u001b[38;5;241m0\u001b[39m, \u001b[38;5;124m'\u001b[39m\u001b[38;5;124mNeutral\u001b[39m\u001b[38;5;124m'\u001b[39m]] \u001b[38;5;241m=\u001b[39m \u001b[38;5;241m1\u001b[39m\n",
      "File \u001b[0;32m~/Library/Caches/pypoetry/virtualenvs/sentimentalbb-aIy8Bdzm-py3.8/lib/python3.8/site-packages/pandas/core/generic.py:1535\u001b[0m, in \u001b[0;36mNDFrame.__nonzero__\u001b[0;34m(self)\u001b[0m\n\u001b[1;32m   1533\u001b[0m \u001b[38;5;129m@final\u001b[39m\n\u001b[1;32m   1534\u001b[0m \u001b[38;5;28;01mdef\u001b[39;00m \u001b[38;5;21m__nonzero__\u001b[39m(\u001b[38;5;28mself\u001b[39m):\n\u001b[0;32m-> 1535\u001b[0m     \u001b[38;5;28;01mraise\u001b[39;00m \u001b[38;5;167;01mValueError\u001b[39;00m(\n\u001b[1;32m   1536\u001b[0m         \u001b[38;5;124mf\u001b[39m\u001b[38;5;124m\"\u001b[39m\u001b[38;5;124mThe truth value of a \u001b[39m\u001b[38;5;132;01m{\u001b[39;00m\u001b[38;5;28mtype\u001b[39m(\u001b[38;5;28mself\u001b[39m)\u001b[38;5;241m.\u001b[39m\u001b[38;5;18m__name__\u001b[39m\u001b[38;5;132;01m}\u001b[39;00m\u001b[38;5;124m is ambiguous. \u001b[39m\u001b[38;5;124m\"\u001b[39m\n\u001b[1;32m   1537\u001b[0m         \u001b[38;5;124m\"\u001b[39m\u001b[38;5;124mUse a.empty, a.bool(), a.item(), a.any() or a.all().\u001b[39m\u001b[38;5;124m\"\u001b[39m\n\u001b[1;32m   1538\u001b[0m     )\n",
      "\u001b[0;31mValueError\u001b[0m: The truth value of a Series is ambiguous. Use a.empty, a.bool(), a.item(), a.any() or a.all()."
     ]
    }
   ],
   "source": [
    "df.loc[df['Positive'] == 0 and df['Negative]' == 0, 'Neutral']] = 1"
   ]
  },
  {
   "cell_type": "code",
   "execution_count": null,
   "id": "7ca5cd9f",
   "metadata": {},
   "outputs": [],
   "source": []
  }
 ],
 "metadata": {
  "kernelspec": {
   "display_name": "Python 3 (ipykernel)",
   "language": "python",
   "name": "python3"
  },
  "language_info": {
   "codemirror_mode": {
    "name": "ipython",
    "version": 3
   },
   "file_extension": ".py",
   "mimetype": "text/x-python",
   "name": "python",
   "nbconvert_exporter": "python",
   "pygments_lexer": "ipython3",
   "version": "3.8.12"
  }
 },
 "nbformat": 4,
 "nbformat_minor": 5
}
