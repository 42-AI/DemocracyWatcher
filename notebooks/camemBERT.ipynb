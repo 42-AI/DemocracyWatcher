{
 "cells": [
  {
   "cell_type": "markdown",
   "id": "09299167-9a7d-48af-a38e-49b6cf76f975",
   "metadata": {},
   "source": [
    "This jupyter notebook is a direct copy and adaptation of the code presented [here](https://ledatascientist.com/analyse-de-sentiments-avec-camembert/)"
   ]
  },
  {
   "cell_type": "code",
   "execution_count": 2,
   "id": "db9ca699-9e08-4815-8f11-9949bc44cace",
   "metadata": {},
   "outputs": [],
   "source": [
    "import torch\n",
    "import seaborn\n",
    "import pandas as pd\n",
    "import numpy as np\n",
    "from sklearn import metrics\n",
    "from torch.utils.data import TensorDataset, DataLoader, RandomSampler, SequentialSampler\n",
    "from torch.optim import AdamW\n",
    "from transformers import CamembertForSequenceClassification, CamembertTokenizer"
   ]
  },
  {
   "cell_type": "markdown",
   "id": "7c7b3979-9a97-4f7c-97a3-f110e65fdf1b",
   "metadata": {},
   "source": [
    "One also need the `SentencePiece library` for `CamembertTokenizer`"
   ]
  },
  {
   "cell_type": "code",
   "execution_count": 3,
   "id": "e11c5868-f19c-4f63-85e1-ef9484aca8f3",
   "metadata": {},
   "outputs": [],
   "source": [
    "#! pip install sentencepiece"
   ]
  },
  {
   "cell_type": "markdown",
   "id": "30da7083-4fd4-4a8d-9f3f-1114d44a10ec",
   "metadata": {},
   "source": [
    "# Text encoding\n",
    "\n",
    "## Loading the dataset\n",
    "One need to encode the text from the dataset (here it will be aclIMDB) into a vectorial space, this is called embedding."
   ]
  },
  {
   "cell_type": "code",
   "execution_count": 4,
   "id": "f8d85b68-feab-4d41-bf7b-aca537b364e9",
   "metadata": {},
   "outputs": [],
   "source": [
    "dataset_path = \"../data/processed/aclImdb/\"\n",
    "train_set_file = \"aclImdb_train.csv\"\n",
    "test_set_file = \"aclImdb_test.csv\"\n",
    "\n",
    "# Dataset loading:\n",
    "data_train = pd.read_csv(dataset_path + train_set_file)\n",
    "data_test = pd.read_csv(dataset_path + test_set_file)"
   ]
  },
  {
   "cell_type": "code",
   "execution_count": 5,
   "id": "96eebbc3-7f30-4e0a-8aab-032ce68344a4",
   "metadata": {},
   "outputs": [],
   "source": [
    "train_text = data_train['text'].to_list()\n",
    "train_sentiment = data_train['sentiment'].to_list()\n",
    "\n",
    "test_text = data_test['text'].to_list()\n",
    "test_sentiment = data_test['sentiment'].to_list()"
   ]
  },
  {
   "cell_type": "markdown",
   "id": "19148fce-3aa0-40ae-9054-4e6fe2b50a47",
   "metadata": {},
   "source": [
    "## Tokenizer / encoder\n",
    "* We will use the tokenizer of camemBERT to perform the embedding\n",
    "* We can change the pre-trained model (2nd parameter):\n",
    "\n",
    "|             Model                    | #params | Arch. |      Training data                |\n",
    "| :----------------------------------- | :-----  | :---  | :-------------------------------  |\n",
    "camembert-base                         | 110M    | Base  | OSCAR (138 GB of text)            |\n",
    "camembert/camembert-large              | 335M    | Large | CCNet (135 GB of text)            |\n",
    "camembert/camembert-base-ccnet         | 110M    | Base  | CCNet (135 GB of text)            |\n",
    "camembert/camembert-base-wikipedia-4gb | 110M    | Base  | Wikipedia (4 GB of text)          |\n",
    "camembert/camembert-base-oscar-4gb     | 110M    | Base  | Subsample of OSCAR (4 GB of text) |\n",
    "camembert/camembert-base-ccnet-4gb     | 110M    | Base  | Subsample of CCNet (4 GB of text) |\n",
    "\n",
    "* `do_lower_case=True` allow to lower all the characters (if there is Upper case characters)."
   ]
  },
  {
   "cell_type": "code",
   "execution_count": 6,
   "id": "2a00fab8-5120-41ae-bd67-46824af64189",
   "metadata": {},
   "outputs": [],
   "source": [
    "full_text = train_text + test_text"
   ]
  },
  {
   "cell_type": "code",
   "execution_count": 7,
   "id": "c78690c8-2f46-4302-93ca-c1312977898d",
   "metadata": {},
   "outputs": [],
   "source": [
    "Tokenizer = CamembertTokenizer.from_pretrained('camembert-base', do_lower_case=True)"
   ]
  },
  {
   "cell_type": "code",
   "execution_count": 8,
   "id": "bf75c3e1-71fe-460e-9eee-ef7935fe29ae",
   "metadata": {},
   "outputs": [
    {
     "name": "stdout",
     "output_type": "stream",
     "text": [
      "MAX_LENGTH=2470\n"
     ]
    }
   ],
   "source": [
    "# Calculating the longest sentence (in term of words)\n",
    "f = lambda s: len(s.split(' '))\n",
    "l_text = list(map(f, full_text))\n",
    "MAX_LENGTH = max(l_text)\n",
    "#MAX_LENGTH = 514\n",
    "print(f'MAX_LENGTH={MAX_LENGTH}')"
   ]
  },
  {
   "cell_type": "code",
   "execution_count": 9,
   "id": "93d11a99-7e3a-432a-a651-ceccae86ef44",
   "metadata": {},
   "outputs": [
    {
     "name": "stdout",
     "output_type": "stream",
     "text": [
      "11247\n"
     ]
    }
   ],
   "source": [
    "index_max = np.argmax(l_text)\n",
    "print(index_max)"
   ]
  },
  {
   "cell_type": "code",
   "execution_count": 21,
   "id": "c8124d42",
   "metadata": {},
   "outputs": [
    {
     "name": "stdout",
     "output_type": "stream",
     "text": [
      "longueur du text full_text[11247]: 13704\n"
     ]
    }
   ],
   "source": [
    "print(f\"longueur du text full_text[{index_max}]: {len(full_text[index_max])}\")"
   ]
  },
  {
   "cell_type": "code",
   "execution_count": 10,
   "id": "7e824166-723f-4957-b6ed-c1cdc06dc0d3",
   "metadata": {},
   "outputs": [
    {
     "data": {
      "text/plain": [
       "'Match 1: Tag Team Table Match Bubba Ray and Spike Dudley vs Eddie Guerrero and Chris Benoit Bubba Ray and Spike Dudley started things off with a Tag Team Table Match against Eddie Guerrero and Chris Benoit. According to the rules of the match, both opponents have to go through tables in order to get the win. Benoit and Guerrero heated up early on by taking turns hammering first Spike and then Bubba Ray. A German suplex by Benoit to Bubba took the wind out of the Dudley brother. Spike tried to help his brother, but the referee restrained him while Benoit and Guerrero ganged up on him in the corner. With Benoit stomping away on Bubba, Guerrero set up a table outside. Spike dashed into the ring and somersaulted over the top rope onto Guerrero on the outside! After recovering and taking care of Spike, Guerrero slipped a table into the ring and helped the Wolverine set it up. The tandem then set up for a double superplex from the middle rope which would have put Bubba through the table, but Spike knocked the table over right before his brother came crashing down! Guerrero and Benoit propped another table in the corner and tried to Irish Whip Spike through it, but Bubba dashed in and blocked his brother. Bubba caught fire and lifted both opponents into back body drops! Bubba slammed Guerrero and Spike stomped on the Wolverine from off the top rope. Bubba held Benoit at bay for Spike to soar into the Wassup! headbutt! Shortly after, Benoit latched Spike in the Crossface, but the match continued even after Spike tapped out. Bubba came to his brother\\'s rescue and managed to sprawl Benoit on a table. Bubba leapt from the middle rope, but Benoit moved and sent Bubba crashing through the wood! But because his opponents didn\\'t force him through the table, Bubba was allowed to stay in the match. The first man was eliminated shortly after, though, as Spike put Eddie through a table with a Dudley Dawg from the ring apron to the outside! Benoit put Spike through a table moments later to even the score. Within seconds, Bubba nailed a Bubba Bomb that put Benoit through a table and gave the Dudleys the win! Winner: Bubba Ray and Spike Dudley<br /><br />Match 2: Cruiserweight Championship Jamie Noble vs Billy Kidman Billy Kidman challenged Jamie Noble, who brought Nidia with him to the ring, for the Cruiserweight Championship. Noble and Kidman locked up and tumbled over the ring, but raced back inside and grappled some more. When Kidman thwarted all Noble\\'s moves, Noble fled outside the ring where Nidia gave him some encouragement. The fight spread outside the ring and Noble threw his girlfriend into the challenger. Kidman tossed Nidia aside but was taken down with a modified arm bar. Noble continued to attack Kidman\\'s injured arm back in the ring. Kidman\\'s injured harm hampered his offense, but he continued to battle hard. Noble tried to put Kidman away with a powerbomb but the challenger countered into a facebuster. Kidman went to finish things with a Shooting Star Press, but Noble broke up the attempt. Kidman went for the Shooting Star Press again, but this time Noble just rolled out of harm\\'s way. Noble flipped Kidman into a power bomb soon after and got the pin to retain his WWE Cruiserweight Championship! Winner: Jamie Noble<br /><br />Match 3: European Championship William Regal vs Jeff Hardy William Regal took on Jeff Hardy next in an attempt to win back the European Championship. Jeff catapulted Regal over the top rope then took him down with a hurracanrana off the ring apron. Back in the ring, Jeff hit the Whisper in the wind to knock Regal for a loop. Jeff went for the Swanton Bomb, but Regal got his knees up to hit Jeff with a devastating shot. Jeff managed to surprise Regal with a quick rollup though and got the pin to keep the European Championship! Regal started bawling at seeing Hardy celebrate on his way back up the ramp. Winner: Jeff Hardy<br /><br />Match 4: Chris Jericho vs John Cena Chris Jericho had promised to end John Cena\\'s career in their match at Vengeance, which came up next. Jericho tried to teach Cena a lesson as their match began by suplexing him to the mat. Jericho continued to knock Cena around the ring until his cockiness got the better of him. While on the top rope, Jericho began to showboat and allowed Cena to grab him for a superplex! Cena followed with a tilt-a-whirl slam but was taken down with a nasty dropkick to the gut. The rookie recovered and hit a belly to belly suplex but couldn\\'t put Y2J away. Jericho launched into the Lionsault but Cena dodged the move. Jericho nailed a bulldog and then connected on the Lionsault, but did not go for the cover. He goaded Cena to his feet so he could put on the Walls of Jericho. Cena had other ideas, reversing the move into a pin attempt and getting the 1-2-3! Jericho went berserk after the match. Winner: John Cena<br /><br />Match 5: Intercontinental Championship RVD vs Brock Lesnar via disqualification The Next Big Thing and Mr. Pay-Per-View tangled with the Intercontinental Championship on the line. Brock grabbed the title from the ref and draped it over his shoulder momentarily while glaring at RVD. Van Dam \\'s quickness gave Brock fits early on. The big man rolled out of the ring and kicked the steel steps out of frustration. Brock pulled himself together and began to take charge. With Paul Heyman beaming at ringside, Brock slammed RVD to the hard floor outside the ring. From there, Brock began to overpower RVD, throwing him with ease over the top rope. RVD landed painfully on his back, then had to suffer from having his spine cracked against the steel ring steps. The fight returned to the ring with Brock squeezing RVD around the ribs. RVD broke away and soon after leveled Brock with a kick to the temple. RVD followed with the Rolling Thunder but Brock managed to kick out after a two-count. The fight looked like it might be over soon as RVD went for a Five-Star Frog Splash. Brock, though, hoisted Van Dam onto his shoulder and went for the F-5, but RVD whirled Brock into a DDT and followed with the Frog Splash! He went for the pin, but Heyman pulled the ref from the ring! The ref immediately called for a disqualification and soon traded blows with Heyman! After, RVD leapt onto Brock from the top rope and then threatened to hit the Van Terminator! Heyman grabbed RVD\\'s leg and Brock picked up the champ and this time connected with the F-5 onto a steel chair! Winner: RVD<br /><br />Match 6: Booker T vs the Big Show Booker T faced the Big Show one-on-one next. Show withstood Booker T\\'s kicks and punches and slapped Booker into the corner. After being thrown from the ring, Booker picked up a chair at ringside, but Big Show punched it back into Booker\\'s face. Booker tried to get back into the game by choking Show with a camera cable at ringside. Booker smashed a TV monitor from the Spanish announcers\\' position into Show\\'s skull, then delivered a scissors kick that put both men through the table! Booker crawled back into the ring and Big Show staggered in moments later. Show grabbed Booker\\'s throat but was met by a low blow and a kick to the face. Booker climbed the top rope and nailed a somersaulting leg drop to get the pin! Winner: Booker T<br /><br />Announcement: Triple H entered the ring to a thunderous ovation as fans hoped to learn where The Game would end up competing. Before he could speak, Eric Bishoff stopped The Game to apologize for getting involved in his personal business. If Triple H signed with RAW, Bischoff promised his personal life would never come into play again. Bischoff said he\\'s spent the past two years networking in Hollywood. He said everyone was looking for the next breakout WWE Superstar, and they were all talking about Triple H. Bischoff guaranteed that if Triple H signed with RAW, he\\'d be getting top opportunities coming his way. Stephanie McMahon stepped out to issue her own pitch. She said that because of her personal history with Triple H, the two of them know each other very well. She said the two of them were once unstoppable and they can be again. Bischoff cut her off and begged her to stop. Stephanie cited that Triple H once told her how Bischoff said Triple H had no talent and no charisma. Bischoff said he was young at the time and didn\\'t know what he had, but he still has a lot more experience that Stephanie. The two continued to bicker back and forth, until Triple H stepped up with his microphone. The Game said it would be easy to say \"screw you\" to either one of them. Triple H went to shake Bischoff\\'s hand, but pulled it away. He said he would rather go with the devil he knows, rather than the one he doesn\\'t know. Before he could go any further, though, Shawn Michaels came out to shake things up. HBK said the last thing he wanted to do was cause any trouble. He didn\\'t want to get involved, but he remembered pledging to bring Triple H to the nWo. HBK said there\\'s nobody in the world that Triple H is better friends with. HBK told his friend to imagine the two back together again, making Bischoff\\'s life a living hell. Triple H said that was a tempting offer. He then turned and hugged HBK, making official his switch to RAW! Triple H and HBK left, and Bischoff gloated over his victory. Bischoff said the difference between the two of them is that he\\'s got testicles and she doesn\\'t. Stephanie whacked Bischoff on the side of the head and left!<br /><br />Match 7: Tag Team Championship Match Christian and Lance Storm vs Hollywood Hogan and Edge The match started with loud \"USA\" chants and with Hogan shoving Christian through the ropes and out of the ring. The Canadians took over from there. But Edge scored a kick to Christian\\'s head and planted a facebuster on Storm to get the tag to Hogan. Hogan began to Hulk up and soon caught Christian with a big boot and a leg drop! Storm broke up the count and Christian tossed Hogan from the ring where Storm superkicked the icon. Edge tagged in soon after and dropped both opponents. He speared both of them into the corner turnbuckles, but missed a spear on Strom and hit the ref hard instead. Edge nailed a DDT, but the ref was down and could not count. Test raced down and took down Hogan then leveled Edge with a boot. Storm tried to get the pin, but Edge kicked out after two. Riksihi sprinted in to fend off Test, allowing Edge to recover and spear Storm. Christian distracted the ref, though, and Y2J dashed in and clocked Edge with the Tag Team Championship! Storm rolled over and got the pinfall to win the title! Winners and New Tag Team Champions: Christian and Lance Storm<br /><br />Match 8: WWE Undisputed Championship Triple Threat Match. The Rock vs Kurt Angle and the Undertaker Three of WWE\\'s most successful superstars lined up against each other in a Triple Threat Match with the Undisputed Championship hanging in the balance. Taker and The Rock got face to face with Kurt Angle begging for some attention off to the side. He got attention in the form of a beat down form the two other men. Soon after, Taker spilled out of the ring and The Rock brawled with Angle. Angle gave a series of suplexes that took down Rock, but the Great One countered with a DDT that managed a two-count. The fight continued outside the ring with Taker coming to life and clotheslining Angle and repeatedly smacking The Rock. Taker and Rock got into it back into the ring, and Taker dropped The Rock with a sidewalk slam to get a two-count. Rock rebounded, grabbed Taker by the throat and chokeslammed him! Angle broke up the pin attempt that likely would have given The Rock the title. The Rock retaliated by latching on the ankle lock to Kurt Angle. Angle reversed the move and Rock Bottomed the People\\'s Champion. Soon after, The Rock disposed of Angle and hit the People\\'s Elbow on the Undertaker. Angle tried to take advantage by disabling the Great One outside the ring and covering Taker, who kicked out after a two count. Outside the ring, Rock took a big swig from a nearby water bottle and spewed the liquid into Taker\\'s face to blind the champion. Taker didn\\'t stay disabled for long, and managed to overpower Rock and turn his attention to Angle. Taker landed a guillotine leg drop onto Angle, laying on the ring apron. The Rock picked himself up just in time to break up a pin attempt on Kurt Angle. Taker nailed Rock with a DDT and set him up for a chokeslam. ANgle tried sneaking up with a steel chair, but Taker caught on to that tomfoolery and smacked it out of his hands. The referee got caught in the ensuing fire and didn\\'t see Angle knock Taker silly with a steel chair. Angle went to cover Taker as The Rock lay prone, but the Dead Man somehow got his shoulder up. Angle tried to pin Rock, but he too kicked out. The Rock got up and landed Angle in the sharpshooter! Angle looked like he was about to tap, but Taker kicked The Rock out of the submission hold. Taker picked Rock up and crashed him with the Last Ride. While the Dead Man covered him for the win, Angle raced in and picked Taker up in the ankle lock! Taker went delirious with pain, but managed to counter. He picked Angle up for the last ride, but Angle put on a triangle choke! It looked like Taker was about to pass out, but The Rock broke Angle\\'s hold only to find himself caught in the ankle lock. Rock got out of the hold and watched Taker chokeslam Angle. Rocky hit the Rock Bottom, but Taker refused to go down and kicked out. Angle whirled Taker up into the Angle Slam but was Rock Bottomed by the Great One and pinned! Winner and New WWE Champion: The Rock<br /><br />~Finally there is a decent PPV! Lately the PPV weren\\'t very good, but this one was a winner. I give this PPV a A-<br /><br />'"
      ]
     },
     "execution_count": 10,
     "metadata": {},
     "output_type": "execute_result"
    }
   ],
   "source": [
    "full_text[index_max]"
   ]
  },
  {
   "cell_type": "code",
   "execution_count": 11,
   "id": "026faa8b-8769-401d-af7d-62b4a4dbfb66",
   "metadata": {},
   "outputs": [],
   "source": [
    "# La fonction batch_encode_plus encode un batch de donnees\n",
    "# This cell can take a long time (~ 1 min for me)\n",
    "train_encoded_batch = Tokenizer.batch_encode_plus(train_text,\n",
    "                                                  add_special_tokens=True,\n",
    "                                                  max_length=MAX_LENGTH,\n",
    "                                                  padding=True,\n",
    "                                                  truncation=True,\n",
    "                                                  return_attention_mask = True,\n",
    "                                                  return_tensors = 'pt')\n",
    "\n",
    "test_encoded_batch = Tokenizer.batch_encode_plus(test_text,\n",
    "                                                 add_special_tokens=True,\n",
    "                                                 max_length=MAX_LENGTH,\n",
    "                                                 padding=True,\n",
    "                                                 truncation=True,\n",
    "                                                 return_attention_mask = True,\n",
    "                                                 return_tensors = 'pt')"
   ]
  },
  {
   "cell_type": "code",
   "execution_count": 12,
   "id": "ca27fba7-c741-4456-b773-aa061433a42a",
   "metadata": {},
   "outputs": [],
   "source": [
    "# We transform the sentiment list into a torch tensor\n",
    "train_sentiment = torch.tensor(train_sentiment)\n",
    "test_sentiment = torch.tensor(test_sentiment)"
   ]
  },
  {
   "cell_type": "markdown",
   "id": "f69a4a0e-b0fe-49cc-a124-fc85a06697b3",
   "metadata": {},
   "source": [
    "The split of the dataset into a train and test sets are already performed"
   ]
  },
  {
   "cell_type": "code",
   "execution_count": 13,
   "id": "14d0fb5b-fb91-4000-85d2-44c5a091c20b",
   "metadata": {},
   "outputs": [],
   "source": [
    "train_dataset = TensorDataset(train_encoded_batch['input_ids'],\n",
    "                              train_encoded_batch['attention_mask'],\n",
    "                              train_sentiment)\n",
    "test_dataset = TensorDataset(test_encoded_batch['input_ids'],\n",
    "                                   test_encoded_batch['attention_mask'],\n",
    "                                   test_sentiment)"
   ]
  },
  {
   "cell_type": "code",
   "execution_count": 14,
   "id": "f4ce8f59-819c-4e92-b1cc-21979157554e",
   "metadata": {},
   "outputs": [],
   "source": [
    "batch_size = 16"
   ]
  },
  {
   "cell_type": "code",
   "execution_count": 15,
   "id": "fa9dbe0f-ad65-430a-adb2-06948a039439",
   "metadata": {},
   "outputs": [],
   "source": [
    "# We create the DataLoaders object for train and test\n",
    "# A dataloader is an iterable object\n",
    "# Here, there are configure so that the batch are constructed randomly\n",
    "train_dataloader = DataLoader(train_dataset,\n",
    "                              sampler = RandomSampler(train_dataset),\n",
    "                              batch_size = batch_size)\n",
    " \n",
    "test_dataloader = DataLoader(test_dataset,\n",
    "                             sampler = SequentialSampler(test_dataset),\n",
    "                             batch_size = batch_size)"
   ]
  },
  {
   "cell_type": "markdown",
   "id": "e940b1d0-1445-4cca-a2cd-4007083c62f1",
   "metadata": {},
   "source": [
    "## Model loading:\n",
    "Thanks to the module transformers, we only need one line of code to retrieve the pre-trained Camembert model"
   ]
  },
  {
   "cell_type": "code",
   "execution_count": 16,
   "id": "fa9f9695-0d5e-47fc-b47e-417432e62f54",
   "metadata": {},
   "outputs": [
    {
     "name": "stderr",
     "output_type": "stream",
     "text": [
      "Some weights of the model checkpoint at camembert-base were not used when initializing CamembertForSequenceClassification: ['lm_head.decoder.weight', 'roberta.pooler.dense.bias', 'lm_head.dense.weight', 'lm_head.layer_norm.weight', 'lm_head.dense.bias', 'lm_head.bias', 'lm_head.layer_norm.bias', 'roberta.pooler.dense.weight']\n",
      "- This IS expected if you are initializing CamembertForSequenceClassification from the checkpoint of a model trained on another task or with another architecture (e.g. initializing a BertForSequenceClassification model from a BertForPreTraining model).\n",
      "- This IS NOT expected if you are initializing CamembertForSequenceClassification from the checkpoint of a model that you expect to be exactly identical (initializing a BertForSequenceClassification model from a BertForSequenceClassification model).\n",
      "Some weights of CamembertForSequenceClassification were not initialized from the model checkpoint at camembert-base and are newly initialized: ['classifier.out_proj.weight', 'classifier.dense.weight', 'classifier.out_proj.bias', 'classifier.dense.bias']\n",
      "You should probably TRAIN this model on a down-stream task to be able to use it for predictions and inference.\n"
     ]
    }
   ],
   "source": [
    "# loading of the pre-trained model:\n",
    "model = CamembertForSequenceClassification.from_pretrained('camembert-base', num_labels = 2)"
   ]
  },
  {
   "cell_type": "markdown",
   "id": "29b195ab-d1aa-4d8e-b5eb-85d05f41597c",
   "metadata": {},
   "source": [
    "## Fine tuning / Hyperparametrization"
   ]
  },
  {
   "cell_type": "code",
   "execution_count": 17,
   "id": "10ec9f93-e56e-4ecd-86a5-b582a13bc91c",
   "metadata": {},
   "outputs": [],
   "source": [
    "optimizer = AdamW(model.parameters(), lr = 2e-5, eps = 1e-8)\n",
    "epochs = 3"
   ]
  },
  {
   "cell_type": "code",
   "execution_count": 18,
   "id": "46dd81e3-f973-4f2e-ab54-6e2fcdaf9080",
   "metadata": {},
   "outputs": [],
   "source": [
    "# torcch.device is an object representing the device on which a torch.Tensor is or will be allocated.\n",
    "device = torch.device(\"cpu\")"
   ]
  },
  {
   "cell_type": "code",
   "execution_count": 19,
   "id": "cf9b8df5-ae57-48ff-a2a0-daea980fc026",
   "metadata": {},
   "outputs": [],
   "source": [
    "# Pour enregistrer les stats a chaque epoque\n",
    "training_stats = []"
   ]
  },
  {
   "cell_type": "markdown",
   "id": "7eace815-10d4-480e-80e1-8a53732c2769",
   "metadata": {},
   "source": [
    "## Training"
   ]
  },
  {
   "cell_type": "code",
   "execution_count": 20,
   "id": "5be2b974-6607-4eea-a272-c9cdd6f04a12",
   "metadata": {},
   "outputs": [
    {
     "name": "stdout",
     "output_type": "stream",
     "text": [
      "\n",
      "########## Epoch 1 / 3 ##########\n",
      "Training...\n"
     ]
    },
    {
     "ename": "RuntimeError",
     "evalue": "The expanded size of the tensor (2470) must match the existing size (514) at non-singleton dimension 1.  Target sizes: [16, 2470].  Tensor sizes: [1, 514]",
     "output_type": "error",
     "traceback": [
      "\u001b[0;31m---------------------------------------------------------------------------\u001b[0m",
      "\u001b[0;31mRuntimeError\u001b[0m                              Traceback (most recent call last)",
      "\u001b[1;32m/home/mdavid/Documents/42AI/SentimentalBB/notebooks/camemBERT.ipynb Cell 28'\u001b[0m in \u001b[0;36m<cell line: 2>\u001b[0;34m()\u001b[0m\n\u001b[1;32m     <a href='vscode-notebook-cell:/home/mdavid/Documents/42AI/SentimentalBB/notebooks/camemBERT.ipynb#ch0000026?line=25'>26</a>\u001b[0m model\u001b[39m.\u001b[39mzero_grad()        \n\u001b[1;32m     <a href='vscode-notebook-cell:/home/mdavid/Documents/42AI/SentimentalBB/notebooks/camemBERT.ipynb#ch0000026?line=27'>28</a>\u001b[0m \u001b[39m# On passe la donnee au model et on recupere la loss et le logits (sortie avant fonction d'activation)\u001b[39;00m\n\u001b[0;32m---> <a href='vscode-notebook-cell:/home/mdavid/Documents/42AI/SentimentalBB/notebooks/camemBERT.ipynb#ch0000026?line=28'>29</a>\u001b[0m loss, logits \u001b[39m=\u001b[39m model(input_id,\n\u001b[1;32m     <a href='vscode-notebook-cell:/home/mdavid/Documents/42AI/SentimentalBB/notebooks/camemBERT.ipynb#ch0000026?line=29'>30</a>\u001b[0m                      token_type_ids\u001b[39m=\u001b[39;49m\u001b[39mNone\u001b[39;49;00m,\n\u001b[1;32m     <a href='vscode-notebook-cell:/home/mdavid/Documents/42AI/SentimentalBB/notebooks/camemBERT.ipynb#ch0000026?line=30'>31</a>\u001b[0m                      attention_mask\u001b[39m=\u001b[39;49mattention_mask,\n\u001b[1;32m     <a href='vscode-notebook-cell:/home/mdavid/Documents/42AI/SentimentalBB/notebooks/camemBERT.ipynb#ch0000026?line=31'>32</a>\u001b[0m                      labels\u001b[39m=\u001b[39;49msentiment)\n\u001b[1;32m     <a href='vscode-notebook-cell:/home/mdavid/Documents/42AI/SentimentalBB/notebooks/camemBERT.ipynb#ch0000026?line=33'>34</a>\u001b[0m \u001b[39m# On incremente la loss totale\u001b[39;00m\n\u001b[1;32m     <a href='vscode-notebook-cell:/home/mdavid/Documents/42AI/SentimentalBB/notebooks/camemBERT.ipynb#ch0000026?line=34'>35</a>\u001b[0m \u001b[39m# .item() donne la valeur numerique de la loss\u001b[39;00m\n\u001b[1;32m     <a href='vscode-notebook-cell:/home/mdavid/Documents/42AI/SentimentalBB/notebooks/camemBERT.ipynb#ch0000026?line=35'>36</a>\u001b[0m total_train_loss \u001b[39m+\u001b[39m\u001b[39m=\u001b[39m loss\u001b[39m.\u001b[39mitem()\n",
      "File \u001b[0;32m~/Documents/42AI/SentimentalBB/venv/lib/python3.8/site-packages/torch/nn/modules/module.py:1110\u001b[0m, in \u001b[0;36mModule._call_impl\u001b[0;34m(self, *input, **kwargs)\u001b[0m\n\u001b[1;32m   <a href='file:///home/mdavid/Documents/42AI/SentimentalBB/venv/lib/python3.8/site-packages/torch/nn/modules/module.py?line=1105'>1106</a>\u001b[0m \u001b[39m# If we don't have any hooks, we want to skip the rest of the logic in\u001b[39;00m\n\u001b[1;32m   <a href='file:///home/mdavid/Documents/42AI/SentimentalBB/venv/lib/python3.8/site-packages/torch/nn/modules/module.py?line=1106'>1107</a>\u001b[0m \u001b[39m# this function, and just call forward.\u001b[39;00m\n\u001b[1;32m   <a href='file:///home/mdavid/Documents/42AI/SentimentalBB/venv/lib/python3.8/site-packages/torch/nn/modules/module.py?line=1107'>1108</a>\u001b[0m \u001b[39mif\u001b[39;00m \u001b[39mnot\u001b[39;00m (\u001b[39mself\u001b[39m\u001b[39m.\u001b[39m_backward_hooks \u001b[39mor\u001b[39;00m \u001b[39mself\u001b[39m\u001b[39m.\u001b[39m_forward_hooks \u001b[39mor\u001b[39;00m \u001b[39mself\u001b[39m\u001b[39m.\u001b[39m_forward_pre_hooks \u001b[39mor\u001b[39;00m _global_backward_hooks\n\u001b[1;32m   <a href='file:///home/mdavid/Documents/42AI/SentimentalBB/venv/lib/python3.8/site-packages/torch/nn/modules/module.py?line=1108'>1109</a>\u001b[0m         \u001b[39mor\u001b[39;00m _global_forward_hooks \u001b[39mor\u001b[39;00m _global_forward_pre_hooks):\n\u001b[0;32m-> <a href='file:///home/mdavid/Documents/42AI/SentimentalBB/venv/lib/python3.8/site-packages/torch/nn/modules/module.py?line=1109'>1110</a>\u001b[0m     \u001b[39mreturn\u001b[39;00m forward_call(\u001b[39m*\u001b[39;49m\u001b[39minput\u001b[39;49m, \u001b[39m*\u001b[39;49m\u001b[39m*\u001b[39;49mkwargs)\n\u001b[1;32m   <a href='file:///home/mdavid/Documents/42AI/SentimentalBB/venv/lib/python3.8/site-packages/torch/nn/modules/module.py?line=1110'>1111</a>\u001b[0m \u001b[39m# Do not call functions when jit is used\u001b[39;00m\n\u001b[1;32m   <a href='file:///home/mdavid/Documents/42AI/SentimentalBB/venv/lib/python3.8/site-packages/torch/nn/modules/module.py?line=1111'>1112</a>\u001b[0m full_backward_hooks, non_full_backward_hooks \u001b[39m=\u001b[39m [], []\n",
      "File \u001b[0;32m~/Documents/42AI/SentimentalBB/venv/lib/python3.8/site-packages/transformers/models/roberta/modeling_roberta.py:1204\u001b[0m, in \u001b[0;36mRobertaForSequenceClassification.forward\u001b[0;34m(self, input_ids, attention_mask, token_type_ids, position_ids, head_mask, inputs_embeds, labels, output_attentions, output_hidden_states, return_dict)\u001b[0m\n\u001b[1;32m   <a href='file:///home/mdavid/Documents/42AI/SentimentalBB/venv/lib/python3.8/site-packages/transformers/models/roberta/modeling_roberta.py?line=1195'>1196</a>\u001b[0m \u001b[39mr\u001b[39m\u001b[39m\"\"\"\u001b[39;00m\n\u001b[1;32m   <a href='file:///home/mdavid/Documents/42AI/SentimentalBB/venv/lib/python3.8/site-packages/transformers/models/roberta/modeling_roberta.py?line=1196'>1197</a>\u001b[0m \u001b[39mlabels (`torch.LongTensor` of shape `(batch_size,)`, *optional*):\u001b[39;00m\n\u001b[1;32m   <a href='file:///home/mdavid/Documents/42AI/SentimentalBB/venv/lib/python3.8/site-packages/transformers/models/roberta/modeling_roberta.py?line=1197'>1198</a>\u001b[0m \u001b[39m    Labels for computing the sequence classification/regression loss. Indices should be in `[0, ...,\u001b[39;00m\n\u001b[1;32m   <a href='file:///home/mdavid/Documents/42AI/SentimentalBB/venv/lib/python3.8/site-packages/transformers/models/roberta/modeling_roberta.py?line=1198'>1199</a>\u001b[0m \u001b[39m    config.num_labels - 1]`. If `config.num_labels == 1` a regression loss is computed (Mean-Square loss), If\u001b[39;00m\n\u001b[1;32m   <a href='file:///home/mdavid/Documents/42AI/SentimentalBB/venv/lib/python3.8/site-packages/transformers/models/roberta/modeling_roberta.py?line=1199'>1200</a>\u001b[0m \u001b[39m    `config.num_labels > 1` a classification loss is computed (Cross-Entropy).\u001b[39;00m\n\u001b[1;32m   <a href='file:///home/mdavid/Documents/42AI/SentimentalBB/venv/lib/python3.8/site-packages/transformers/models/roberta/modeling_roberta.py?line=1200'>1201</a>\u001b[0m \u001b[39m\"\"\"\u001b[39;00m\n\u001b[1;32m   <a href='file:///home/mdavid/Documents/42AI/SentimentalBB/venv/lib/python3.8/site-packages/transformers/models/roberta/modeling_roberta.py?line=1201'>1202</a>\u001b[0m return_dict \u001b[39m=\u001b[39m return_dict \u001b[39mif\u001b[39;00m return_dict \u001b[39mis\u001b[39;00m \u001b[39mnot\u001b[39;00m \u001b[39mNone\u001b[39;00m \u001b[39melse\u001b[39;00m \u001b[39mself\u001b[39m\u001b[39m.\u001b[39mconfig\u001b[39m.\u001b[39muse_return_dict\n\u001b[0;32m-> <a href='file:///home/mdavid/Documents/42AI/SentimentalBB/venv/lib/python3.8/site-packages/transformers/models/roberta/modeling_roberta.py?line=1203'>1204</a>\u001b[0m outputs \u001b[39m=\u001b[39m \u001b[39mself\u001b[39;49m\u001b[39m.\u001b[39;49mroberta(\n\u001b[1;32m   <a href='file:///home/mdavid/Documents/42AI/SentimentalBB/venv/lib/python3.8/site-packages/transformers/models/roberta/modeling_roberta.py?line=1204'>1205</a>\u001b[0m     input_ids,\n\u001b[1;32m   <a href='file:///home/mdavid/Documents/42AI/SentimentalBB/venv/lib/python3.8/site-packages/transformers/models/roberta/modeling_roberta.py?line=1205'>1206</a>\u001b[0m     attention_mask\u001b[39m=\u001b[39;49mattention_mask,\n\u001b[1;32m   <a href='file:///home/mdavid/Documents/42AI/SentimentalBB/venv/lib/python3.8/site-packages/transformers/models/roberta/modeling_roberta.py?line=1206'>1207</a>\u001b[0m     token_type_ids\u001b[39m=\u001b[39;49mtoken_type_ids,\n\u001b[1;32m   <a href='file:///home/mdavid/Documents/42AI/SentimentalBB/venv/lib/python3.8/site-packages/transformers/models/roberta/modeling_roberta.py?line=1207'>1208</a>\u001b[0m     position_ids\u001b[39m=\u001b[39;49mposition_ids,\n\u001b[1;32m   <a href='file:///home/mdavid/Documents/42AI/SentimentalBB/venv/lib/python3.8/site-packages/transformers/models/roberta/modeling_roberta.py?line=1208'>1209</a>\u001b[0m     head_mask\u001b[39m=\u001b[39;49mhead_mask,\n\u001b[1;32m   <a href='file:///home/mdavid/Documents/42AI/SentimentalBB/venv/lib/python3.8/site-packages/transformers/models/roberta/modeling_roberta.py?line=1209'>1210</a>\u001b[0m     inputs_embeds\u001b[39m=\u001b[39;49minputs_embeds,\n\u001b[1;32m   <a href='file:///home/mdavid/Documents/42AI/SentimentalBB/venv/lib/python3.8/site-packages/transformers/models/roberta/modeling_roberta.py?line=1210'>1211</a>\u001b[0m     output_attentions\u001b[39m=\u001b[39;49moutput_attentions,\n\u001b[1;32m   <a href='file:///home/mdavid/Documents/42AI/SentimentalBB/venv/lib/python3.8/site-packages/transformers/models/roberta/modeling_roberta.py?line=1211'>1212</a>\u001b[0m     output_hidden_states\u001b[39m=\u001b[39;49moutput_hidden_states,\n\u001b[1;32m   <a href='file:///home/mdavid/Documents/42AI/SentimentalBB/venv/lib/python3.8/site-packages/transformers/models/roberta/modeling_roberta.py?line=1212'>1213</a>\u001b[0m     return_dict\u001b[39m=\u001b[39;49mreturn_dict,\n\u001b[1;32m   <a href='file:///home/mdavid/Documents/42AI/SentimentalBB/venv/lib/python3.8/site-packages/transformers/models/roberta/modeling_roberta.py?line=1213'>1214</a>\u001b[0m )\n\u001b[1;32m   <a href='file:///home/mdavid/Documents/42AI/SentimentalBB/venv/lib/python3.8/site-packages/transformers/models/roberta/modeling_roberta.py?line=1214'>1215</a>\u001b[0m sequence_output \u001b[39m=\u001b[39m outputs[\u001b[39m0\u001b[39m]\n\u001b[1;32m   <a href='file:///home/mdavid/Documents/42AI/SentimentalBB/venv/lib/python3.8/site-packages/transformers/models/roberta/modeling_roberta.py?line=1215'>1216</a>\u001b[0m logits \u001b[39m=\u001b[39m \u001b[39mself\u001b[39m\u001b[39m.\u001b[39mclassifier(sequence_output)\n",
      "File \u001b[0;32m~/Documents/42AI/SentimentalBB/venv/lib/python3.8/site-packages/torch/nn/modules/module.py:1110\u001b[0m, in \u001b[0;36mModule._call_impl\u001b[0;34m(self, *input, **kwargs)\u001b[0m\n\u001b[1;32m   <a href='file:///home/mdavid/Documents/42AI/SentimentalBB/venv/lib/python3.8/site-packages/torch/nn/modules/module.py?line=1105'>1106</a>\u001b[0m \u001b[39m# If we don't have any hooks, we want to skip the rest of the logic in\u001b[39;00m\n\u001b[1;32m   <a href='file:///home/mdavid/Documents/42AI/SentimentalBB/venv/lib/python3.8/site-packages/torch/nn/modules/module.py?line=1106'>1107</a>\u001b[0m \u001b[39m# this function, and just call forward.\u001b[39;00m\n\u001b[1;32m   <a href='file:///home/mdavid/Documents/42AI/SentimentalBB/venv/lib/python3.8/site-packages/torch/nn/modules/module.py?line=1107'>1108</a>\u001b[0m \u001b[39mif\u001b[39;00m \u001b[39mnot\u001b[39;00m (\u001b[39mself\u001b[39m\u001b[39m.\u001b[39m_backward_hooks \u001b[39mor\u001b[39;00m \u001b[39mself\u001b[39m\u001b[39m.\u001b[39m_forward_hooks \u001b[39mor\u001b[39;00m \u001b[39mself\u001b[39m\u001b[39m.\u001b[39m_forward_pre_hooks \u001b[39mor\u001b[39;00m _global_backward_hooks\n\u001b[1;32m   <a href='file:///home/mdavid/Documents/42AI/SentimentalBB/venv/lib/python3.8/site-packages/torch/nn/modules/module.py?line=1108'>1109</a>\u001b[0m         \u001b[39mor\u001b[39;00m _global_forward_hooks \u001b[39mor\u001b[39;00m _global_forward_pre_hooks):\n\u001b[0;32m-> <a href='file:///home/mdavid/Documents/42AI/SentimentalBB/venv/lib/python3.8/site-packages/torch/nn/modules/module.py?line=1109'>1110</a>\u001b[0m     \u001b[39mreturn\u001b[39;00m forward_call(\u001b[39m*\u001b[39;49m\u001b[39minput\u001b[39;49m, \u001b[39m*\u001b[39;49m\u001b[39m*\u001b[39;49mkwargs)\n\u001b[1;32m   <a href='file:///home/mdavid/Documents/42AI/SentimentalBB/venv/lib/python3.8/site-packages/torch/nn/modules/module.py?line=1110'>1111</a>\u001b[0m \u001b[39m# Do not call functions when jit is used\u001b[39;00m\n\u001b[1;32m   <a href='file:///home/mdavid/Documents/42AI/SentimentalBB/venv/lib/python3.8/site-packages/torch/nn/modules/module.py?line=1111'>1112</a>\u001b[0m full_backward_hooks, non_full_backward_hooks \u001b[39m=\u001b[39m [], []\n",
      "File \u001b[0;32m~/Documents/42AI/SentimentalBB/venv/lib/python3.8/site-packages/transformers/models/roberta/modeling_roberta.py:816\u001b[0m, in \u001b[0;36mRobertaModel.forward\u001b[0;34m(self, input_ids, attention_mask, token_type_ids, position_ids, head_mask, inputs_embeds, encoder_hidden_states, encoder_attention_mask, past_key_values, use_cache, output_attentions, output_hidden_states, return_dict)\u001b[0m\n\u001b[1;32m    <a href='file:///home/mdavid/Documents/42AI/SentimentalBB/venv/lib/python3.8/site-packages/transformers/models/roberta/modeling_roberta.py?line=813'>814</a>\u001b[0m \u001b[39mif\u001b[39;00m \u001b[39mhasattr\u001b[39m(\u001b[39mself\u001b[39m\u001b[39m.\u001b[39membeddings, \u001b[39m\"\u001b[39m\u001b[39mtoken_type_ids\u001b[39m\u001b[39m\"\u001b[39m):\n\u001b[1;32m    <a href='file:///home/mdavid/Documents/42AI/SentimentalBB/venv/lib/python3.8/site-packages/transformers/models/roberta/modeling_roberta.py?line=814'>815</a>\u001b[0m     buffered_token_type_ids \u001b[39m=\u001b[39m \u001b[39mself\u001b[39m\u001b[39m.\u001b[39membeddings\u001b[39m.\u001b[39mtoken_type_ids[:, :seq_length]\n\u001b[0;32m--> <a href='file:///home/mdavid/Documents/42AI/SentimentalBB/venv/lib/python3.8/site-packages/transformers/models/roberta/modeling_roberta.py?line=815'>816</a>\u001b[0m     buffered_token_type_ids_expanded \u001b[39m=\u001b[39m buffered_token_type_ids\u001b[39m.\u001b[39;49mexpand(batch_size, seq_length)\n\u001b[1;32m    <a href='file:///home/mdavid/Documents/42AI/SentimentalBB/venv/lib/python3.8/site-packages/transformers/models/roberta/modeling_roberta.py?line=816'>817</a>\u001b[0m     token_type_ids \u001b[39m=\u001b[39m buffered_token_type_ids_expanded\n\u001b[1;32m    <a href='file:///home/mdavid/Documents/42AI/SentimentalBB/venv/lib/python3.8/site-packages/transformers/models/roberta/modeling_roberta.py?line=817'>818</a>\u001b[0m \u001b[39melse\u001b[39;00m:\n",
      "\u001b[0;31mRuntimeError\u001b[0m: The expanded size of the tensor (2470) must match the existing size (514) at non-singleton dimension 1.  Target sizes: [16, 2470].  Tensor sizes: [1, 514]"
     ]
    }
   ],
   "source": [
    "# Boucle d'entrainement\n",
    "for epoch in range(0, epochs):\n",
    "    print(\"\")\n",
    "    print(f'########## Epoch {epoch+1} / {epochs} ##########')\n",
    "    print('Training...')\n",
    " \n",
    "    # initialization of loss for the current epoch\n",
    "    total_train_loss = 0\n",
    " \n",
    "    # Calld of one round of 'training'\n",
    "    # Dans ce mode certaines couches du modele agissent differement\n",
    "    model.train()\n",
    "\n",
    "    # Pour chaque batch\n",
    "    for step, batch in enumerate(train_dataloader):\n",
    "        # On fait un print chaque 40 batchs\n",
    "        if step % 40 == 0 and not step == 0:\n",
    "            print(f'Batch {step} of {len(train_dataloader)}.')\n",
    "\n",
    "        # On recupere les donnees du batch\n",
    "        input_id = batch[0].to(device)\n",
    "        attention_mask = batch[1].to(device)\n",
    "        sentiment = batch[2].to(device)\n",
    "\n",
    "        # On met le gradient a 0\n",
    "        model.zero_grad()        \n",
    "\n",
    "        # On passe la donnee au model et on recupere la loss et le logits (sortie avant fonction d'activation)\n",
    "        loss, logits = model(input_id,\n",
    "                             token_type_ids=None,\n",
    "                             attention_mask=attention_mask,\n",
    "                             labels=sentiment)\n",
    "\n",
    "        # On incremente la loss totale\n",
    "        # .item() donne la valeur numerique de la loss\n",
    "        total_train_loss += loss.item()\n",
    "\n",
    "        # Backpropagtion\n",
    "        loss.backward()\n",
    "\n",
    "        # On actualise les parametrer grace a l'optimizer\n",
    "        optimizer.step()\n",
    "\n",
    "    # On calcule la  loss moyenne sur toute l'epoque\n",
    "    avg_train_loss = total_train_loss / len(train_dataloader)   \n",
    "\n",
    "    print(\"\")\n",
    "    print(f\"  Average training loss: {avg_train_loss:.2f}\")\n",
    "    \n",
    "    # Enregistrement des stats de l'epoque\n",
    "    training_stats.append({'epoch': epoch + 1,'Training Loss': avg_train_loss})\n",
    "\n",
    "print(\"Model saved!\")\n",
    "torch.save(model.state_dict(), \"./sentiments.pt\")"
   ]
  },
  {
   "cell_type": "code",
   "execution_count": null,
   "id": "60907149-cf52-4c2c-b144-fc5e97cfb588",
   "metadata": {},
   "outputs": [],
   "source": []
  },
  {
   "cell_type": "code",
   "execution_count": null,
   "id": "cdb8ab31-fa7e-442c-9da3-eea6495a67e0",
   "metadata": {},
   "outputs": [],
   "source": [
    "def preprocess(raw_reviews, sentiments=None):\n",
    "    encoded_batch = TOKENIZER.batch_encode_plus(raw_reviews,\n",
    "                                                truncation=True,\n",
    "                                                pad_to_max_length=True,\n",
    "                                                return_attention_mask=True,\n",
    "                                                return_tensors = 'pt')\n",
    "    if sentiments:\n",
    "        sentiments = torch.tensor(sentiments)\n",
    "        return encoded_batch['input_ids'], encoded_batch['attention_mask'], sentiments\n",
    "    return encoded_batch['input_ids'], encoded_batch['attention_mask']\n",
    " \n",
    "def predict(reviews, model=model):\n",
    "    with torch.no_grad():\n",
    "        model.eval()\n",
    "        input_ids, attention_mask = preprocess(reviews)\n",
    "        retour = model(input_ids, attention_mask=attention_mask)\n",
    "         \n",
    "        return torch.argmax(retour[0], dim=1)\n",
    " \n",
    " \n",
    "def evaluate(reviews, sentiments):\n",
    "    predictions = predict(reviews)\n",
    "    print(metrics.f1_score(sentiments, predictions, average='weighted', zero_division=0))\n",
    "    seaborn.heatmap(metrics.confusion_matrix(sentiments, predictions))"
   ]
  },
  {
   "cell_type": "code",
   "execution_count": null,
   "id": "d0bf2c40-4c37-40e2-8307-6be3e5ea0f26",
   "metadata": {},
   "outputs": [],
   "source": []
  }
 ],
 "metadata": {
  "kernelspec": {
   "display_name": "Python 3 (ipykernel)",
   "language": "python",
   "name": "python3"
  },
  "language_info": {
   "codemirror_mode": {
    "name": "ipython",
    "version": 3
   },
   "file_extension": ".py",
   "mimetype": "text/x-python",
   "name": "python",
   "nbconvert_exporter": "python",
   "pygments_lexer": "ipython3",
   "version": "3.8.10"
  }
 },
 "nbformat": 4,
 "nbformat_minor": 5
}
